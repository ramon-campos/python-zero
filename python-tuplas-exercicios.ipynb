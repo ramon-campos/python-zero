{
  "cells": [
    {
      "cell_type": "markdown",
      "metadata": {
        "id": "view-in-github",
        "colab_type": "text"
      },
      "source": [
        "<a href=\"https://colab.research.google.com/github/ramon-campos/python-zero/blob/main/python-tuplas-exercicios.ipynb\" target=\"_parent\"><img src=\"https://colab.research.google.com/assets/colab-badge.svg\" alt=\"Open In Colab\"/></a>"
      ]
    },
    {
      "cell_type": "markdown",
      "metadata": {
        "id": "-mhMpbhnPqi5"
      },
      "source": [
        "# **Exercícios de Tuplas em Python**"
      ]
    },
    {
      "cell_type": "markdown",
      "metadata": {
        "id": "6F9ZWaQwsEcS"
      },
      "source": [
        "## **Exercício 01**"
      ]
    },
    {
      "cell_type": "markdown",
      "metadata": {
        "id": "BSypkNqYR41J"
      },
      "source": [
        "Dada a tupla ```cardapio = ('Doce', 'Churrasco', 'Bala ', 'Tapioca', 'Pizza ', 'Feijão ', \n",
        "      'Arroz ', 'Açaí ', 'Paçoca ', 'Acarajé', 'Pamonha', 'Dobradinha', 'Rapadura')```, faça um programa que o usuário digita uma comida e o programa diz em qual posição do cardápio esse item está."
      ]
    },
    {
      "cell_type": "code",
      "source": [
        "\n",
        "cardapio = (\"Doce\", \"Churrasco\", \"Bala\", \"Tapioca\", \"Pizza\", \"Feijão\", \"Arroz\", \n",
        "      \"Açaí\", \"Paçoca\", \"Acarajé\", \"Pamonha\", \"Dobradinha\", \"Rapadura\")\n",
        "\n",
        "comida = input(\"Digite a comida desejada: \")\n",
        "\n",
        "print(\"{} está na posição {} do cardápio.\" .format(comida, cardapio.index(comida) + 1))"
      ],
      "metadata": {
        "id": "s9FlmJnpKiDX"
      },
      "execution_count": null,
      "outputs": []
    },
    {
      "cell_type": "markdown",
      "metadata": {
        "id": "AwfOkAessHx5"
      },
      "source": [
        "## **Exercício 02**"
      ]
    },
    {
      "cell_type": "markdown",
      "metadata": {
        "id": "PGL1a2EATGX2"
      },
      "source": [
        "Dada a tupla abaixo:\n",
        "```\n",
        "t1 = (\"Doce\", 2.3, \"Bala\", 0.15, \"Pizza\", 28.9, \"Arroz\", 4.5, \"Paçoca\", 0.5, \"Pamonha\", 5.4)\n",
        "```\n",
        "Os dados estão organizados de forma que tem o valor do produto e logo após o seu preço. Faça um programa que mostre o cardápio de forma organizada.\n",
        "\n",
        "Resultado esperado: \n",
        "\n",
        "![image.png](data:image/png;base64,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)"
      ]
    },
    {
      "cell_type": "code",
      "source": [
        "\n",
        "t1 = (\"Doce\", 2.3, \"Bala\", 0.15, \"Pizza\", 28.9, \"Arroz\", 4.5, \"Paçoca\", 0.5, \"Pamonha\", 5.4)\n",
        "\n",
        "print(\"-\" * 30)\n",
        "print(\"-\" * 10 + \" Cardápio \" + \"-\" * 10)\n",
        "print(\"-\" * 30)\n",
        "\n",
        "print(\"{}................ : R$ {}0\" .format(t1[0], t1[1]))\n",
        "print(\"{}................ : R$ {}\" .format(t1[2], t1[3]))\n",
        "print(\"{}............... : R${}0\" .format(t1[4], t1[5]))\n",
        "print(\"{}............... : R$ {}0\" .format(t1[6], t1[7]))\n",
        "print(\"{}.............. : R$ {}0\" .format(t1[8], t1[9]))\n",
        "print(\"{}............. : R$ {}0\" .format(t1[10], t1[11]))\n",
        "print(\"-\" * 30)"
      ],
      "metadata": {
        "id": "7CbDswNpP47V"
      },
      "execution_count": null,
      "outputs": []
    },
    {
      "cell_type": "markdown",
      "metadata": {
        "id": "kCzKKv2lsOC0"
      },
      "source": [
        "## Exercício 03"
      ]
    },
    {
      "cell_type": "markdown",
      "metadata": {
        "id": "gPtEDsZgVM5f"
      },
      "source": [
        "Dado a mesma tupla do exercício anterior faça um programa que:\n",
        "\n",
        "* O usuário visualiza o cardápio e digita qual item ele quer comprar. A seguir pergunta se ele quer algo a mais. Caso ele queira vai somando todos os valores do pedido numa variável `soma`. \n",
        "* No final printe para o usuário o valor total da conta dele."
      ]
    },
    {
      "cell_type": "code",
      "source": [
        "\n",
        "print(\"-\" * 30)\n",
        "print(\"-\" * 10 + \" Cardápio \" + \"-\" * 10)\n",
        "print(\"-\" * 30)\n",
        "\n",
        "print(\"{}................ : R$ {}0\" .format(t1[0], t1[1]))\n",
        "print(\"{}................ : R$ {}\" .format(t1[2], t1[3]))\n",
        "print(\"{}............... : R${}0\" .format(t1[4], t1[5]))\n",
        "print(\"{}............... : R$ {}0\" .format(t1[6], t1[7]))\n",
        "print(\"{}.............. : R$ {}0\" .format(t1[8], t1[9]))\n",
        "print(\"{}............. : R$ {}0\" .format(t1[10], t1[11]))\n",
        "print(\"-\" * 30)\n",
        "\n",
        "soma = 0\n",
        "continua = \"s\"\n",
        "\n",
        "while continua == \"s\":\n",
        "  pedido = input(\"\\nDigite o item do cardápio que deseja: \")\n",
        "  soma += float(t1[t1.index(pedido) + 1])\n",
        "  continua = input(\"Deseja pedir algo mais? (s/n): \")\n",
        "\n",
        "print(\"\\nO valor total do pedido é de R$ {}\" .format(soma))"
      ],
      "metadata": {
        "id": "adi8rOU8TNcb"
      },
      "execution_count": null,
      "outputs": []
    }
  ],
  "metadata": {
    "colab": {
      "name": "python-tuplas-exercicios.ipynb",
      "provenance": [],
      "include_colab_link": true
    },
    "kernelspec": {
      "display_name": "Python 3",
      "name": "python3"
    },
    "language_info": {
      "name": "python"
    }
  },
  "nbformat": 4,
  "nbformat_minor": 0
}