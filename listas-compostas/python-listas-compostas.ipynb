{
  "nbformat": 4,
  "nbformat_minor": 0,
  "metadata": {
    "colab": {
      "name": "python-listas-compostas.ipynb",
      "provenance": [],
      "toc_visible": true,
      "collapsed_sections": [],
      "include_colab_link": true
    },
    "kernelspec": {
      "name": "python3",
      "display_name": "Python 3"
    },
    "language_info": {
      "name": "python"
    }
  },
  "cells": [
    {
      "cell_type": "markdown",
      "metadata": {
        "id": "view-in-github",
        "colab_type": "text"
      },
      "source": [
        "<a href=\"https://colab.research.google.com/github/ramon-campos/python-zero/blob/main/python-listas-compostas.ipynb\" target=\"_parent\"><img src=\"https://colab.research.google.com/assets/colab-badge.svg\" alt=\"Open In Colab\"/></a>"
      ]
    },
    {
      "cell_type": "markdown",
      "metadata": {
        "id": "99zA4INuNrJx"
      },
      "source": [
        "# Python - Listas Compostas"
      ]
    },
    {
      "cell_type": "markdown",
      "source": [
        "As listas aceitam qualquer tipo de dado, até mesmo outras listas."
      ],
      "metadata": {
        "id": "ohCzzxUj1Z62"
      }
    },
    {
      "cell_type": "markdown",
      "source": [
        "## Como as Listas Compostas Funcionam"
      ],
      "metadata": {
        "id": "Vb1ulvwq2Jqt"
      }
    },
    {
      "cell_type": "markdown",
      "metadata": {
        "id": "z_X46qWcON0P"
      },
      "source": [
        "Imagine um cardápio com várias comidas com seus respectivos preços. O cardápio seria então uma lista com todas as comidas. Cada comida vai ser uma lista com o **nome da comida** e o seu **preço**.\n",
        "\n",
        "```\n",
        "comida_1 = ['Hambúrguer', 10.90] \n",
        "comida_2 = ['Batata', 5.50]\n",
        "comida_3 = ['Refrigerante', 3.90]\n",
        "cardapio = [comida_1, comida_2, comida_3]\n",
        "```\n",
        "Acessando os termos temos:\n",
        "```\n",
        "cardapio[0]    == comida_1 == ['Hambúrguer', 10.90]\n",
        "cardapio[0][1] == comida_1[1] == 10.90\n",
        "cardapio[2]    == comida_3 == ['Refrigerante', 3.90]\n",
        "cardapio[2][0] == comida_3[0] == 'Refrigerante'\n",
        "```\n",
        "Vamos pegar uma lista dentro de outra lista já declarada e vamos entender como funciona acessar seus termos."
      ]
    },
    {
      "cell_type": "markdown",
      "source": [
        "### Exemplo"
      ],
      "metadata": {
        "id": "9cQh69qV2Omn"
      }
    },
    {
      "cell_type": "markdown",
      "source": [
        "Dado a lista abaixo:\n",
        "```\n",
        "cardapio = [['Hambúrguer', 10.90], ['Batata', 5.50], ['Refrigerante', 3.90]]\n",
        "```\n",
        "Acesse os valores:\n",
        "1. `cardapio[0]`, `cardapio[1]` e `cardapio[2]`\n",
        "2. `cardapio[0][0]`, `cardapio[0][1]`, `cardapio[1][0]`, `cardapio[1][1]`\n",
        "\n",
        "Repare nos tipos de cada variável."
      ],
      "metadata": {
        "id": "RRSdKpts2UzH"
      }
    },
    {
      "cell_type": "code",
      "metadata": {
        "colab": {
          "base_uri": "https://localhost:8080/"
        },
        "id": "BA80Nqs7GO45",
        "outputId": "8d772bb9-57af-4813-e6c4-f6ffe7c27a1b"
      },
      "source": [
        "# Declarando a lista de listas:\n",
        "cardapio = [['Hambúrguer', 10.90], ['Batata', 5.50], ['Refrigerante', 3.90]]\n",
        "\n",
        "# Imprimindo os valores:\n",
        "print(f'cardapio[0] = {cardapio[0]}')\n",
        "print(f'cardapio[1] = {cardapio[1]}')\n",
        "print(f'cardapio[2] = {cardapio[2]}')\n",
        "print()\n",
        "print(f'cardapio[0][0] = {cardapio[0][0]}')\n",
        "print(f'cardapio[0][1] = {cardapio[0][1]}')\n",
        "print(f'cardapio[1][0] = {cardapio[1][0]}')\n",
        "print(f'cardapio[1][1] = {cardapio[1][1]}')"
      ],
      "execution_count": 6,
      "outputs": [
        {
          "output_type": "stream",
          "name": "stdout",
          "text": [
            "cardapio[0] = ['Hambúrguer', 10.9]\n",
            "cardapio[1] = ['Batata', 5.5]\n",
            "cardapio[2] = ['Refrigerante', 3.9]\n",
            "\n",
            "cardapio[0][0] = Hambúrguer\n",
            "cardapio[0][1] = 10.9\n",
            "cardapio[1][0] = Batata\n",
            "cardapio[1][1] = 5.5\n"
          ]
        }
      ]
    },
    {
      "cell_type": "markdown",
      "metadata": {
        "id": "8VHRSx9BRL83"
      },
      "source": [
        "Sempre que estamos acessando os valores dentro da lista: o **primeiro** `[ ]` vai acessar as posições mais externas da lista, o **segundo** `[ ]` vai acessar as posição da lista referente à lista do **primeiro** `[ ]` e assim por diante."
      ]
    },
    {
      "cell_type": "markdown",
      "source": [
        "## Declarando Listas Compostas"
      ],
      "metadata": {
        "id": "UTOG7_ie4qHc"
      }
    },
    {
      "cell_type": "markdown",
      "source": [
        "Para declarar uma lista composta basta colocar uma lista dentro de outra.\n",
        "\n",
        "```\n",
        "lista = [[listax], [listay]]\n",
        "```"
      ],
      "metadata": {
        "id": "mQTr3HSY1k5_"
      }
    },
    {
      "cell_type": "markdown",
      "source": [
        "### Declarando por Partes"
      ],
      "metadata": {
        "id": "LoPYq_dN473A"
      }
    },
    {
      "cell_type": "markdown",
      "metadata": {
        "id": "7jTzBPLYRoOI"
      },
      "source": [
        "Neste caso, declara-se cada item de dentro da lista principal e depois colocam-se seus valores dentro da lista principal. Para quem está começando é a forma mais simples de entender:\n",
        "\n",
        "```\n",
        "hamburguer = ['Hambúrguer', 10.90] \n",
        "batata = ['Batata', 5.50]\n",
        "refrigerante  = ['Refrigerante' , 3.90]\n",
        "cardapio = [hamburguer, batata, refri]\n",
        "```\n",
        "No exemplo acima foram criadas 3 variáveis para armazenar listas com as informações de cada comida. Em seguida, essas listas foram colocadas dentro da lista principal: cardapio."
      ]
    },
    {
      "cell_type": "markdown",
      "source": [
        "#### Exemplo"
      ],
      "metadata": {
        "id": "C4hGfy395IRo"
      }
    },
    {
      "cell_type": "markdown",
      "source": [
        "* Declare a lista do exemplo acima.\n",
        "* Imprima o valor da posição: `cardapio[1][0]`\n",
        "* Compare os valores: `lanche == cardapio[0]`"
      ],
      "metadata": {
        "id": "qn9cRuzQ5Nsm"
      }
    },
    {
      "cell_type": "code",
      "metadata": {
        "colab": {
          "base_uri": "https://localhost:8080/"
        },
        "id": "QCEOfLvYSoKp",
        "outputId": "ed7ede9c-e97a-4ff0-d87f-8d2338ecfc2e"
      },
      "source": [
        "# Declarando a lista de listas:\n",
        "hamburguer = ['Hambúrguer', 10.90]\n",
        "batata = ['Batata', 5.50]\n",
        "refrigerante = ['Refrigerante', 3.90]\n",
        "cardapio = [hamburguer, batata, refrigerante]\n",
        "\n",
        "# Imprimindo os valores:\n",
        "print(f'cardapio[1][0] = {cardapio[1][0]}')\n",
        "\n",
        "# Comparando valores\n",
        "hamburguer == cardapio[0]"
      ],
      "execution_count": 8,
      "outputs": [
        {
          "output_type": "stream",
          "name": "stdout",
          "text": [
            "cardapio[1][0] = Batata\n"
          ]
        },
        {
          "output_type": "execute_result",
          "data": {
            "text/plain": [
              "True"
            ]
          },
          "metadata": {},
          "execution_count": 8
        }
      ]
    },
    {
      "cell_type": "markdown",
      "source": [
        "### Declaração Direta"
      ],
      "metadata": {
        "id": "83Pt1Xfc5aq9"
      }
    },
    {
      "cell_type": "markdown",
      "metadata": {
        "id": "KcUlf4GvTGyC"
      },
      "source": [
        "No caso da declaração direta, declara-se tudo de uma só vez.\n",
        "\n",
        "```\n",
        "cardapio = [['Hambúrguer', 10.90], ['Batata', 5.50], ['Refrigerante' , 3.90]]\n",
        "```\n",
        "Já neste exemplo, nós temos o `[]` mais externo que é a lista mais externa, no qual cada posição dela vai acessar uma das 3 listas dentro do cardápio.\n",
        "\n",
        "Os `[]` mais internos são listas de cada uma das comidas do cardápio mostrando os nomes e preços de cada item do cardápio."
      ]
    },
    {
      "cell_type": "markdown",
      "source": [
        "#### Exemplo"
      ],
      "metadata": {
        "id": "FOtkUbO95koN"
      }
    },
    {
      "cell_type": "markdown",
      "source": [
        "* Declare a lista do exemplo acima.\n",
        "* Imprima o valor da posição: `cardapio[2]` e `cardapio[2][1]`"
      ],
      "metadata": {
        "id": "UjC7-w8d5mWQ"
      }
    },
    {
      "cell_type": "code",
      "metadata": {
        "colab": {
          "base_uri": "https://localhost:8080/"
        },
        "id": "BfQcMDvIUH8e",
        "outputId": "d9788fb6-956c-48a8-cf0d-faad4902f182"
      },
      "source": [
        "# Declarando a lista de listas:\n",
        "cardapio = [['Hambúrguer', 10.90], ['Batata', 5.50], ['Refrigerante', 3.90]]\n",
        "\n",
        "# Imprimindo os valores:\n",
        "print(f'cardapio[2] = {cardapio[2]}')\n",
        "print(f'cardapio[2][1] = {cardapio[2][1]}')"
      ],
      "execution_count": 10,
      "outputs": [
        {
          "output_type": "stream",
          "name": "stdout",
          "text": [
            "cardapio[2] = ['Refrigerante', 3.9]\n",
            "cardapio[2][1] = 3.9\n"
          ]
        }
      ]
    },
    {
      "cell_type": "markdown",
      "source": [
        "### Declaração com `.append()`"
      ],
      "metadata": {
        "id": "u75yiSFI5qRg"
      }
    },
    {
      "cell_type": "markdown",
      "metadata": {
        "id": "7CeCy-vNUb46"
      },
      "source": [
        "Podemos usar o `.append()` para inserir um novo item a uma lista.\n",
        "\n",
        "No caso de lista composta, podemos usar o `.append()` para inserir uma nova lista dentro da lista mais externa.\n",
        "\n",
        "```\n",
        "cardapio = []\n",
        "comida = []\n",
        "comida.append('Hambúrguer')\n",
        "comida.append(10.90)\n",
        "cardapio.append(comida[:])\n",
        "```\n",
        "Verifique que primeiro temos que declarar nossa lista externa cardapio como uma lista vazia.\n",
        "\n",
        "Em seguida, criamos uma lista com os itens, a lista `comida`.\n",
        "\n",
        "Finalmente, usamos o `.append()` para colocarmos esses valores dentro da lista externa `cardapio`."
      ]
    },
    {
      "cell_type": "markdown",
      "source": [
        "#### Exemplo"
      ],
      "metadata": {
        "id": "HKmHT-Mr5z3Y"
      }
    },
    {
      "cell_type": "markdown",
      "source": [
        "* Declare a lista `cardapio` inteira usando o `append()`\n",
        "* Imprima o valor da posição: `cardapio[0]` e `cardapio[0][1]`"
      ],
      "metadata": {
        "id": "-ErTZ2eb54Z7"
      }
    },
    {
      "cell_type": "code",
      "metadata": {
        "colab": {
          "base_uri": "https://localhost:8080/"
        },
        "id": "TeRFYEYKWR9o",
        "outputId": "0f1d0e0e-af0b-414e-b1a3-2be588fa17c2"
      },
      "source": [
        "# Declarando as listas:\n",
        "cardapio = []\n",
        "comida = []\n",
        "\n",
        "comida.append('Hambúrguer')\n",
        "comida.append(10.90)\n",
        "cardapio.append(comida[:])\n",
        "comida.clear()\n",
        "\n",
        "comida.append('Batata')\n",
        "comida.append(5.50)\n",
        "cardapio.append(comida[:])\n",
        "comida.clear()\n",
        "\n",
        "comida.append('Refrigerante')\n",
        "comida.append(3.90)\n",
        "cardapio.append(comida[:])\n",
        "comida.clear()\n",
        "\n",
        "# Imprimindo os valores:\n",
        "print(f'cardapio = {cardapio}\\n')\n",
        "print(f'cardapio[0] = {cardapio[0]}')\n",
        "print(f'cardapio[0][1] = {cardapio[0][1]}') "
      ],
      "execution_count": 16,
      "outputs": [
        {
          "output_type": "stream",
          "name": "stdout",
          "text": [
            "cardapio = [['Hambúrguer', 10.9], ['Batata', 5.5], ['Refrigerante', 3.9]]\n",
            "\n",
            "cardapio[0] = ['Hambúrguer', 10.9]\n",
            "cardapio[0][1] = 10.9\n"
          ]
        }
      ]
    },
    {
      "cell_type": "markdown",
      "metadata": {
        "id": "FXb_wmSFXCLR"
      },
      "source": [
        "Observe que tivemos que usar um método novo:\n",
        "No código acima foi necessário utilizar um novo método: `var.clear()`.\n",
        "\n",
        "Esse método limpa a memória da variável, eliminando todos os valores que existam dentro dela. É um método muito útil ao criar variáveis temporárias."
      ]
    },
    {
      "cell_type": "markdown",
      "source": [
        "### Exercício"
      ],
      "metadata": {
        "id": "cLRXhJo16CYT"
      }
    },
    {
      "cell_type": "markdown",
      "source": [
        "Usando o método do `append()` e `loops` crie uma lista composta na qual o usuário irá fornecer os termos:\n",
        "\n",
        "* A lista externa deve ter 3 itens.\n",
        "* A lista interna deve ter 2 itens cada."
      ],
      "metadata": {
        "id": "H7YItvQd6JpW"
      }
    },
    {
      "cell_type": "code",
      "source": [
        "# Declarando as listas\n",
        "cardapio_shakes = []\n",
        "shake = []\n",
        "\n",
        "for i in range(0, 3):\n",
        "  shake.append(str(input(f'Digite o sabor do Shake #{i+1}: ')))\n",
        "  shake.append(float(input('Digite o preço: ')))\n",
        "  cardapio_shakes.append(shake[:])\n",
        "  shake.clear()\n",
        "  print('Shake cadastrado!\\n')\n",
        "\n",
        "print(f'cardapio_shakes = {cardapio_shakes}')"
      ],
      "metadata": {
        "colab": {
          "base_uri": "https://localhost:8080/"
        },
        "id": "qMQx3SzW9BhJ",
        "outputId": "de28e016-0d1d-44a6-9ae5-539d19c9aee8"
      },
      "execution_count": 27,
      "outputs": [
        {
          "output_type": "stream",
          "name": "stdout",
          "text": [
            "Digite o sabor do Shake #1: Baunilha\n",
            "Digite o preço: 10.90\n",
            "Shake cadastrado!\n",
            "\n",
            "Digite o sabor do Shake #2: Morango\n",
            "Digite o preço: 12.90\n",
            "Shake cadastrado!\n",
            "\n",
            "Digite o sabor do Shake #3: Oreo\n",
            "Digite o preço: 14.90\n",
            "Shake cadastrado!\n",
            "\n",
            "cardapio_shakes = [['Baunilha', 10.9], ['Morango', 12.9], ['Oreo', 14.9]]\n"
          ]
        }
      ]
    },
    {
      "cell_type": "markdown",
      "source": [
        "## Acessando Valores de uma Lista Composta"
      ],
      "metadata": {
        "id": "7R9xOlUM6T0a"
      }
    },
    {
      "cell_type": "markdown",
      "source": [
        "Para acessar os valores de uma lista composta é só usar os `[ ]`.\n",
        "\n",
        "Sempre é acessada da lista mais externa para a mais interna."
      ],
      "metadata": {
        "id": "n27q4VJF6alM"
      }
    },
    {
      "cell_type": "markdown",
      "source": [
        "### Acesso Direto"
      ],
      "metadata": {
        "id": "5qmvcuxg6zeq"
      }
    },
    {
      "cell_type": "markdown",
      "metadata": {
        "id": "_ANFXPRQYbDr"
      },
      "source": [
        "Para acessar as listas é só colocar a posição da lista desejada no primeiro `[ ]`\n",
        "\n",
        "```\n",
        "cardapio[0]    == ['Hambúrguer', 10.90]\n",
        "cardapio[1]    == ['Batata', 5.50]\n",
        "cardapio[2]    == ['Refrigerante' , 3.90]\n",
        "```\n",
        "Para acessar os valores dentro das listas basta colocar a posição do valor da lista desejada no segundo `[ ]`\n",
        "\n",
        "```\n",
        "cardapio[0][1] == 10.9\n",
        "cardapio[1][0] == 'Batata'\n",
        "cardapio[2][0] == 'Refrigerante' \n",
        "```"
      ]
    },
    {
      "cell_type": "markdown",
      "source": [
        "### Exemplo"
      ],
      "metadata": {
        "id": "pKB_4U_U646I"
      }
    },
    {
      "cell_type": "markdown",
      "source": [
        "Dado a lista anterior, `cardapio, acesse os valores listados acima."
      ],
      "metadata": {
        "id": "zaeMnmWH69gb"
      }
    },
    {
      "cell_type": "code",
      "metadata": {
        "colab": {
          "base_uri": "https://localhost:8080/"
        },
        "id": "h50tsbqTZCNq",
        "outputId": "de27858a-d6e8-4e8e-873e-f752f8a3ec64"
      },
      "source": [
        "# Acessando as listas:\n",
        "print(cardapio[0])\n",
        "print(cardapio[1])\n",
        "print(cardapio[2])\n",
        "\n",
        "# Acessando os valores dentro das listas: \n",
        "print(cardapio[0][1])\n",
        "print(cardapio[1][0])\n",
        "print(cardapio[2][0])"
      ],
      "execution_count": 28,
      "outputs": [
        {
          "output_type": "stream",
          "name": "stdout",
          "text": [
            "['Hambúrguer', 10.9]\n",
            "['Batata', 5.5]\n",
            "['Refrigerante', 3.9]\n",
            "10.9\n",
            "Batata\n",
            "Refrigerante\n"
          ]
        }
      ]
    },
    {
      "cell_type": "markdown",
      "source": [
        "## Acessando Valores com um `for`"
      ],
      "metadata": {
        "id": "_aV80giV7DLW"
      }
    },
    {
      "cell_type": "markdown",
      "metadata": {
        "id": "1sllZVncZsAv"
      },
      "source": [
        "Assim como podemos declarar os valores dentro de loops, também podemos acessá-los.\n",
        "```\n",
        "for c in cardapio:\n",
        "  print(f'c = {c}, c[0] = {c[0]}, c[1] = {c[1]}')\n",
        "```\n",
        "Basicamente o funcionamento do for é: Para cada `lista c` dentro de `cardapio`, plote a posição `[pos]` dessa lista."
      ]
    },
    {
      "cell_type": "markdown",
      "source": [
        "### Exemplo"
      ],
      "metadata": {
        "id": "FajbEnyT7V54"
      }
    },
    {
      "cell_type": "markdown",
      "source": [
        "Dado a lista anterior, `cardapio`, acesse:\n",
        "* Todos os nomes no cardápio\n",
        "* Todos os preços no cardápio"
      ],
      "metadata": {
        "id": "hRig3vEb7aW8"
      }
    },
    {
      "cell_type": "code",
      "source": [
        "print('Acessando todos os itens do cardápio:\\n')\n",
        "for i, c in enumerate(cardapio):\n",
        "  print(f'--> cardapio[{i}] = {c}')\n",
        "print()\n",
        "\n",
        "print('Acessando todos os nomes dos itens do cardápio:\\n')\n",
        "for i, c in enumerate(cardapio):\n",
        "  print(f'--> cardapio[{i}][0] = {cardapio[i][0]}')\n",
        "print()\n",
        "\n",
        "print('Acessando todos os preços dos itens do cardápio:\\n')\n",
        "for i, c in enumerate(cardapio):\n",
        "  print(f'--> cardapio[{i}][1] = {cardapio[i][1]}')\n"
      ],
      "metadata": {
        "colab": {
          "base_uri": "https://localhost:8080/"
        },
        "id": "wDXg3_VCH8Cy",
        "outputId": "025a872f-308c-4ddc-8599-f608e95895a3"
      },
      "execution_count": 48,
      "outputs": [
        {
          "output_type": "stream",
          "name": "stdout",
          "text": [
            "Acessando todos os itens do cardápio:\n",
            "\n",
            "--> cardapio[0] = ['Hambúrguer', 10.9]\n",
            "--> cardapio[1] = ['Batata', 5.5]\n",
            "--> cardapio[2] = ['Refrigerante', 3.9]\n",
            "\n",
            "Acessando todos os nomes dos itens do cardápio:\n",
            "\n",
            "--> cardapio[0][0] = Hambúrguer\n",
            "--> cardapio[1][0] = Batata\n",
            "--> cardapio[2][0] = Refrigerante\n",
            "\n",
            "Acessando todos os preços dos itens do cardápio:\n",
            "\n",
            "--> cardapio[0][1] = 10.9\n",
            "--> cardapio[1][1] = 5.5\n",
            "--> cardapio[2][1] = 3.9\n"
          ]
        }
      ]
    }
  ]
}