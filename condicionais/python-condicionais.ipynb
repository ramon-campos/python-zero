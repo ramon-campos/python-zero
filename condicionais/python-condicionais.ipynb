{
  "nbformat": 4,
  "nbformat_minor": 0,
  "metadata": {
    "colab": {
      "name": "python-condicionais.ipynb",
      "provenance": [],
      "toc_visible": true,
      "collapsed_sections": [],
      "include_colab_link": true
    },
    "kernelspec": {
      "name": "python3",
      "display_name": "Python 3"
    },
    "language_info": {
      "name": "python"
    }
  },
  "cells": [
    {
      "cell_type": "markdown",
      "metadata": {
        "id": "view-in-github",
        "colab_type": "text"
      },
      "source": [
        "<a href=\"https://colab.research.google.com/github/ramon-campos/python-zero/blob/main/python-condicionais.ipynb\" target=\"_parent\"><img src=\"https://colab.research.google.com/assets/colab-badge.svg\" alt=\"Open In Colab\"/></a>"
      ]
    },
    {
      "cell_type": "markdown",
      "source": [
        "# Condicionais"
      ],
      "metadata": {
        "id": "7UzA6dYqK0CO"
      }
    },
    {
      "cell_type": "markdown",
      "metadata": {
        "id": "xGapo2vByPhu"
      },
      "source": [
        "As estruturas condicionais são utilizados para fazer comparações. Caso elas sejam verdadeiras, o programa faz determinadas ações e, caso elas sejam falsas, o programa faz outras ações."
      ]
    },
    {
      "cell_type": "markdown",
      "metadata": {
        "id": "e8uNOgEFyfu7"
      },
      "source": [
        "## Comparadores"
      ]
    },
    {
      "cell_type": "markdown",
      "metadata": {
        "id": "9MP8VLmcymuB"
      },
      "source": [
        "<b> Os principais comparadores utilizados são:</b><br>\n",
        "\n",
        "> a `==` b : Verifica se ***a*** é igual a ***b*** \n",
        "\n",
        "> a `!=` b : Verifica se ***a*** é diferente de ***b*** \n",
        "\n",
        "> a `> ` b : Verifica se ***a*** é maior que ***b*** \n",
        "\n",
        "> a `>=` b : Verifica se ***a*** é maior ou igual a ***b*** \n",
        "\n",
        "> a `< ` b : Verifica se ***a*** é menor que ***b*** \n",
        "\n",
        "> a `<=` b : Verifica se ***a*** é menor ou igual a ***b*** \n",
        "\n",
        "A resposta da comparação sempre será booleana: `True` | `False`"
      ]
    },
    {
      "cell_type": "markdown",
      "metadata": {
        "id": "DzLvGpYc1w-J"
      },
      "source": [
        "### Exercícios"
      ]
    },
    {
      "cell_type": "markdown",
      "metadata": {
        "id": "WDXElJix2Tk6"
      },
      "source": [
        "**1. Faça um programa que solicite que o usuário digite dois números e compare se eles são iguais.**"
      ]
    },
    {
      "cell_type": "code",
      "source": [
        "# Solicitando os números ao usuário:\n",
        "n1 = float(input('Digite o primeiro número: '))\n",
        "n2 = float(input('Digite o segundo número: '))\n",
        "\n",
        "# Imprimindo o resultado da comparação:\n",
        "print('O primeiro e o segundo número são iguais?')\n",
        "print('Resposta:', n1 == n2)"
      ],
      "metadata": {
        "id": "efPfdVyF8r32"
      },
      "execution_count": null,
      "outputs": []
    },
    {
      "cell_type": "markdown",
      "source": [
        "\n",
        "\n",
        "---\n",
        "\n"
      ],
      "metadata": {
        "id": "n4R7_usD_bZx"
      }
    },
    {
      "cell_type": "markdown",
      "metadata": {
        "id": "xbsjrO1u3HjN"
      },
      "source": [
        "**2. Compare se o primeiro número digitado é maior ou igual ao segundo número.**"
      ]
    },
    {
      "cell_type": "code",
      "source": [
        "# Imprimindo o resultado da comparação:\n",
        "print('Pergunta: O primeiro número é maior ou igual ao segundo número?')\n",
        "print('Resposta:', n1 >= n2)"
      ],
      "metadata": {
        "id": "mKI7mO3F-HGC"
      },
      "execution_count": null,
      "outputs": []
    },
    {
      "cell_type": "markdown",
      "source": [
        "\n",
        "\n",
        "---\n",
        "\n"
      ],
      "metadata": {
        "id": "gcTSwe-S_lOE"
      }
    },
    {
      "cell_type": "markdown",
      "metadata": {
        "id": "DI8FF9DM3n-7"
      },
      "source": [
        "**3. Faça um programa em que o usuário deve inserir a quantidade de hambúrguer e a quantidade de batata que ele deseja pedir. Então, peça para o usuário digitar o quanto de dinheiro ele tem na carteira e verifique se ele vai conseguir pagar pelo pedido. Considere o preço do hambúrguer igual a 10,90 e o preço da batata igual a 5,40.**"
      ]
    },
    {
      "cell_type": "code",
      "source": [
        "# Declarando as variáveis:\n",
        "hamburguer_preco = 10.90\n",
        "batata_preco = 5.40\n",
        "hamburguer_qtd = int\n",
        "batata_qtd = int\n",
        "carteira_saldo = float\n",
        "\n",
        "# Solicitando ao usuário a quantidade de cada item:\n",
        "hamburguer_qtd = int(input('Informe a quantidade de hambúrguer: '))\n",
        "batata_qtd = int(input('Informe a quantidade de batata: '))\n",
        "\n",
        "# Solicitando ao usuário o seu saldo na carteira:\n",
        "carteira_saldo = float(input('Informe o quanto de dinheiro você tem na carteira: R$ '))\n",
        "\n",
        "# Calculando o custo total:\n",
        "custo_total = hamburguer_preco * hamburguer_qtd + batata_preco * batata_qtd\n",
        "\n",
        "# Imprimindo o resultado:\n",
        "print('O custo total foi de R$', custo_total)\n",
        "print('O usuário conseguirá pagar pelo pedido?', carteira_saldo >= custo_total)"
      ],
      "metadata": {
        "id": "jm4FYGRp_ukv"
      },
      "execution_count": null,
      "outputs": []
    },
    {
      "cell_type": "markdown",
      "source": [
        "\n",
        "\n",
        "---\n"
      ],
      "metadata": {
        "id": "8Ev49c1hDd-H"
      }
    },
    {
      "cell_type": "markdown",
      "source": [
        "## Condicionais Simples"
      ],
      "metadata": {
        "id": "6YlFG4QvLE4f"
      }
    },
    {
      "cell_type": "markdown",
      "metadata": {
        "id": "ah4rntx_4-HA"
      },
      "source": [
        "As condicionais simples possuem somente 2 caminhos para se seguir: o caminho verdadeiro e o falso. Após fazer a condição pelo IF, o programa vai seguir caminhos diferentes."
      ]
    },
    {
      "cell_type": "markdown",
      "source": [
        "### Estrutura"
      ],
      "metadata": {
        "id": "oAFXudHELJX1"
      }
    },
    {
      "cell_type": "markdown",
      "metadata": {
        "id": "gKqBhf-85ktK"
      },
      "source": [
        "```\n",
        "if condicao:\n",
        "  bloco verdadeiro\n",
        "else:\n",
        "  bloco falso\n",
        "```\n",
        "\n",
        "**Pontos de atenção**:\n",
        "\n",
        "*   Não esqueça dos `:`\n",
        "*   Não esqueça da `indentação`"
      ]
    },
    {
      "cell_type": "markdown",
      "source": [
        "### Exemplo #1"
      ],
      "metadata": {
        "id": "bzTrZcKqLP1v"
      }
    },
    {
      "cell_type": "markdown",
      "metadata": {
        "id": "0di5lY497D3F"
      },
      "source": [
        "Dadas as variáveis:\n",
        "\n",
        "a = 2\n",
        "\n",
        "b = 3\n",
        "\n",
        "Compare se a == b e imprima uma mensagem sobre o resultado."
      ]
    },
    {
      "cell_type": "code",
      "source": [
        "# Declarando as variáveis:\n",
        "a = 2\n",
        "b = 3\n",
        "\n",
        "# Comparando\n",
        "if a == b:\n",
        "  print('Sim, {} é igual a {}.' .format(a, b))\n",
        "else:\n",
        "  print('Não, {} não é igual a {}.' .format(a, b))"
      ],
      "metadata": {
        "id": "2u6bHyeOEfxf"
      },
      "execution_count": null,
      "outputs": []
    },
    {
      "cell_type": "markdown",
      "source": [
        "### Exemplo #2"
      ],
      "metadata": {
        "id": "1fjpI365LVJE"
      }
    },
    {
      "cell_type": "markdown",
      "metadata": {
        "id": "XPdDrqoV8ZbC"
      },
      "source": [
        "1. Faça um programa que peça para o usuário digitar dois números e:\n",
        "\n",
        "*   Se num1 >= num2, então multiplique o num2 por 5\n",
        "*   Caso contrário, multiplique o num1 por 5"
      ]
    },
    {
      "cell_type": "code",
      "source": [
        "# Declarando as variáveis:\n",
        "num1 = float\n",
        "num2 = float\n",
        "\n",
        "# Solicitando ao usuário que digite o valor de num1 e de num2:\n",
        "num1 = float(input('Digite o valor de num1: '))\n",
        "num2 = float(input('Digite o valor de num2: '))\n",
        "\n",
        "# Comparando\n",
        "print()\n",
        "if num1 >= num2:\n",
        "  print('O número {} é maior ou igual a {}' .format(num1,num2))\n",
        "  print('{} * 5 = {}' .format(num2, num2 * 5))\n",
        "else:\n",
        "  print('O número {} é menor que {}' .format(num1,num2))\n",
        "  print('{} * 5 = {}' .format(num1, num1 * 5))"
      ],
      "metadata": {
        "id": "m-qeaZ_GFsvl"
      },
      "execution_count": null,
      "outputs": []
    },
    {
      "cell_type": "markdown",
      "source": [
        "## Condicionais Aninhadas"
      ],
      "metadata": {
        "id": "czW1-UPUKkN6"
      }
    },
    {
      "cell_type": "markdown",
      "metadata": {
        "id": "53hsil9C-ubq"
      },
      "source": [
        "Essas condicionais são utilizados quando não temos somente 2 casos (True e False), mas sim quando temos vários casos"
      ]
    },
    {
      "cell_type": "markdown",
      "source": [
        "### Estrutura"
      ],
      "metadata": {
        "id": "pL3x1SAmKqDu"
      }
    },
    {
      "cell_type": "markdown",
      "metadata": {
        "id": "fzn37wwE-9pV"
      },
      "source": [
        "```\n",
        "if condicao1:\n",
        "  bloco condicao1 verdadeiro\n",
        "elif condicao2:\n",
        "  bloco condicao2 verdadeiro\n",
        "  .\n",
        "  .\n",
        "  .\n",
        "else:\n",
        "  bloco falso\n",
        "```"
      ]
    },
    {
      "cell_type": "markdown",
      "source": [
        "### Exemplo #1"
      ],
      "metadata": {
        "id": "x9J28JPqKdC_"
      }
    },
    {
      "cell_type": "markdown",
      "metadata": {
        "id": "mkkDTQw8_Ttd"
      },
      "source": [
        "Dadas as variáveis:\n",
        "\n",
        "a = 2\n",
        "\n",
        "b = 3\n",
        "\n",
        "Compare e mostre para o usuário se uma é igual a outra ou se uma é maior que a outra, e neste caso, qual é a maior."
      ]
    },
    {
      "cell_type": "code",
      "metadata": {
        "id": "IeYvZN8C-8lA"
      },
      "source": [
        "# Declarando as variáveis:\n",
        "a = 2\n",
        "b = 3\n",
        "\n",
        "# Comparando\n",
        "if a > b:\n",
        "  print('{} é maior que {}' .format(a, b))\n",
        "elif a < b:\n",
        "  print('{} é menor que {}' .format(a, b))\n",
        "else:\n",
        "  print('{} é igual a {}' .format(a, b))"
      ],
      "execution_count": null,
      "outputs": []
    },
    {
      "cell_type": "markdown",
      "source": [
        "### Exemplo #2"
      ],
      "metadata": {
        "id": "2crJloeZKVVV"
      }
    },
    {
      "cell_type": "markdown",
      "metadata": {
        "id": "5WAZpJMH_-kA"
      },
      "source": [
        "Faça um programa no qual o usuário vai digitar dois números e o programa fará essas comparações.\n",
        "\n"
      ]
    },
    {
      "cell_type": "code",
      "metadata": {
        "id": "keKfaHQ4AKbX"
      },
      "source": [
        "# Declarando as variáveis:\n",
        "c = int\n",
        "d = int\n",
        "\n",
        "# Solicitando os números ao usuário:\n",
        "c = int(input('Digite um número: '))\n",
        "d = int(input('Digite outro número: '))\n",
        "\n",
        "# Comparando:\n",
        "if c > d:\n",
        "  print('{} é maior que {}' .format(c, d))\n",
        "elif c < d:\n",
        "  print('{} é menor que {}' .format(c, d))\n",
        "else:\n",
        "  print('{} é igual a {}' .format(c, d))"
      ],
      "execution_count": null,
      "outputs": []
    },
    {
      "cell_type": "markdown",
      "source": [
        "### Exemplo #3"
      ],
      "metadata": {
        "id": "EjjvNnv7KOwr"
      }
    },
    {
      "cell_type": "markdown",
      "metadata": {
        "id": "QdSZJR_xApNo"
      },
      "source": [
        "Faça um programa em que o usuário vai digitar a vontade do que ele está de comer alguma coisa.\n",
        "\n",
        "Caso este input seja:\n",
        "\n",
        "* Lanche : então imprima : \"Vá ao Mc Donalds\"\n",
        "\n",
        "* Pizza : então imprima : \"Vá ao Pizza Hut\"\n",
        "\n",
        "* Mexicano : então imprima : \"Vá ao Taco Bell\"\n",
        "\n",
        "* Caso contrário : então imprima: \"Tente novamente\""
      ]
    },
    {
      "cell_type": "code",
      "metadata": {
        "id": "5OWad-opOwpv"
      },
      "source": [
        "# Perguntando ao usuário o que ele deseja comer:\n",
        "desejo = input('O que deseja comer? ')\n",
        "\n",
        "# Comparando\n",
        "if desejo == 'Lanche':\n",
        "  print('Vá ao Mc Donalds')\n",
        "elif desejo == 'Pizza':\n",
        "  print('Vá ao Pizza Hut')\n",
        "elif desejo == 'Mexicano':\n",
        "  print('Vá ao Taco Bell')\n",
        "else:\n",
        "  print('Tente novamente')"
      ],
      "execution_count": null,
      "outputs": []
    },
    {
      "cell_type": "markdown",
      "source": [
        "## Operadores Lógicos"
      ],
      "metadata": {
        "id": "CSqj9RRxLkpf"
      }
    },
    {
      "cell_type": "markdown",
      "metadata": {
        "id": "t4oWC7VVdRJS"
      },
      "source": [
        "Os operadores lógicos são usados quando precisamos de múltiplas condições em 1 só IF.\n",
        ">**`and`**: ambas as condições precisam ser satisfeitas simultaneamente\n",
        "\n",
        ">**`or`**: pelo menos 1 condição precisa ser satisfeita\n",
        "\n",
        "```\n",
        "True and True : True\n",
        "True and False : False\n",
        "True or False : True\n",
        "False or True : True\n",
        "False or False : False\n",
        "```"
      ]
    },
    {
      "cell_type": "markdown",
      "source": [
        "### Exemplo #1"
      ],
      "metadata": {
        "id": "Xf6kOfv2Xbqz"
      }
    },
    {
      "cell_type": "markdown",
      "metadata": {
        "id": "IC46_mpQdUVn"
      },
      "source": [
        "Se eu tiver mais que 20 reais e o preço do lanche for menor que 10 reais então eu irei comprar o lanche:"
      ]
    },
    {
      "cell_type": "code",
      "metadata": {
        "id": "Zxpqgg6EdOvB"
      },
      "source": [
        "lanche_preco = 9.90\n",
        "carteira_saldo = 25\n",
        "\n",
        "if carteira_saldo > 20 and lanche_preco < 10:\n",
        "  print('Eu vou comprar o lanche.')\n",
        "else:\n",
        "  print('Eu não vou comprar o lanche.')"
      ],
      "execution_count": null,
      "outputs": []
    },
    {
      "cell_type": "markdown",
      "source": [
        "### Exemplo #2"
      ],
      "metadata": {
        "id": "pKbp6xY1XY0y"
      }
    },
    {
      "cell_type": "markdown",
      "metadata": {
        "id": "IxMylkajdYS0"
      },
      "source": [
        "Se você tiver média nas notas > 7 ou nota na prova final > 7, então você está aprovado."
      ]
    },
    {
      "cell_type": "code",
      "metadata": {
        "id": "19bwS1gQdZyR"
      },
      "source": [
        "# Declarando as variáveis:\n",
        "nota_1 = 0\n",
        "nota_2 = 0\n",
        "nota_final = 0\n",
        "media = 0\n",
        "\n",
        "# Solicitando as notas:\n",
        "nota_1 = float(input('Digite a primeira nota: '))\n",
        "nota_2 = float(input('Digite a segunda nota: '))\n",
        "\n",
        "# Calculando a média:\n",
        "media = (nota_1 + nota_2) / 2\n",
        "\n",
        "# Tratando a nota final:\n",
        "if media < 7.0:\n",
        "    print()\n",
        "    nota_final = float(input('Digite a nota final: '))\n",
        "\n",
        "# Comparando e calculando o resultado\n",
        "if media >= 7.0 or nota_final >= 7.0:\n",
        "    print()\n",
        "    print('Aprovado')\n",
        "else:\n",
        "    print()\n",
        "    print('Reprovado')\n"
      ],
      "execution_count": null,
      "outputs": []
    },
    {
      "cell_type": "markdown",
      "source": [
        "## Verificando Variáveis"
      ],
      "metadata": {
        "id": "uG_eQMFVXU2J"
      }
    },
    {
      "cell_type": "markdown",
      "metadata": {
        "id": "Z2n03UzbdcoG"
      },
      "source": [
        "Esta funcionalidade é muito usada para testar e saber se podemos converter as variáveis dadas pelo usuário."
      ]
    },
    {
      "cell_type": "markdown",
      "metadata": {
        "id": "r25150ecdfBN"
      },
      "source": [
        "> `.isnumeric( )` : #o input é numérico\n",
        "\n",
        "> `.isalpha( )` : #o input é texto\n",
        "\n",
        "> `.isalnum( )` : #o input é texto + num"
      ]
    },
    {
      "cell_type": "markdown",
      "source": [
        "### Exemplo"
      ],
      "metadata": {
        "id": "KmxggKiJXj5R"
      }
    },
    {
      "cell_type": "markdown",
      "metadata": {
        "id": "NMkrrJUtdhBM"
      },
      "source": [
        "Peça para o usuário digitar alguma coisa e verifique o que é:"
      ]
    },
    {
      "cell_type": "code",
      "metadata": {
        "id": "gNz1JXhwdi-8"
      },
      "source": [
        "alguma_coisa = input('Digite alguma coisa: ')\n",
        "print()\n",
        "print('Todos os caracteres da string são numéricos?', alguma_coisa.isnumeric())\n",
        "print('Todos os caracteres da string são do alfabeto?', alguma_coisa.isalpha())\n",
        "print('Todos os caracteres da string são alfanumérico (contém letras ou números)?', alguma_coisa.isalnum())"
      ],
      "execution_count": null,
      "outputs": []
    },
    {
      "cell_type": "markdown",
      "metadata": {
        "id": "KOZpI7mldj_Z"
      },
      "source": [
        "## Exercícios"
      ]
    },
    {
      "cell_type": "markdown",
      "source": [
        "### Exercício #1"
      ],
      "metadata": {
        "id": "oPV_Ts1BXwYN"
      }
    },
    {
      "cell_type": "markdown",
      "metadata": {
        "id": "HZZy1W73doX-"
      },
      "source": [
        "Faça um programa que verifique se o usuário digitou um valor numérico ou não.\n",
        "\n",
        "* Caso Verdadeiro, imprima: 'Esse input é um número'\n",
        "\n",
        "* Caso Falso, imprima: 'Esse input não é um número, tente novamente'\n"
      ]
    },
    {
      "cell_type": "code",
      "metadata": {
        "id": "yel1IF1ydpzs"
      },
      "source": [
        "# Solicitando a informação ao usuário:\n",
        "digito = input('Digite algo: ')\n",
        "\n",
        "# Analisando e exibindo o resultado:\n",
        "if digito.isnumeric():\n",
        "  print()\n",
        "  print('A informação digitada é um número.')\n",
        "else:\n",
        "  print('A informação digitada não é um número. Tente novamente.')"
      ],
      "execution_count": null,
      "outputs": []
    },
    {
      "cell_type": "markdown",
      "source": [
        "### Exercício 02"
      ],
      "metadata": {
        "id": "GLvj8xjNX1N8"
      }
    },
    {
      "cell_type": "markdown",
      "metadata": {
        "id": "O-bH-WFKdrK9"
      },
      "source": [
        "Peça para o usuário digitar um número e verifique se ele é par e imprima para o usuário essa informação.\n",
        "\n",
        "Dica: números pares quando são divididos por 2 possuem resto = 0"
      ]
    },
    {
      "cell_type": "code",
      "metadata": {
        "id": "5hllpCqKds-_"
      },
      "source": [
        "## Solicitando a informação ao usuário:\n",
        "numero = int(input('Digite um número: '))\n",
        "\n",
        "# Analisando e exibindo o resultado:\n",
        "if numero % 2 == 0:\n",
        "  print()\n",
        "  print('O número é par.')\n",
        "else:\n",
        "  print()\n",
        "  print('O número é ímpar.')"
      ],
      "execution_count": null,
      "outputs": []
    },
    {
      "cell_type": "markdown",
      "source": [
        "### Exercício #3"
      ],
      "metadata": {
        "id": "02b6d2I5X_qg"
      }
    },
    {
      "cell_type": "markdown",
      "metadata": {
        "id": "c9klAnx-dtQa"
      },
      "source": [
        "Faça um programa no qual o usuário insira 2 inteiros. Verifique se o número 1 é divisível pelo número 2. Imprima essa informação para o usuário."
      ]
    },
    {
      "cell_type": "code",
      "source": [
        "from google.colab import drive\n",
        "drive.mount('/content/drive')"
      ],
      "metadata": {
        "id": "8snoFHEXakEe"
      },
      "execution_count": null,
      "outputs": []
    },
    {
      "cell_type": "code",
      "metadata": {
        "id": "gIB2qixZdt9H"
      },
      "source": [
        "# Solicitando as informações ao usuário:\n",
        "numero_1 = int(input('Digite um número inteiro: '))\n",
        "numero_2 = int(input('Digite outro número inteiro: '))\n",
        "\n",
        "# Analisando e exibindo o resultado:\n",
        "if numero_1 % numero_2 == 0:\n",
        "  print()\n",
        "  print('O primeiro número é divisível pelo segundo número.')\n",
        "else:\n",
        "  print()\n",
        "  print('O primeiro número não é divisível pelo segundo número.')"
      ],
      "execution_count": null,
      "outputs": []
    },
    {
      "cell_type": "markdown",
      "source": [
        "## Desafio da Calculadora"
      ],
      "metadata": {
        "id": "GWDvwDOnYHb8"
      }
    },
    {
      "cell_type": "markdown",
      "metadata": {
        "id": "1aLL6abedwwK"
      },
      "source": [
        "Faça um programa no qual o usuário vai digitar 2 números e também o tipo de operação que ele gostaria que fosse feita:\n",
        "\n",
        "* Soma\n",
        "* Subtração\n",
        "* Divisão\n",
        "* Multiplicação\n",
        "* Potência\n",
        "\n",
        "Imprima o resultado para o usuário da operação:\n",
        "\n",
        "Num1  `Operação`  Num2\n",
        "\n",
        "Caso o usuário não digite uma operação válida, dê uma mensagem de erro!"
      ]
    },
    {
      "cell_type": "code",
      "metadata": {
        "id": "VNXoWYDKdym5"
      },
      "source": [
        "# Introduzindo as operações disponíveis\n",
        "print('Bem-vindo à Calculadora em Python')\n",
        "print()\n",
        "print('Operações: Soma | Subtração | Divisão | Multiplicação | Potência')\n",
        "print()\n",
        "\n",
        "# Solicitando as informações ao usuário:\n",
        "num_1 = float(input('Digite o primeiro número da operação: '))\n",
        "num_2 = float(input('Digite o segundo número da operação: '))\n",
        "operacao_tipo = input('Digite o tipo de operação desejada: ')\n",
        "\n",
        "# Analisado e exibindo o resultado da operação:\n",
        "if operacao_tipo == 'Soma':\n",
        "  print()\n",
        "  print('{} + {} = {}' .format(num_1, num_2, num_1 + num_2))\n",
        "elif operacao_tipo == 'Subtracao':\n",
        "  print()\n",
        "  print('{} - {} = {}' .format(num_1, num_2, num_1 - num_2))\n",
        "elif operacao_tipo == 'Divisão':\n",
        "  print()\n",
        "  print('{} / {} = {}' .format(num_1, num_2, num_1 / num_2))\n",
        "elif operacao_tipo == 'Multiplicação':\n",
        "  print()\n",
        "  print('{} * {} = {}' .format(num_1, num_2, num_1 * num_2))\n",
        "elif operacao_tipo == 'Potência':\n",
        "  print()\n",
        "  print('{} ^ {} = {}' .format(num_1, num_2, num_1 ** num_2))\n",
        "else:\n",
        "  print()\n",
        "  print('Operação desconhecida. Tente novamente.')"
      ],
      "execution_count": null,
      "outputs": []
    }
  ]
}