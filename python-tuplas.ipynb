{
  "nbformat": 4,
  "nbformat_minor": 0,
  "metadata": {
    "colab": {
      "name": "python-tuplas.ipynb",
      "provenance": [],
      "include_colab_link": true
    },
    "kernelspec": {
      "name": "python3",
      "display_name": "Python 3"
    },
    "language_info": {
      "name": "python"
    }
  },
  "cells": [
    {
      "cell_type": "markdown",
      "metadata": {
        "id": "view-in-github",
        "colab_type": "text"
      },
      "source": [
        "<a href=\"https://colab.research.google.com/github/ramon-campos/python-zero/blob/main/python-tuplas.ipynb\" target=\"_parent\"><img src=\"https://colab.research.google.com/assets/colab-badge.svg\" alt=\"Open In Colab\"/></a>"
      ]
    },
    {
      "cell_type": "markdown",
      "metadata": {
        "id": "vmOiyAlWk7HR"
      },
      "source": [
        "# **Tuplas**"
      ]
    },
    {
      "cell_type": "markdown",
      "source": [
        "As tuplas são variáveis compostas imutáveis."
      ],
      "metadata": {
        "id": "IxVC7HnBxE8P"
      }
    },
    {
      "cell_type": "markdown",
      "source": [
        "## **Estrutura de uma Tupla**"
      ],
      "metadata": {
        "id": "I0nJVDh4xN_R"
      }
    },
    {
      "cell_type": "markdown",
      "metadata": {
        "id": "sduFqW1z9gzt"
      },
      "source": [
        "As variáveis comuns só conseguem armazenar um único valor por vez. \n",
        "\n",
        "Por outro lado, as tuplas conseguem armazenar diversos valores diferentes dentro de uma única variável.\n",
        "\n",
        "Elas são muito úteis para não precisarmos ficar declarando infinitas variáveis.\n",
        "\n",
        "Para declarar uma tupla basta colocar todos os valores entre parênteses e separados por vírgula.\n",
        "\n",
        "```\n",
        "tupla = (\"var1\", \"var2\", \"var3\")\n",
        "```"
      ]
    },
    {
      "cell_type": "markdown",
      "source": [
        "### **Exemplo 01**\n",
        "\n",
        "Defina uma tupla com 3 strings e use o comando `print` para ver como ela se apresenta:"
      ],
      "metadata": {
        "id": "8nykuY0KxvXt"
      }
    },
    {
      "cell_type": "code",
      "metadata": {
        "id": "nnS9VAsN-U9i",
        "colab": {
          "base_uri": "https://localhost:8080/"
        },
        "outputId": "90a2bd61-3044-45a5-c111-bc6e6c76c3ce"
      },
      "source": [
        "\n",
        "# Definindo a tupla\n",
        "t1 = (\"Janeiro\", \"Fevereiro\", \"Março\")\n",
        "\n",
        "# Imprimindo a tupla\n",
        "print(t1)"
      ],
      "execution_count": 1,
      "outputs": [
        {
          "output_type": "stream",
          "name": "stdout",
          "text": [
            "('Janeiro', 'Fevereiro', 'Março')\n"
          ]
        }
      ]
    },
    {
      "cell_type": "markdown",
      "metadata": {
        "id": "a2GTHFTn-e8w"
      },
      "source": [
        "### **Exemplo 02**\n",
        "\n",
        "Defina outra tupla, mas agora com valores numéricos:"
      ]
    },
    {
      "cell_type": "code",
      "metadata": {
        "id": "UCiAcz5p-lrz",
        "colab": {
          "base_uri": "https://localhost:8080/"
        },
        "outputId": "89178053-0015-4092-ad6d-af8f3a2cccdc"
      },
      "source": [
        "\n",
        "# Definindo a tupla\n",
        "t2 = (1, 2, 3)\n",
        "\n",
        "# Imprimindo a tupla\n",
        "print(t2)"
      ],
      "execution_count": 2,
      "outputs": [
        {
          "output_type": "stream",
          "name": "stdout",
          "text": [
            "(1, 2, 3)\n"
          ]
        }
      ]
    },
    {
      "cell_type": "markdown",
      "metadata": {
        "id": "F7cR-g2L-v4T"
      },
      "source": [
        "### **Exemplo 03**\n",
        "\n",
        "Defina uma tupla com vários tipos de dados dentro da mesma tupla:"
      ]
    },
    {
      "cell_type": "code",
      "metadata": {
        "id": "uqMm9rbM-3LY",
        "colab": {
          "base_uri": "https://localhost:8080/"
        },
        "outputId": "744457ea-0769-4959-9a9b-21bf074c2d45"
      },
      "source": [
        "\n",
        "# Definindo a tupla\n",
        "t3 = (\"Janeiro\", 1, True)\n",
        "\n",
        "# Imprimindo a tupla\n",
        "print(t3)"
      ],
      "execution_count": 3,
      "outputs": [
        {
          "output_type": "stream",
          "name": "stdout",
          "text": [
            "('Janeiro', 1, True)\n"
          ]
        }
      ]
    },
    {
      "cell_type": "markdown",
      "metadata": {
        "id": "eal39OVr_Dy5"
      },
      "source": [
        "Como podemos ver no terceiro exemplo, as tuplas aceitam qualquer tipo de dado e é possível ter mais de um tipo de dado dentro da mesma tupla."
      ]
    },
    {
      "cell_type": "markdown",
      "source": [
        "## **Acessando Valores de uma Tupla**"
      ],
      "metadata": {
        "id": "AbYavaZxzMJR"
      }
    },
    {
      "cell_type": "markdown",
      "metadata": {
        "id": "ltKUIPhG_dw4"
      },
      "source": [
        "Para acessar os valores das tuplas, basta colocar o índice da tupla desejado entre colchetes.\n",
        "\n",
        "Cada valor dentro da tupla fica salvo como um índice que começa em 0 e vai aumentando de 1 em 1 até o último termo da tupla.\n",
        "\n",
        "Então para a tupla abaixo:\n",
        "```\n",
        "      [0] [1] [2]\n",
        "t2 = ( 1,  2,  3)\n",
        "```\n",
        "Os termos dela são:\n",
        "```\n",
        "t2[0] == 1\n",
        "t2[1] == 2\n",
        "t2[2] == 3\n",
        "```"
      ]
    },
    {
      "cell_type": "markdown",
      "source": [
        "### **Exemplo 01**\n",
        "Para a tupla acima, tente imprimir cada um dos seus valores:"
      ],
      "metadata": {
        "id": "gl-ykrJnzbCv"
      }
    },
    {
      "cell_type": "code",
      "metadata": {
        "id": "P5IBlss8ATBO",
        "colab": {
          "base_uri": "https://localhost:8080/"
        },
        "outputId": "f2890d0f-f646-434b-c0c7-03603019de88"
      },
      "source": [
        "\n",
        "print(t2[0])\n",
        "print(t2[1])\n",
        "print(t2[2])"
      ],
      "execution_count": 4,
      "outputs": [
        {
          "output_type": "stream",
          "name": "stdout",
          "text": [
            "1\n",
            "2\n",
            "3\n"
          ]
        }
      ]
    },
    {
      "cell_type": "markdown",
      "metadata": {
        "id": "Cm6sz90-Asbl"
      },
      "source": [
        "### **Exemplo 02**\n",
        "\n",
        "Imprima a soma de cada valor desta tupla:"
      ]
    },
    {
      "cell_type": "code",
      "metadata": {
        "id": "aeB85E4OAsII",
        "colab": {
          "base_uri": "https://localhost:8080/"
        },
        "outputId": "8240b9ce-3e18-4beb-811d-d6cbd2abb57f"
      },
      "source": [
        "\n",
        "soma = t2[0] + t2[1] + t2[2]\n",
        "print(soma)"
      ],
      "execution_count": 5,
      "outputs": [
        {
          "output_type": "stream",
          "name": "stdout",
          "text": [
            "6\n"
          ]
        }
      ]
    },
    {
      "cell_type": "markdown",
      "source": [
        "## **Acessando Múltiplos Valores da Tupla**"
      ],
      "metadata": {
        "id": "nvv2Dt341NBR"
      }
    },
    {
      "cell_type": "markdown",
      "metadata": {
        "id": "TWWTyMYKBFjF"
      },
      "source": [
        "Também é possível acessar mais de um valor ao mesmo tempo colocando entre os colchetes o intervalo que você quer acessar.\n",
        "\n",
        "> `t2[0:2]` : são os 2 primeiros valor desta tupla : `1, 2` <br>\n",
        "> `t2[:2] ` : são os 2 primeiros valor desta tupla : `1, 2` <br>\n",
        "> `t2[1:] ` : é do 3º ao último termo desta tupla  : `2, 3` <br>\n",
        "> `t2[-1] ` : é último termo desta tupla           : `3` <br>\n",
        "\n",
        "Lembre-se que, assim como no **`range`**, o último valor dentro do colchete não é acessado."
      ]
    },
    {
      "cell_type": "markdown",
      "source": [
        "### **Exemplo 01**\n",
        "\n",
        "Teste os itens acima:"
      ],
      "metadata": {
        "id": "zkRzydJ31fRt"
      }
    },
    {
      "cell_type": "code",
      "metadata": {
        "id": "XLLt0WTgCQRY",
        "colab": {
          "base_uri": "https://localhost:8080/"
        },
        "outputId": "a9807887-c609-43f2-c164-0e5e769be33d"
      },
      "source": [
        "\n",
        "print(t2)\n",
        "print(t2[0:2])\n",
        "print(t2[:2])\n",
        "print(t2[1:])\n",
        "print(t2[-1])"
      ],
      "execution_count": 6,
      "outputs": [
        {
          "output_type": "stream",
          "name": "stdout",
          "text": [
            "(1, 2, 3)\n",
            "(1, 2)\n",
            "(1, 2)\n",
            "(2, 3)\n",
            "3\n"
          ]
        }
      ]
    },
    {
      "cell_type": "markdown",
      "source": [
        "## **Tipos e suas Propriedades**"
      ],
      "metadata": {
        "id": "O1etC2n-3IBk"
      }
    },
    {
      "cell_type": "markdown",
      "metadata": {
        "id": "hz2HnZOVCvEq"
      },
      "source": [
        "**As tuplas são imutáveis**, ou seja, a partir do momento que ela é declarada ela não pode mais mudar seus valores."
      ]
    },
    {
      "cell_type": "markdown",
      "metadata": {
        "id": "cXA8l9loC8Y9"
      },
      "source": [
        "### **Exemplo 01**\n",
        "\n",
        "Defina uma tupla `t4 = (1, 3, 5, 7)` e, em seguida, tente mudar o seu terceiro valor para 8."
      ]
    },
    {
      "cell_type": "code",
      "metadata": {
        "id": "BDO8mb2sDH0h",
        "colab": {
          "base_uri": "https://localhost:8080/",
          "height": 201
        },
        "outputId": "efd8f5d3-1434-4e91-f36a-e67bbc4fd2d2"
      },
      "source": [
        "\n",
        "t4 = (1, 3, 5, 7)\n",
        "t4[2] = 2"
      ],
      "execution_count": 7,
      "outputs": [
        {
          "output_type": "error",
          "ename": "TypeError",
          "evalue": "ignored",
          "traceback": [
            "\u001b[0;31m---------------------------------------------------------------------------\u001b[0m",
            "\u001b[0;31mTypeError\u001b[0m                                 Traceback (most recent call last)",
            "\u001b[0;32m<ipython-input-7-1bb4e68efb56>\u001b[0m in \u001b[0;36m<module>\u001b[0;34m()\u001b[0m\n\u001b[1;32m      1\u001b[0m \u001b[0;34m\u001b[0m\u001b[0m\n\u001b[1;32m      2\u001b[0m \u001b[0mt4\u001b[0m \u001b[0;34m=\u001b[0m \u001b[0;34m(\u001b[0m\u001b[0;36m1\u001b[0m\u001b[0;34m,\u001b[0m \u001b[0;36m3\u001b[0m\u001b[0;34m,\u001b[0m \u001b[0;36m5\u001b[0m\u001b[0;34m,\u001b[0m \u001b[0;36m7\u001b[0m\u001b[0;34m)\u001b[0m\u001b[0;34m\u001b[0m\u001b[0;34m\u001b[0m\u001b[0m\n\u001b[0;32m----> 3\u001b[0;31m \u001b[0mt4\u001b[0m\u001b[0;34m[\u001b[0m\u001b[0;36m2\u001b[0m\u001b[0;34m]\u001b[0m \u001b[0;34m=\u001b[0m \u001b[0;36m2\u001b[0m\u001b[0;34m\u001b[0m\u001b[0;34m\u001b[0m\u001b[0m\n\u001b[0m",
            "\u001b[0;31mTypeError\u001b[0m: 'tuple' object does not support item assignment"
          ]
        }
      ]
    },
    {
      "cell_type": "markdown",
      "source": [
        "Como podemos ver na mensagem de erro, realmente não é possível mudarmos o seu valor.\n",
        "\n",
        "Já que a tupla é definida no começo do programa e depois não pode mais ser mudada, ela é muito utilizada como variável de segurança para evitar modificações acidentais durante a execução de programas complexos."
      ],
      "metadata": {
        "id": "pp2_P5HM3xiu"
      }
    },
    {
      "cell_type": "markdown",
      "source": [
        "## **Tipo da Tupla e de seus Valores**"
      ],
      "metadata": {
        "id": "o9DtpmIB4XG-"
      }
    },
    {
      "cell_type": "markdown",
      "metadata": {
        "id": "fpCWwixBDSnK"
      },
      "source": [
        "A tupla possui o seu próprio tipo: `tuple`. Porém, os valores de cada um dos seus termos permanecem com o tipo original. \n",
        "\n",
        "Mas, se pegarmos vários valores dentro da tupla, ele será listado ainda como do tipo tupla."
      ]
    },
    {
      "cell_type": "markdown",
      "source": [
        "### **Exemplo 01**\n",
        "\n",
        "Verifique o tipo das variáveis: \n",
        "\n",
        "* `t3`\n",
        "* `t3[0]`\n",
        "* `t3[1]`\n",
        "* `t3[2]`\n",
        "* `t3[0:2]`\n",
        "* `t3[1:]`"
      ],
      "metadata": {
        "id": "Anv5Miv84rCm"
      }
    },
    {
      "cell_type": "code",
      "metadata": {
        "id": "_ymeMBZgEUrq",
        "colab": {
          "base_uri": "https://localhost:8080/"
        },
        "outputId": "06b9cd72-117b-4700-9ef9-a6edaac1ed76"
      },
      "source": [
        "\n",
        "print(type(t3))\n",
        "print(type(t3[0]))\n",
        "print(type(t3[1]))\n",
        "print(type(t3[2]))\n",
        "print(type(t3[0:2]))\n",
        "print(type(t3[0:]))"
      ],
      "execution_count": 8,
      "outputs": [
        {
          "output_type": "stream",
          "name": "stdout",
          "text": [
            "<class 'tuple'>\n",
            "<class 'str'>\n",
            "<class 'int'>\n",
            "<class 'bool'>\n",
            "<class 'tuple'>\n",
            "<class 'tuple'>\n"
          ]
        }
      ]
    },
    {
      "cell_type": "markdown",
      "source": [
        "## **Funções com Tuplas**"
      ],
      "metadata": {
        "id": "uBbIvBuC5nGB"
      }
    },
    {
      "cell_type": "markdown",
      "metadata": {
        "id": "FoXuJBiSGeOH"
      },
      "source": [
        "Temos algumas funções muito usadas em tuplas:\n",
        "\n",
        "> `len(t1)` : quantidade de termos da tupla <br>\n",
        "> `sorted(t1)` : ordenar <br>\n",
        "> `t1.count(valor)` : contar a qtd de “valor” <br>\n",
        "> `t1.index(valor)` : encontrar a 1ª posição de “valor” <br>\n",
        "> `t1.index(valor, pos)`\t: encontrar “valor” a partir da “pos” <br>\n",
        "> `t1 + t2` : concatenar tuplas <br>"
      ]
    },
    {
      "cell_type": "markdown",
      "metadata": {
        "id": "ElzV4i4_HFIr"
      },
      "source": [
        "### **Exemplo 01**\n",
        "\n",
        "Utilizando as tuplas abaixo:\n",
        "\n",
        "```\n",
        "t5 = (\"Lanche\", \"Batata\", \"Refri\")\n",
        "t6 = (0, 6, 4, 2, 8, 6, 4)\n",
        "t7 = (1, 3, 3, 5, 3, 5, 7)\n",
        "```\n",
        "Faça:\n",
        "\n",
        "* Calcule o tamanho das tuplas: t5 e t6\n",
        "* Imprima as tuplas ordenadas: t5 e t6 e depois reimprima-as\n",
        "* Conte quantas vezes aparecem o valor 3 na t7\n",
        "* Procure onde aparece o valor 'Tablet' na t5\n",
        "* Procure o valor 5 na t7 após o 4º termo\n",
        "* Concatene as tuplas t6 e t7"
      ]
    },
    {
      "cell_type": "code",
      "metadata": {
        "id": "YAs2lUXOIFpg"
      },
      "source": [
        "\n",
        "t5 = (\"Smartphone\", \"Tablet\", \"Notebook\")\n",
        "t6 = (0, 6, 4, 2, 8, 6, 4)\n",
        "t7 = (1, 3, 3, 5, 3, 5, 7)"
      ],
      "execution_count": 9,
      "outputs": []
    },
    {
      "cell_type": "code",
      "metadata": {
        "id": "1y7HQGpnIJXR",
        "colab": {
          "base_uri": "https://localhost:8080/"
        },
        "outputId": "b041258c-7c50-45c8-cc57-9d61b9aff202"
      },
      "source": [
        "\n",
        "# Tamanho das tuplas t5 e t6\n",
        "print(len(t5))\n",
        "print(len(t6))"
      ],
      "execution_count": 10,
      "outputs": [
        {
          "output_type": "stream",
          "name": "stdout",
          "text": [
            "3\n",
            "7\n"
          ]
        }
      ]
    },
    {
      "cell_type": "code",
      "metadata": {
        "id": "G8tigKHTIP5j",
        "colab": {
          "base_uri": "https://localhost:8080/"
        },
        "outputId": "1944f1b4-0b97-47c4-9956-7d4716cf762f"
      },
      "source": [
        "\n",
        "# Imprimindo tuplas ordenadas t5 e t6\n",
        "print(sorted(t5))\n",
        "print(sorted(t6))"
      ],
      "execution_count": 11,
      "outputs": [
        {
          "output_type": "stream",
          "name": "stdout",
          "text": [
            "['Notebook', 'Smartphone', 'Tablet']\n",
            "[0, 2, 4, 4, 6, 6, 8]\n"
          ]
        }
      ]
    },
    {
      "cell_type": "code",
      "metadata": {
        "id": "2yv5jubII5VT",
        "colab": {
          "base_uri": "https://localhost:8080/"
        },
        "outputId": "597cbc3f-6535-4b64-f46b-16efbe90c2df"
      },
      "source": [
        "\n",
        "# Conte quantas vezes aparece 3 na t7\n",
        "t7.count(3)"
      ],
      "execution_count": 12,
      "outputs": [
        {
          "output_type": "execute_result",
          "data": {
            "text/plain": [
              "3"
            ]
          },
          "metadata": {},
          "execution_count": 12
        }
      ]
    },
    {
      "cell_type": "code",
      "metadata": {
        "id": "ZSSAVJfNJCB4",
        "colab": {
          "base_uri": "https://localhost:8080/"
        },
        "outputId": "7c1f3362-bb1c-4579-ee2a-5768df930d84"
      },
      "source": [
        "\n",
        "# Onde aparece 'Tablet' na t5\n",
        "t5.index(\"Tablet\")"
      ],
      "execution_count": 13,
      "outputs": [
        {
          "output_type": "execute_result",
          "data": {
            "text/plain": [
              "1"
            ]
          },
          "metadata": {},
          "execution_count": 13
        }
      ]
    },
    {
      "cell_type": "code",
      "metadata": {
        "id": "CSotjLcsLfUW",
        "colab": {
          "base_uri": "https://localhost:8080/"
        },
        "outputId": "8504e10c-52c3-46f3-8150-0d51c4bc432d"
      },
      "source": [
        "\n",
        "# Procure valor 5 na t7 após o 4º termo\n",
        "print(\"t7[{}]\" .format(t7.index(5, 4)))"
      ],
      "execution_count": 14,
      "outputs": [
        {
          "output_type": "stream",
          "name": "stdout",
          "text": [
            "t7[5]\n"
          ]
        }
      ]
    },
    {
      "cell_type": "code",
      "metadata": {
        "id": "Y-MMuKkKKX5E",
        "colab": {
          "base_uri": "https://localhost:8080/"
        },
        "outputId": "e1cdd280-97fe-486e-f950-d174a99e4e62"
      },
      "source": [
        "\n",
        "# Concatene as tuplas t6 e t7\n",
        "print(\"t6 + t7: {}\" .format(t6 + t7))\n",
        "\n",
        "# Concatene as tuplas t7 e t6\n",
        "print(\"t7 + t6: {}\" .format(t7 + t6))"
      ],
      "execution_count": 15,
      "outputs": [
        {
          "output_type": "stream",
          "name": "stdout",
          "text": [
            "t6 + t7: (0, 6, 4, 2, 8, 6, 4, 1, 3, 3, 5, 3, 5, 7)\n",
            "t7 + t6: (1, 3, 3, 5, 3, 5, 7, 0, 6, 4, 2, 8, 6, 4)\n"
          ]
        }
      ]
    },
    {
      "cell_type": "markdown",
      "metadata": {
        "id": "5q-BhbJDL-bt"
      },
      "source": [
        "## **Tuplas na Estrutura `for`**"
      ]
    },
    {
      "cell_type": "markdown",
      "source": [
        "As tuplas possuem vários valores, assim como o `range()`. Portanto, podemos rodar um looping de `for` com os valores diretos de uma lista."
      ],
      "metadata": {
        "id": "04kLjGYv-SDD"
      }
    },
    {
      "cell_type": "markdown",
      "source": [
        "### **Estrutura**"
      ],
      "metadata": {
        "id": "DDmCLHag-rh3"
      }
    },
    {
      "cell_type": "markdown",
      "metadata": {
        "id": "PupUVG7RMM8C"
      },
      "source": [
        "A partir do momento que a tupla está definida podemos rodar o for utilizando:\n",
        "\n",
        "```\n",
        "for i in tupla:\n",
        "```\n",
        "Quando utilizarmos esse comando em cada passo do loop a variável de controle `i` vai valer cada item da tupla até percorrermos toda a tupla."
      ]
    },
    {
      "cell_type": "markdown",
      "source": [
        "### **Exemplo 01**\n",
        "\n",
        "Dada a tupla `t1 = ('Janeiro','Fevereiro','Março')`, imprima seus valores."
      ],
      "metadata": {
        "id": "wvmVvAB3-yWv"
      }
    },
    {
      "cell_type": "code",
      "metadata": {
        "id": "mk9F10W1MzRk",
        "colab": {
          "base_uri": "https://localhost:8080/"
        },
        "outputId": "e955a12d-8a7b-4f5f-dcd1-189a86c64fe4"
      },
      "source": [
        "\n",
        "for i in t1:\n",
        "  print(i)"
      ],
      "execution_count": 16,
      "outputs": [
        {
          "output_type": "stream",
          "name": "stdout",
          "text": [
            "Janeiro\n",
            "Fevereiro\n",
            "Março\n"
          ]
        }
      ]
    },
    {
      "cell_type": "markdown",
      "metadata": {
        "id": "sYDRDyp8NL0a"
      },
      "source": [
        "### **Exemplo 02**\n",
        "\n",
        "Some todos os valores da tupla t2:"
      ]
    },
    {
      "cell_type": "code",
      "metadata": {
        "id": "nGmEKv2nNSTO",
        "colab": {
          "base_uri": "https://localhost:8080/"
        },
        "outputId": "bb9caa5c-0298-430a-df54-01190f71ff87"
      },
      "source": [
        "\n",
        "soma = 0\n",
        "\n",
        "for i in t2:\n",
        "  soma += i\n",
        "\n",
        "print(\"A soma é igual a {}\" .format(soma))"
      ],
      "execution_count": 17,
      "outputs": [
        {
          "output_type": "stream",
          "name": "stdout",
          "text": [
            "A soma é igual a 6\n"
          ]
        }
      ]
    },
    {
      "cell_type": "markdown",
      "source": [
        "## **Enumerate()**"
      ],
      "metadata": {
        "id": "sj-4QYPyDzzL"
      }
    },
    {
      "cell_type": "markdown",
      "metadata": {
        "id": "6Tij56tONgsE"
      },
      "source": [
        "Quando usamos essa função dentro da declaração de um `for`, ela irá mostrar para a gente tanto o valor da variável de controle quanto também o índice dela. Só precisamos fazer um pequeno ajuste na sintaxe:\n",
        "\n",
        "```\n",
        "for indice,valor in enumerate(t1):\n",
        "```"
      ]
    },
    {
      "cell_type": "markdown",
      "source": [
        "### **Exemplo 01**\n",
        "\n",
        "Plote os itens da tupla t1 mostrando os seus índices."
      ],
      "metadata": {
        "id": "1Y27QD7eD9Qc"
      }
    },
    {
      "cell_type": "code",
      "metadata": {
        "id": "OrefCfdQOW0W",
        "colab": {
          "base_uri": "https://localhost:8080/"
        },
        "outputId": "aa3fb3df-27ca-4bf8-d3ef-c7a4d9ed0bb1"
      },
      "source": [
        "\n",
        "for indice, valor in enumerate(t1):\n",
        "  print(\"t1[{}] = {}\" .format(indice, valor))"
      ],
      "execution_count": 18,
      "outputs": [
        {
          "output_type": "stream",
          "name": "stdout",
          "text": [
            "t1[0] = Janeiro\n",
            "t1[1] = Fevereiro\n",
            "t1[2] = Março\n"
          ]
        }
      ]
    }
  ]
}