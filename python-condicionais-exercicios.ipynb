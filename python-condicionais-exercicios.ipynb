{
  "nbformat": 4,
  "nbformat_minor": 0,
  "metadata": {
    "colab": {
      "name": "python-condicionais-exercicios.ipynb",
      "provenance": [],
      "toc_visible": true,
      "authorship_tag": "ABX9TyPR4VnuKbl5Gj8zr/WOi/Eu",
      "include_colab_link": true
    },
    "kernelspec": {
      "name": "python3",
      "display_name": "Python 3"
    },
    "language_info": {
      "name": "python"
    }
  },
  "cells": [
    {
      "cell_type": "markdown",
      "metadata": {
        "id": "view-in-github",
        "colab_type": "text"
      },
      "source": [
        "<a href=\"https://colab.research.google.com/github/ramon-campos/python-zero/blob/main/python-condicionais-exercicios.ipynb\" target=\"_parent\"><img src=\"https://colab.research.google.com/assets/colab-badge.svg\" alt=\"Open In Colab\"/></a>"
      ]
    },
    {
      "cell_type": "markdown",
      "source": [
        "# Exercícios de Condicionais em Python"
      ],
      "metadata": {
        "id": "M-4xFM35LQmF"
      }
    },
    {
      "cell_type": "markdown",
      "source": [
        "## Exercício 01"
      ],
      "metadata": {
        "id": "vxvQf3jMb111"
      }
    },
    {
      "cell_type": "markdown",
      "source": [
        "Desenvolva um programa para um depósito de bebidas que valide a venda de bebidas para maiores de idade (maior ou igual 18 anos). O programa deve receber do usuário seu nome e sua data de nascimento, e retornar se ele pode comprar bebidas."
      ],
      "metadata": {
        "id": "bli8RSP6Ld9j"
      }
    },
    {
      "cell_type": "code",
      "execution_count": null,
      "metadata": {
        "id": "GPDCwN5dLBFi",
        "cellView": "code"
      },
      "outputs": [],
      "source": [
        "# Importando o módulo de data\n",
        "import datetime\n",
        "\n",
        "# Criando o objeto do tipo data\n",
        "date_time = datetime.datetime.now()\n",
        "\n",
        "# Solicitando as informações ao usuário\n",
        "username = input(\"Digite o seu nome: \")\n",
        "ano_nascimento = int(input(\"Informe o seu ano de nascimento: \"))\n",
        "\n",
        "# Calculando a idade\n",
        "idade = int(date_time.strftime(\"%Y\")) - ano_nascimento\n",
        "\n",
        "# Comparando e exibindo o resultado\n",
        "if idade >= 18:\n",
        "  print()\n",
        "  print(\"{}, você possui {} anos de idade e está autorizado a comprar bebidas.\" .format(username, idade))\n",
        "else:\n",
        "  print()\n",
        "  print(\"{}, você possui {} anos de idade e não está autorizado a comprar bebidas por ser menor de idade.\" .format(username, idade))"
      ]
    },
    {
      "cell_type": "markdown",
      "source": [
        "## Exercício 02"
      ],
      "metadata": {
        "id": "toDNJOZEcmzz"
      }
    },
    {
      "cell_type": "markdown",
      "source": [
        "Você precisa conseguir nota 8 de média para passar em uma disciplina. Desenvolva um script que leia a nota de suas últimas 3 provas, calcule a média delas e verifique se você passou."
      ],
      "metadata": {
        "id": "HND18pzJL4wL"
      }
    },
    {
      "cell_type": "code",
      "source": [
        "# Solicitando as notas das provas\n",
        "av1_nota = float(input(\"Digite a nota da AV1: \"))\n",
        "av2_nota = float(input(\"Digite a nota da AV2: \"))\n",
        "av3_nota = float(input(\"Digite a nota da AV3: \"))\n",
        "\n",
        "# Calculando a média\n",
        "media = (av1_nota + av2_nota + av3_nota) / 3\n",
        "\n",
        "# Comparando e exibindo o resultado\n",
        "if media >= 8:\n",
        "  print()\n",
        "  print(\"Parabéns! A sua média foi de {:.1f} e você está APROVADO!\" .format(media))\n",
        "else:\n",
        "  print()\n",
        "  print(\"Que pena! A sua média foi de {:.1f} e você está REPROVADO!\" .format(media))"
      ],
      "metadata": {
        "id": "yPQMxkwWL4Yv"
      },
      "execution_count": null,
      "outputs": []
    },
    {
      "cell_type": "markdown",
      "source": [
        "## Exercício 03"
      ],
      "metadata": {
        "id": "-dFe8dzHc5NY"
      }
    },
    {
      "cell_type": "markdown",
      "source": [
        "Crie um sistema que verifique se a altura inserida é par ou ímpar."
      ],
      "metadata": {
        "id": "HalQkOA3MS_t"
      }
    },
    {
      "cell_type": "code",
      "source": [
        "# Solicitando ao usuário o valor da altura\n",
        "# É necessário que a altura seja em cm, pois a classificação de par ou ímpar sobre um número é válida somente para números inteiros\n",
        "altura = int(input(\"Digite a altura (em cm): \"))\n",
        "\n",
        "# Verificando e exibindo o resultado\n",
        "if altura % 2 == 0:\n",
        "  print(\"A altura de {} é par.\" .format(altura))\n",
        "else:\n",
        "  print(\"A altura de {} é ímpar.\" .format(altura))"
      ],
      "metadata": {
        "id": "qUpmvSd8MSjm"
      },
      "execution_count": null,
      "outputs": []
    },
    {
      "cell_type": "markdown",
      "source": [
        "## Exercício 04"
      ],
      "metadata": {
        "id": "i3DwDy9WdNZD"
      }
    },
    {
      "cell_type": "markdown",
      "source": [
        "Faça um script que o usuário informe a quantidade de dias e descubra em qual trimestre esse dia está no ano."
      ],
      "metadata": {
        "id": "e-or8dXVMgD5"
      }
    },
    {
      "cell_type": "code",
      "source": [
        "# Considerando o ano de 2022, cada trimestre possui a determinada quantidade de dias:\n",
        "# Primeiro: 90 | Segundo: 91 | Terceiro: 92 | Quarto: 92\n",
        "\n",
        "# Inicializando\n",
        "t1 = 90\n",
        "t2 = t1 + 91\n",
        "t3 = t2 + 92\n",
        "t4 = t3 + 92\n",
        "\n",
        "# Solicitando a quantidade de dias ao usuário:\n",
        "dias = int(input(\"Digite a quantidade de dias para descobrir em qual trimestre você está:\"))\n",
        "\n",
        "# Verificando e exibindo o resultado:\n",
        "if dias <= t1:\n",
        "  print(\"Estamos no primeiro trimestre do ano de 2022.\")\n",
        "elif dias > t1 and dias <= t2:\n",
        "  print(\"Estamos no segundo trimestre do ano de 2022.\")\n",
        "elif dias > t2 and dias <= t3:\n",
        "  print(\"Estamos no terceiro trimestre do ano de 2022\")\n",
        "elif dias > t3 and dias <= t4:\n",
        "  print(\"Estamos no quarto trimestre do ano de 2022\")\n",
        "else:\n",
        "  print(\"A quantidade de dias é inválida ou maior que a quantidade de dias do ano de 2022.\")"
      ],
      "metadata": {
        "id": "1RWyWgzLquvJ"
      },
      "execution_count": null,
      "outputs": []
    },
    {
      "cell_type": "markdown",
      "source": [
        "## Exercício 05"
      ],
      "metadata": {
        "id": "RX3MAm_wdYDI"
      }
    },
    {
      "cell_type": "markdown",
      "source": [
        "Desenvolva um sistema que leia 3 números e diga qual é o maior (se houver empate, exiba os empatados)."
      ],
      "metadata": {
        "id": "6p6OGcPfMvoL"
      }
    },
    {
      "cell_type": "code",
      "source": [
        "# Solicitando os números ao usuário\n",
        "n1 = int(input(\"Digite o valor do primeiro número: \"))\n",
        "n2 = int(input(\"Digite o valor do segundo número: \"))\n",
        "n3 = int(input(\"Digite o valor do terceiro número: \"))\n",
        "\n",
        "# Verificando e exibindo o resultado\n",
        "if n1 > n2:\n",
        "  if n1 > n3:\n",
        "    maior = n1\n",
        "    print(\"\\nO maior é {}.\" .format(maior))\n",
        "  else:\n",
        "    maior = n3\n",
        "    print(\"\\nO maior é {}.\" .format(maior))\n",
        "elif n2 > n3:\n",
        "  maior = n2\n",
        "  print(\"\\nO maior é {}.\" .format(maior))\n",
        "else:\n",
        "  maior = n3\n",
        "  print(\"\\nO maior é {}.\" .format(maior))"
      ],
      "metadata": {
        "id": "uke7V627M4wg"
      },
      "execution_count": null,
      "outputs": []
    }
  ]
}