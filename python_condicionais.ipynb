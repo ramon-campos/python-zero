{
  "nbformat": 4,
  "nbformat_minor": 0,
  "metadata": {
    "colab": {
      "name": "python_condicionais.ipynb",
      "provenance": [],
      "toc_visible": true,
      "collapsed_sections": [],
      "include_colab_link": true
    },
    "kernelspec": {
      "name": "python3",
      "display_name": "Python 3"
    },
    "language_info": {
      "name": "python"
    }
  },
  "cells": [
    {
      "cell_type": "markdown",
      "metadata": {
        "id": "view-in-github",
        "colab_type": "text"
      },
      "source": [
        "<a href=\"https://colab.research.google.com/github/ramon-campos/python-zero/blob/main/python_condicionais.ipynb\" target=\"_parent\"><img src=\"https://colab.research.google.com/assets/colab-badge.svg\" alt=\"Open In Colab\"/></a>"
      ]
    },
    {
      "cell_type": "markdown",
      "source": [
        "# Condicionais"
      ],
      "metadata": {
        "id": "7UzA6dYqK0CO"
      }
    },
    {
      "cell_type": "markdown",
      "metadata": {
        "id": "xGapo2vByPhu"
      },
      "source": [
        "As estruturas condicionais são utilizados para fazer comparações. Caso elas sejam verdadeiras, o programa faz determinadas ações e, caso elas sejam falsas, o programa faz outras ações."
      ]
    },
    {
      "cell_type": "markdown",
      "metadata": {
        "id": "e8uNOgEFyfu7"
      },
      "source": [
        "## Comparadores"
      ]
    },
    {
      "cell_type": "markdown",
      "metadata": {
        "id": "9MP8VLmcymuB"
      },
      "source": [
        "<b> Os principais comparadores utilizados são:</b><br>\n",
        "\n",
        "> a `==` b : Verifica se ***a*** é igual a ***b*** \n",
        "\n",
        "> a `!=` b : Verifica se ***a*** é diferente de ***b*** \n",
        "\n",
        "> a `> ` b : Verifica se ***a*** é maior que ***b*** \n",
        "\n",
        "> a `>=` b : Verifica se ***a*** é maior ou igual a ***b*** \n",
        "\n",
        "> a `< ` b : Verifica se ***a*** é menor que ***b*** \n",
        "\n",
        "> a `<=` b : Verifica se ***a*** é menor ou igual a ***b*** \n",
        "\n",
        "A resposta da comparação sempre será booleana: `True` | `False`"
      ]
    },
    {
      "cell_type": "code",
      "metadata": {
        "id": "cP0BbpnO1PnC"
      },
      "source": [
        "# Declarando variáveis\n",
        "\n",
        "a = 7\n",
        "b = 2\n"
      ],
      "execution_count": null,
      "outputs": []
    },
    {
      "cell_type": "code",
      "metadata": {
        "colab": {
          "base_uri": "https://localhost:8080/"
        },
        "id": "qG0X0cUX1Ua4",
        "outputId": "82db0350-a8af-43ed-b097-fe608594d024"
      },
      "source": [
        "# a == b\n",
        "\n",
        "a == b\n"
      ],
      "execution_count": null,
      "outputs": [
        {
          "output_type": "execute_result",
          "data": {
            "text/plain": [
              "False"
            ]
          },
          "metadata": {},
          "execution_count": 2
        }
      ]
    },
    {
      "cell_type": "code",
      "metadata": {
        "colab": {
          "base_uri": "https://localhost:8080/"
        },
        "id": "uc7Okunc1cvX",
        "outputId": "d10c35df-d2b2-434e-85de-0686a4b78bc1"
      },
      "source": [
        "# a != b\n",
        "\n",
        "a != b\n"
      ],
      "execution_count": null,
      "outputs": [
        {
          "output_type": "execute_result",
          "data": {
            "text/plain": [
              "True"
            ]
          },
          "metadata": {},
          "execution_count": 3
        }
      ]
    },
    {
      "cell_type": "code",
      "metadata": {
        "colab": {
          "base_uri": "https://localhost:8080/"
        },
        "id": "ykURydWb1clh",
        "outputId": "cea078e0-8c7e-4930-cc80-18d084ce6e3f"
      },
      "source": [
        "# a > b\n",
        "\n",
        "a > b\n"
      ],
      "execution_count": null,
      "outputs": [
        {
          "output_type": "execute_result",
          "data": {
            "text/plain": [
              "True"
            ]
          },
          "metadata": {},
          "execution_count": 4
        }
      ]
    },
    {
      "cell_type": "code",
      "metadata": {
        "colab": {
          "base_uri": "https://localhost:8080/"
        },
        "id": "EeqjPtWY1cau",
        "outputId": "17f386c1-56ec-462c-daf4-b36dcacd32da"
      },
      "source": [
        "# a >= b\n",
        "\n",
        "a >= b\n"
      ],
      "execution_count": null,
      "outputs": [
        {
          "output_type": "execute_result",
          "data": {
            "text/plain": [
              "True"
            ]
          },
          "metadata": {},
          "execution_count": 5
        }
      ]
    },
    {
      "cell_type": "code",
      "metadata": {
        "colab": {
          "base_uri": "https://localhost:8080/"
        },
        "id": "5BwSEfyO1cLg",
        "outputId": "30233222-8b54-4872-944a-e9823bc213c9"
      },
      "source": [
        "# a < b\n",
        "\n",
        "a < b\n"
      ],
      "execution_count": null,
      "outputs": [
        {
          "output_type": "execute_result",
          "data": {
            "text/plain": [
              "False"
            ]
          },
          "metadata": {},
          "execution_count": 6
        }
      ]
    },
    {
      "cell_type": "code",
      "metadata": {
        "colab": {
          "base_uri": "https://localhost:8080/"
        },
        "id": "mG4cGgNs1b3K",
        "outputId": "3b88a96d-aff9-4037-c392-7ee498e8bcd1"
      },
      "source": [
        "# a <= b\n",
        "\n",
        "a <= b\n"
      ],
      "execution_count": null,
      "outputs": [
        {
          "output_type": "execute_result",
          "data": {
            "text/plain": [
              "False"
            ]
          },
          "metadata": {},
          "execution_count": 7
        }
      ]
    },
    {
      "cell_type": "markdown",
      "metadata": {
        "id": "DzLvGpYc1w-J"
      },
      "source": [
        "### Exercícios"
      ]
    },
    {
      "cell_type": "markdown",
      "metadata": {
        "id": "WDXElJix2Tk6"
      },
      "source": [
        "**1. Faça um programa que solicite que o usuário digite dois números e compare se eles são iguais.**"
      ]
    },
    {
      "cell_type": "code",
      "source": [
        "# Solicitando os números ao usuário:\n",
        "n1 = float(input('Digite o primeiro número: '))\n",
        "n2 = float(input('Digite o segundo número: '))\n",
        "\n",
        "# Imprimindo o resultado da comparação:\n",
        "print('O primeiro e o segundo número são iguais?')\n",
        "print('Resposta:', n1 == n2)"
      ],
      "metadata": {
        "colab": {
          "base_uri": "https://localhost:8080/"
        },
        "id": "efPfdVyF8r32",
        "outputId": "7662116d-de3b-4eac-e434-333dac77c1a5"
      },
      "execution_count": null,
      "outputs": [
        {
          "output_type": "stream",
          "name": "stdout",
          "text": [
            "Digite o primeiro número: 10\n",
            "Digite o segundo número: 20\n",
            "O primeiro e o segundo número são iguais?\n",
            "Resposta: False\n"
          ]
        }
      ]
    },
    {
      "cell_type": "markdown",
      "source": [
        "\n",
        "\n",
        "---\n",
        "\n"
      ],
      "metadata": {
        "id": "n4R7_usD_bZx"
      }
    },
    {
      "cell_type": "markdown",
      "metadata": {
        "id": "xbsjrO1u3HjN"
      },
      "source": [
        "**2. Compare se o primeiro número digitado é maior ou igual ao segundo número.**"
      ]
    },
    {
      "cell_type": "code",
      "source": [
        "# Imprimindo o resultado da comparação:\n",
        "print('Pergunta: O primeiro número é maior ou igual ao segundo número?')\n",
        "print('Resposta:', n1 >= n2)"
      ],
      "metadata": {
        "colab": {
          "base_uri": "https://localhost:8080/"
        },
        "id": "mKI7mO3F-HGC",
        "outputId": "84a53122-838e-4121-b041-0fb4311881b8"
      },
      "execution_count": null,
      "outputs": [
        {
          "output_type": "stream",
          "name": "stdout",
          "text": [
            "Pergunta: O primeiro número é maior ou igual ao segundo número?\n",
            "Resposta: False\n"
          ]
        }
      ]
    },
    {
      "cell_type": "markdown",
      "source": [
        "\n",
        "\n",
        "---\n",
        "\n"
      ],
      "metadata": {
        "id": "gcTSwe-S_lOE"
      }
    },
    {
      "cell_type": "markdown",
      "metadata": {
        "id": "DI8FF9DM3n-7"
      },
      "source": [
        "**3. Faça um programa em que o usuário deve inserir a quantidade de hambúrguer e a quantidade de batata que ele deseja pedir. Então, peça para o usuário digitar o quanto de dinheiro ele tem na carteira e verifique se ele vai conseguir pagar pelo pedido. Considere o preço do hambúrguer igual a 10,90 e o preço da batata igual a 5,40.**"
      ]
    },
    {
      "cell_type": "code",
      "source": [
        "# Declarando as variáveis:\n",
        "hamburguer_preco = 10.90\n",
        "batata_preco = 5.40\n",
        "hamburguer_qtd = int\n",
        "batata_qtd = int\n",
        "carteira_saldo = float\n",
        "\n",
        "# Solicitando ao usuário a quantidade de cada item:\n",
        "hamburguer_qtd = int(input('Informe a quantidade de hambúrguer: '))\n",
        "batata_qtd = int(input('Informe a quantidade de batata: '))\n",
        "\n",
        "# Solicitando ao usuário o seu saldo na carteira:\n",
        "carteira_saldo = float(input('Informe o quanto de dinheiro você tem na carteira: R$ '))\n",
        "\n",
        "# Calculando o custo total:\n",
        "custo_total = hamburguer_preco * hamburguer_qtd + batata_preco * batata_qtd\n",
        "\n",
        "# Imprimindo o resultado:\n",
        "print('O custo total foi de R$', custo_total)\n",
        "print('O usuário conseguirá pagar pelo pedido?', carteira_saldo >= custo_total)"
      ],
      "metadata": {
        "colab": {
          "base_uri": "https://localhost:8080/"
        },
        "id": "jm4FYGRp_ukv",
        "outputId": "c1df9c4d-2e2c-467d-8da1-6852c638b847"
      },
      "execution_count": null,
      "outputs": [
        {
          "output_type": "stream",
          "name": "stdout",
          "text": [
            "Informe a quantidade de hambúrguer: 2\n",
            "Informe a quantidade de batata: 2\n",
            "Informe o quanto de dinheiro você tem na carteira: R$ 40\n",
            "O custo total foi de R$ 32.6\n",
            "O usuário conseguirá pagar pelo pedido? True\n"
          ]
        }
      ]
    },
    {
      "cell_type": "markdown",
      "source": [
        "\n",
        "\n",
        "---\n"
      ],
      "metadata": {
        "id": "8Ev49c1hDd-H"
      }
    },
    {
      "cell_type": "markdown",
      "source": [
        "## Condicionais Simples"
      ],
      "metadata": {
        "id": "6YlFG4QvLE4f"
      }
    },
    {
      "cell_type": "markdown",
      "metadata": {
        "id": "ah4rntx_4-HA"
      },
      "source": [
        "As condicionais simples possuem somente 2 caminhos para se seguir: o caminho verdadeiro e o falso. Após fazer a condição pelo IF, o programa vai seguir caminhos diferentes."
      ]
    },
    {
      "cell_type": "markdown",
      "source": [
        "### Estrutura"
      ],
      "metadata": {
        "id": "oAFXudHELJX1"
      }
    },
    {
      "cell_type": "markdown",
      "metadata": {
        "id": "gKqBhf-85ktK"
      },
      "source": [
        "```\n",
        "if condicao:\n",
        "  bloco verdadeiro\n",
        "else:\n",
        "  bloco falso\n",
        "```\n",
        "\n",
        "**Pontos de atenção**:\n",
        "\n",
        "*   Não esqueça dos `:`\n",
        "*   Não esqueça da `indentação`"
      ]
    },
    {
      "cell_type": "markdown",
      "source": [
        "### Exemplo #1"
      ],
      "metadata": {
        "id": "bzTrZcKqLP1v"
      }
    },
    {
      "cell_type": "markdown",
      "metadata": {
        "id": "0di5lY497D3F"
      },
      "source": [
        "Dadas as variáveis:\n",
        "\n",
        "a = 2\n",
        "\n",
        "b = 3\n",
        "\n",
        "Compare se a == b e imprima uma mensagem sobre o resultado."
      ]
    },
    {
      "cell_type": "code",
      "source": [
        "# Declarando as variáveis:\n",
        "a = 2\n",
        "b = 3\n",
        "\n",
        "# Comparando\n",
        "if a == b:\n",
        "  print('Sim, {} é igual a {}.' .format(a, b))\n",
        "else:\n",
        "  print('Não, {} não é igual a {}.' .format(a, b))"
      ],
      "metadata": {
        "colab": {
          "base_uri": "https://localhost:8080/"
        },
        "id": "2u6bHyeOEfxf",
        "outputId": "ae52f9e1-cd05-4cfc-a22f-9eccb811e090"
      },
      "execution_count": null,
      "outputs": [
        {
          "output_type": "stream",
          "name": "stdout",
          "text": [
            "Não, 2 não é igual a 3.\n"
          ]
        }
      ]
    },
    {
      "cell_type": "markdown",
      "source": [
        "### Exemplo #2"
      ],
      "metadata": {
        "id": "1fjpI365LVJE"
      }
    },
    {
      "cell_type": "markdown",
      "metadata": {
        "id": "XPdDrqoV8ZbC"
      },
      "source": [
        "1. Faça um programa que peça para o usuário digitar dois números e:\n",
        "\n",
        "*   Se num1 >= num2, então multiplique o num2 por 5\n",
        "*   Caso contrário, multiplique o num1 por 5"
      ]
    },
    {
      "cell_type": "code",
      "source": [
        "# Declarando as variáveis:\n",
        "num1 = float\n",
        "num2 = float\n",
        "\n",
        "# Solicitando ao usuário que digite o valor de num1 e de num2:\n",
        "num1 = float(input('Digite o valor de num1: '))\n",
        "num2 = float(input('Digite o valor de num2: '))\n",
        "\n",
        "# Comparando\n",
        "print()\n",
        "if num1 >= num2:\n",
        "  print('O número {} é maior ou igual a {}' .format(num1,num2))\n",
        "  print('{} * 5 = {}' .format(num2, num2 * 5))\n",
        "else:\n",
        "  print('O número {} é menor que {}' .format(num1,num2))\n",
        "  print('{} * 5 = {}' .format(num1, num1 * 5))"
      ],
      "metadata": {
        "colab": {
          "base_uri": "https://localhost:8080/"
        },
        "id": "m-qeaZ_GFsvl",
        "outputId": "aab44609-9d09-446d-98a1-e2018105bd6e"
      },
      "execution_count": null,
      "outputs": [
        {
          "output_type": "stream",
          "name": "stdout",
          "text": [
            "Digite o valor de num1: 5\n",
            "Digite o valor de num2: 10\n",
            "\n",
            "O número 5.0 é menor que 10.0\n",
            "5.0 * 5 = 25.0\n"
          ]
        }
      ]
    },
    {
      "cell_type": "markdown",
      "source": [
        "## Condicionais Aninhadas"
      ],
      "metadata": {
        "id": "czW1-UPUKkN6"
      }
    },
    {
      "cell_type": "markdown",
      "metadata": {
        "id": "53hsil9C-ubq"
      },
      "source": [
        "Essas condicionais são utilizados quando não temos somente 2 casos (True e False), mas sim quando temos vários casos"
      ]
    },
    {
      "cell_type": "markdown",
      "source": [
        "### Estrutura"
      ],
      "metadata": {
        "id": "pL3x1SAmKqDu"
      }
    },
    {
      "cell_type": "markdown",
      "metadata": {
        "id": "fzn37wwE-9pV"
      },
      "source": [
        "```\n",
        "if condicao1:\n",
        "  bloco condicao1 verdadeiro\n",
        "elif condicao2:\n",
        "  bloco condicao2 verdadeiro\n",
        "  .\n",
        "  .\n",
        "  .\n",
        "else:\n",
        "  bloco falso\n",
        "```"
      ]
    },
    {
      "cell_type": "markdown",
      "source": [
        "### Exemplo #1"
      ],
      "metadata": {
        "id": "x9J28JPqKdC_"
      }
    },
    {
      "cell_type": "markdown",
      "metadata": {
        "id": "mkkDTQw8_Ttd"
      },
      "source": [
        "Dadas as variáveis:\n",
        "\n",
        "a = 2\n",
        "\n",
        "b = 3\n",
        "\n",
        "Compare e mostre para o usuário se uma é igual a outra ou se uma é maior que a outra, e neste caso, qual é a maior."
      ]
    },
    {
      "cell_type": "code",
      "metadata": {
        "colab": {
          "base_uri": "https://localhost:8080/"
        },
        "id": "IeYvZN8C-8lA",
        "outputId": "d9f28d31-5b37-45a8-ccaa-95b8bc064423"
      },
      "source": [
        "# Declarando as variáveis:\n",
        "a = 2\n",
        "b = 3\n",
        "\n",
        "# Comparando\n",
        "if a > b:\n",
        "  print('{} é maior que {}' .format(a, b))\n",
        "elif a < b:\n",
        "  print('{} é menor que {}' .format(a, b))\n",
        "else:\n",
        "  print('{} é igual a {}' .format(a, b))"
      ],
      "execution_count": null,
      "outputs": [
        {
          "output_type": "stream",
          "name": "stdout",
          "text": [
            "2 é menor que 3\n"
          ]
        }
      ]
    },
    {
      "cell_type": "markdown",
      "source": [
        "### Exemplo #2"
      ],
      "metadata": {
        "id": "2crJloeZKVVV"
      }
    },
    {
      "cell_type": "markdown",
      "metadata": {
        "id": "5WAZpJMH_-kA"
      },
      "source": [
        "Faça um programa no qual o usuário vai digitar dois números e o programa fará essas comparações.\n",
        "\n"
      ]
    },
    {
      "cell_type": "code",
      "metadata": {
        "colab": {
          "base_uri": "https://localhost:8080/"
        },
        "id": "keKfaHQ4AKbX",
        "outputId": "e773dcec-5a67-4b10-fdaf-faf7e6cb96f1"
      },
      "source": [
        "# Declarando as variáveis:\n",
        "c = int\n",
        "d = int\n",
        "\n",
        "# Solicitando os números ao usuário:\n",
        "c = int(input('Digite um número: '))\n",
        "d = int(input('Digite outro número: '))\n",
        "\n",
        "# Comparando:\n",
        "if c > d:\n",
        "  print('{} é maior que {}' .format(c, d))\n",
        "elif c < d:\n",
        "  print('{} é menor que {}' .format(c, d))\n",
        "else:\n",
        "  print('{} é igual a {}' .format(c, d))"
      ],
      "execution_count": null,
      "outputs": [
        {
          "output_type": "stream",
          "name": "stdout",
          "text": [
            "Digite um número: 3\n",
            "Digite outro número: 3\n",
            "3 é igual a 3\n"
          ]
        }
      ]
    },
    {
      "cell_type": "markdown",
      "source": [
        "### Exemplo #3"
      ],
      "metadata": {
        "id": "EjjvNnv7KOwr"
      }
    },
    {
      "cell_type": "markdown",
      "metadata": {
        "id": "QdSZJR_xApNo"
      },
      "source": [
        "Faça um programa em que o usuário vai digitar a vontade do que ele está de comer alguma coisa.\n",
        "\n",
        "Caso este input seja:\n",
        "\n",
        "* Lanche : então imprima : \"Vá ao Mc Donalds\"\n",
        "\n",
        "* Pizza : então imprima : \"Vá ao Pizza Hut\"\n",
        "\n",
        "* Mexicano : então imprima : \"Vá ao Taco Bell\"\n",
        "\n",
        "* Caso contrário : então imprima: \"Tente novamente\""
      ]
    },
    {
      "cell_type": "code",
      "metadata": {
        "colab": {
          "base_uri": "https://localhost:8080/"
        },
        "id": "5OWad-opOwpv",
        "outputId": "1095eeae-74e0-4387-87df-9b6f7a17b2de"
      },
      "source": [
        "# Perguntando ao usuário o que ele deseja comer:\n",
        "desejo = input('O que deseja comer? ')\n",
        "\n",
        "# Comparando\n",
        "if desejo == 'Lanche':\n",
        "  print('Vá ao Mc Donalds')\n",
        "elif desejo == 'Pizza':\n",
        "  print('Vá ao Pizza Hut')\n",
        "elif desejo == 'Mexicano':\n",
        "  print('Vá ao Taco Bell')\n",
        "else:\n",
        "  print('Tente novamente')"
      ],
      "execution_count": null,
      "outputs": [
        {
          "output_type": "stream",
          "name": "stdout",
          "text": [
            "O que deseja comer? Mexicano\n",
            "Vá ao Taco Bell\n"
          ]
        }
      ]
    },
    {
      "cell_type": "markdown",
      "source": [
        "## Operadores Lógicos"
      ],
      "metadata": {
        "id": "CSqj9RRxLkpf"
      }
    },
    {
      "cell_type": "markdown",
      "metadata": {
        "id": "t4oWC7VVdRJS"
      },
      "source": [
        "Os operadores lógicos são usados quando precisamos de múltiplas condições em 1 só IF.\n",
        ">**`and`**: ambas as condições precisam ser satisfeitas simultaneamente\n",
        "\n",
        ">**`or`**: pelo menos 1 condição precisa ser satisfeita\n",
        "\n",
        "```\n",
        "True and True : True\n",
        "True and False : False\n",
        "True or False : True\n",
        "False or True : True\n",
        "False or False : False\n",
        "```"
      ]
    },
    {
      "cell_type": "markdown",
      "source": [
        "### Exemplo #1"
      ],
      "metadata": {
        "id": "Xf6kOfv2Xbqz"
      }
    },
    {
      "cell_type": "markdown",
      "metadata": {
        "id": "IC46_mpQdUVn"
      },
      "source": [
        "Se eu tiver mais que 20 reais e o preço do lanche for menor que 10 reais então eu irei comprar o lanche:"
      ]
    },
    {
      "cell_type": "code",
      "metadata": {
        "id": "Zxpqgg6EdOvB",
        "colab": {
          "base_uri": "https://localhost:8080/"
        },
        "outputId": "c47a67ce-5711-4aad-d914-5e4025d1398e"
      },
      "source": [
        "lanche_preco = 9.90\n",
        "carteira_saldo = 25\n",
        "\n",
        "if carteira_saldo > 20 and lanche_preco < 10:\n",
        "  print('Eu vou comprar o lanche.')\n",
        "else:\n",
        "  print('Eu não vou comprar o lanche.')"
      ],
      "execution_count": null,
      "outputs": [
        {
          "output_type": "stream",
          "name": "stdout",
          "text": [
            "Eu vou comprar o lanche.\n"
          ]
        }
      ]
    },
    {
      "cell_type": "markdown",
      "source": [
        "### Exemplo #2"
      ],
      "metadata": {
        "id": "pKbp6xY1XY0y"
      }
    },
    {
      "cell_type": "markdown",
      "metadata": {
        "id": "IxMylkajdYS0"
      },
      "source": [
        "Se você tiver média nas notas > 7 ou nota na prova final > 7, então você está aprovado."
      ]
    },
    {
      "cell_type": "code",
      "metadata": {
        "id": "19bwS1gQdZyR",
        "colab": {
          "base_uri": "https://localhost:8080/"
        },
        "outputId": "641de117-3fba-481e-fc85-8a4cdae6894f"
      },
      "source": [
        "# Declarando as variáveis:\n",
        "nota_1 = 0\n",
        "nota_2 = 0\n",
        "nota_final = 0\n",
        "media = 0\n",
        "\n",
        "# Solicitando as notas:\n",
        "nota_1 = float(input('Digite a primeira nota: '))\n",
        "nota_2 = float(input('Digite a segunda nota: '))\n",
        "\n",
        "# Calculando a média:\n",
        "media = (nota_1 + nota_2) / 2\n",
        "\n",
        "# Tratando a nota final:\n",
        "if media < 7.0:\n",
        "    print()\n",
        "    nota_final = float(input('Digite a nota final: '))\n",
        "\n",
        "# Comparando e calculando o resultado\n",
        "if media >= 7.0 or nota_final >= 7.0:\n",
        "    print()\n",
        "    print('Aprovado')\n",
        "else:\n",
        "    print()\n",
        "    print('Reprovado')\n"
      ],
      "execution_count": null,
      "outputs": [
        {
          "output_type": "stream",
          "name": "stdout",
          "text": [
            "Digite a primeira nota: 7\n",
            "Digite a segunda nota: 6\n",
            "\n",
            "Digite a nota final: 6\n",
            "\n",
            "Reprovado\n"
          ]
        }
      ]
    },
    {
      "cell_type": "markdown",
      "source": [
        "## Verificando Variáveis"
      ],
      "metadata": {
        "id": "uG_eQMFVXU2J"
      }
    },
    {
      "cell_type": "markdown",
      "metadata": {
        "id": "Z2n03UzbdcoG"
      },
      "source": [
        "Esta funcionalidade é muito usada para testar e saber se podemos converter as variáveis dadas pelo usuário."
      ]
    },
    {
      "cell_type": "markdown",
      "metadata": {
        "id": "r25150ecdfBN"
      },
      "source": [
        "> `.isnumeric( )` : #o input é numérico\n",
        "\n",
        "> `.isalpha( )` : #o input é texto\n",
        "\n",
        "> `.isalnum( )` : #o input é texto + num"
      ]
    },
    {
      "cell_type": "markdown",
      "source": [
        "### Exemplo"
      ],
      "metadata": {
        "id": "KmxggKiJXj5R"
      }
    },
    {
      "cell_type": "markdown",
      "metadata": {
        "id": "NMkrrJUtdhBM"
      },
      "source": [
        "Peça para o usuário digitar alguma coisa e verifique o que é:"
      ]
    },
    {
      "cell_type": "code",
      "metadata": {
        "id": "gNz1JXhwdi-8",
        "colab": {
          "base_uri": "https://localhost:8080/"
        },
        "outputId": "6f74d49d-04ac-4aae-acfb-717729ed5308"
      },
      "source": [
        "alguma_coisa = input('Digite alguma coisa: ')\n",
        "print()\n",
        "print('Todos os caracteres da string são numéricos?', alguma_coisa.isnumeric())\n",
        "print('Todos os caracteres da string são do alfabeto?', alguma_coisa.isalpha())\n",
        "print('Todos os caracteres da string são alfanumérico (contém letras ou números)?', alguma_coisa.isalnum())"
      ],
      "execution_count": null,
      "outputs": [
        {
          "output_type": "stream",
          "name": "stdout",
          "text": [
            "Digite alguma coisa: 6hdh\n",
            "\n",
            "Todos os caracteres da string são numéricos? False\n",
            "Todos os caracteres da string são do alfabeto? False\n",
            "Todos os caracteres da string são alfanumérico (contém letras ou números)? True\n"
          ]
        }
      ]
    },
    {
      "cell_type": "markdown",
      "metadata": {
        "id": "KOZpI7mldj_Z"
      },
      "source": [
        "## Exercícios"
      ]
    },
    {
      "cell_type": "markdown",
      "source": [
        "### Exercício #1"
      ],
      "metadata": {
        "id": "oPV_Ts1BXwYN"
      }
    },
    {
      "cell_type": "markdown",
      "metadata": {
        "id": "HZZy1W73doX-"
      },
      "source": [
        "Faça um programa que verifique se o usuário digitou um valor numérico ou não.\n",
        "\n",
        "* Caso Verdadeiro, imprima: 'Esse input é um número'\n",
        "\n",
        "* Caso Falso, imprima: 'Esse input não é um número, tente novamente'\n"
      ]
    },
    {
      "cell_type": "code",
      "metadata": {
        "id": "yel1IF1ydpzs",
        "colab": {
          "base_uri": "https://localhost:8080/"
        },
        "outputId": "0c1a53bd-2950-43ed-fd44-5e7a4df93720"
      },
      "source": [
        "# Solicitando a informação ao usuário:\n",
        "digito = input('Digite algo: ')\n",
        "\n",
        "# Analisando e exibindo o resultado:\n",
        "if digito.isnumeric():\n",
        "  print()\n",
        "  print('A informação digitada é um número.')\n",
        "else:\n",
        "  print('A informação digitada não é um número. Tente novamente.')"
      ],
      "execution_count": null,
      "outputs": [
        {
          "output_type": "stream",
          "name": "stdout",
          "text": [
            "Digite algo: 21\n",
            "\n",
            "A informação digitada é um número.\n"
          ]
        }
      ]
    },
    {
      "cell_type": "markdown",
      "source": [
        "### Exercício 02"
      ],
      "metadata": {
        "id": "GLvj8xjNX1N8"
      }
    },
    {
      "cell_type": "markdown",
      "metadata": {
        "id": "O-bH-WFKdrK9"
      },
      "source": [
        "Peça para o usuário digitar um número e verifique se ele é par e imprima para o usuário essa informação.\n",
        "\n",
        "Dica: números pares quando são divididos por 2 possuem resto = 0"
      ]
    },
    {
      "cell_type": "code",
      "metadata": {
        "id": "5hllpCqKds-_",
        "colab": {
          "base_uri": "https://localhost:8080/"
        },
        "outputId": "d9b84066-f42a-4db4-a52e-899ad41d07ef"
      },
      "source": [
        "## Solicitando a informação ao usuário:\n",
        "numero = int(input('Digite um número: '))\n",
        "\n",
        "# Analisando e exibindo o resultado:\n",
        "if numero % 2 == 0:\n",
        "  print()\n",
        "  print('O número é par.')\n",
        "else:\n",
        "  print()\n",
        "  print('O número é ímpar.')"
      ],
      "execution_count": null,
      "outputs": [
        {
          "output_type": "stream",
          "name": "stdout",
          "text": [
            "Digite um número: 7\n",
            "\n",
            "O número é ímpar.\n"
          ]
        }
      ]
    },
    {
      "cell_type": "markdown",
      "source": [
        "### Exercício #3"
      ],
      "metadata": {
        "id": "02b6d2I5X_qg"
      }
    },
    {
      "cell_type": "markdown",
      "metadata": {
        "id": "c9klAnx-dtQa"
      },
      "source": [
        "Faça um programa no qual o usuário insira 2 inteiros. Verifique se o número 1 é divisível pelo número 2. Imprima essa informação para o usuário."
      ]
    },
    {
      "cell_type": "code",
      "metadata": {
        "id": "gIB2qixZdt9H",
        "colab": {
          "base_uri": "https://localhost:8080/"
        },
        "outputId": "e60a88b8-734a-4a6a-9602-763485415bb4"
      },
      "source": [
        "# Solicitando as informações ao usuário:\n",
        "numero_1 = int(input('Digite um número inteiro: '))\n",
        "numero_2 = int(input('Digite outro número inteiro: '))\n",
        "\n",
        "# Analisando e exibindo o resultado:\n",
        "if numero_1 % numero_2 == 0:\n",
        "  print()\n",
        "  print('O primeiro número é divisível pelo segundo número.')\n",
        "else:\n",
        "  print()\n",
        "  print('O primeiro número não é divisível pelo segundo número.')"
      ],
      "execution_count": null,
      "outputs": [
        {
          "output_type": "stream",
          "name": "stdout",
          "text": [
            "Digite um número inteiro: 4\n",
            "Digite outro número inteiro: 3\n",
            "\n",
            "O primeiro número não é divisível pelo segundo número.\n"
          ]
        }
      ]
    },
    {
      "cell_type": "markdown",
      "source": [
        "## Desafio da Calculadora"
      ],
      "metadata": {
        "id": "GWDvwDOnYHb8"
      }
    },
    {
      "cell_type": "markdown",
      "metadata": {
        "id": "1aLL6abedwwK"
      },
      "source": [
        "Faça um programa no qual o usuário vai digitar 2 números e também o tipo de operação que ele gostaria que fosse feita:\n",
        "\n",
        "* Soma\n",
        "* Subtração\n",
        "* Divisão\n",
        "* Multiplicação\n",
        "* Potência\n",
        "\n",
        "Imprima o resultado para o usuário da operação:\n",
        "\n",
        "Num1  `Operação`  Num2\n",
        "\n",
        "Caso o usuário não digite uma operação válida, dê uma mensagem de erro!"
      ]
    },
    {
      "cell_type": "code",
      "metadata": {
        "id": "VNXoWYDKdym5",
        "colab": {
          "base_uri": "https://localhost:8080/"
        },
        "outputId": "9f9990fb-16e7-40ca-bc46-9630d16bf99a"
      },
      "source": [
        "# Introduzindo as operações disponíveis\n",
        "print('Bem-vindo à Calculadora em Python')\n",
        "print()\n",
        "print('Operações: Soma | Subtração | Divisão | Multiplicação | Potência')\n",
        "print()\n",
        "\n",
        "# Solicitando as informações ao usuário:\n",
        "num_1 = float(input('Digite o primeiro número da operação: '))\n",
        "num_2 = float(input('Digite o segundo número da operação: '))\n",
        "operacao_tipo = input('Digite o tipo de operação desejada: ')\n",
        "\n",
        "# Analisado e exibindo o resultado da operação:\n",
        "if operacao_tipo == 'Soma':\n",
        "  print()\n",
        "  print('{} + {} = {}' .format(num_1, num_2, num_1 + num_2))\n",
        "elif operacao_tipo == 'Subtracao':\n",
        "  print()\n",
        "  print('{} - {} = {}' .format(num_1, num_2, num_1 - num_2))\n",
        "elif operacao_tipo == 'Divisão':\n",
        "  print()\n",
        "  print('{} / {} = {}' .format(num_1, num_2, num_1 / num_2))\n",
        "elif operacao_tipo == 'Multiplicação':\n",
        "  print()\n",
        "  print('{} * {} = {}' .format(num_1, num_2, num_1 * num_2))\n",
        "elif operacao_tipo == 'Potência':\n",
        "  print()\n",
        "  print('{} ^ {} = {}' .format(num_1, num_2, num_1 ** num_2))\n",
        "else:\n",
        "  print()\n",
        "  print('Operação desconhecida. Tente novamente.')"
      ],
      "execution_count": null,
      "outputs": [
        {
          "output_type": "stream",
          "name": "stdout",
          "text": [
            "Bem-vindo à Calculadora em Python\n",
            "\n",
            "Operações: Soma | Subtração | Divisão | Multiplicação | Potência\n",
            "\n",
            "Digite o primeiro número da operação: 4\n",
            "Digite o segundo número da operação: 5\n",
            "Digite o tipo de operação desejada: Divisão\n",
            "\n",
            "4.0 / 5.0 = 0.8\n"
          ]
        }
      ]
    }
  ]
}