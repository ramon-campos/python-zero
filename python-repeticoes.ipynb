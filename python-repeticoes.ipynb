{
  "nbformat": 4,
  "nbformat_minor": 0,
  "metadata": {
    "colab": {
      "name": "python-repeticoes.ipynb",
      "provenance": [],
      "include_colab_link": true
    },
    "kernelspec": {
      "name": "python3",
      "display_name": "Python 3"
    },
    "language_info": {
      "name": "python"
    }
  },
  "cells": [
    {
      "cell_type": "markdown",
      "metadata": {
        "id": "view-in-github",
        "colab_type": "text"
      },
      "source": [
        "<a href=\"https://colab.research.google.com/github/ramon-campos/python-zero/blob/main/python-repeticoes.ipynb\" target=\"_parent\"><img src=\"https://colab.research.google.com/assets/colab-badge.svg\" alt=\"Open In Colab\"/></a>"
      ]
    },
    {
      "cell_type": "markdown",
      "metadata": {
        "id": "vmOiyAlWk7HR"
      },
      "source": [
        "# Repetições (Loops)\n",
        "\n",
        "As repetições são usadas para executarmos alguma ação por várias vezes seguidas."
      ]
    },
    {
      "cell_type": "markdown",
      "metadata": {
        "id": "bcRKHwmqlMbU"
      },
      "source": [
        "## For\n",
        "\n",
        "O `for` é utilizado quando queremos executar uma ação por uma determinada quantidade de vezes."
      ]
    },
    {
      "cell_type": "markdown",
      "metadata": {
        "id": "V02UrCnblc0H"
      },
      "source": [
        "### Estrutura do `for`\n",
        "\n",
        "```\n",
        "passo = range(ini, fim, passo)\n",
        "for i in passo:\n",
        "  print(\"Bloco de repetição\")\n",
        "```\n",
        "Temos que determinar um início e um fim para o for, que irá determinar a quantidade de vezes que a ação repetida será feita."
      ]
    },
    {
      "cell_type": "markdown",
      "source": [
        "### Exemplo 01\n",
        "Faça o programa imprimir \"Olá\" cinco vezes seguidas."
      ],
      "metadata": {
        "id": "ItRFQVrovJQV"
      }
    },
    {
      "cell_type": "code",
      "metadata": {
        "id": "qrUhoWGolY3q"
      },
      "source": [
        "# Definindo o passo\n",
        "passo = range(1, 6)\n",
        "\n",
        "# Usando o for\n",
        "for i in passo:\n",
        "  print(\"Olá\")"
      ],
      "execution_count": null,
      "outputs": []
    },
    {
      "cell_type": "markdown",
      "metadata": {
        "id": "lBLQEda-nk25"
      },
      "source": [
        "### Exemplo 02\n",
        "\n",
        "Faça o programa ler um livro de 10 páginas."
      ]
    },
    {
      "cell_type": "code",
      "metadata": {
        "id": "bzaGzrJIn4Pf"
      },
      "source": [
        "passo = range(1, 11)\n",
        "\n",
        "for i in passo:\n",
        "  print(\"Lendo a página: {}\" .format(i))\n",
        "print(\"Fim\")\n"
      ],
      "execution_count": null,
      "outputs": []
    },
    {
      "cell_type": "markdown",
      "metadata": {
        "id": "NAvzfc_RoWtZ"
      },
      "source": [
        "### Exemplo 03\n",
        "\n",
        "Some 5 números digitados pelo usuário."
      ]
    },
    {
      "cell_type": "code",
      "metadata": {
        "id": "scbOGzp5ouHo"
      },
      "source": [
        "passo = range(1, 6)\n",
        "soma = 0\n",
        "\n",
        "for i in passo:\n",
        "  n = int(input(\"Digite um valor: \"))\n",
        "  soma = soma + n\n",
        "print(\"\\nA soma total é de {}.\" .format(soma))"
      ],
      "execution_count": null,
      "outputs": []
    },
    {
      "cell_type": "markdown",
      "metadata": {
        "id": "yvkH4EatpD7k"
      },
      "source": [
        "## Modificando o `range()`\n",
        "\n",
        "O range tradicional vai aumentando o passo de 1 em 1 dentro do for, porém podemos configurar para aumentar da maneira que quisermos."
      ]
    },
    {
      "cell_type": "markdown",
      "metadata": {
        "id": "c-vbKqjOpUoD"
      },
      "source": [
        "### Estrutura do `range()`\n",
        "\n",
        "```\n",
        "range(inicio, fim, passo)\n",
        "```\n",
        "\n",
        "* início: número inicial do range\n",
        "* fim: número final do range\n",
        "* passo: de quanto em quanto o valor será incrementado\n"
      ]
    },
    {
      "cell_type": "markdown",
      "metadata": {
        "id": "02WcfgvtqK5L"
      },
      "source": [
        "### Exemplo 01\n",
        "\n",
        "range(0, 10, 2)"
      ]
    },
    {
      "cell_type": "code",
      "metadata": {
        "id": "mzB0T8eqqR3c"
      },
      "source": [
        "passo = range(0, 10, 2)\n",
        "\n",
        "for i in passo:\n",
        "  print(i)\n",
        "print(\"Fim\")"
      ],
      "execution_count": null,
      "outputs": []
    },
    {
      "cell_type": "markdown",
      "metadata": {
        "id": "7afcILRKqr2O"
      },
      "source": [
        "### Exemplo 02\n",
        "\n",
        "range(10, 1, -1)"
      ]
    },
    {
      "cell_type": "code",
      "metadata": {
        "id": "Swlil-DQqzjP"
      },
      "source": [
        "passo = range(10, 0, -1)\n",
        "\n",
        "for i in passo:\n",
        "  print(i)"
      ],
      "execution_count": null,
      "outputs": []
    },
    {
      "cell_type": "markdown",
      "metadata": {
        "id": "YcrPj7TBrFXH"
      },
      "source": [
        "### Exercício 01\n",
        "\n",
        "Some os números ímpares consecutivos começando em 1 e terminando 9"
      ]
    },
    {
      "cell_type": "code",
      "metadata": {
        "colab": {
          "base_uri": "https://localhost:8080/"
        },
        "id": "0jF7VQL1rFCG",
        "outputId": "e4185407-284e-4681-ac21-c40795691199"
      },
      "source": [
        "soma = 0\n",
        "\n",
        "for i in range(1, 9):\n",
        "  if i % 2 != 0:\n",
        "    soma += i\n",
        "\n",
        "print(\"Somando os números ímpares consecutivos, começando em 1 e terminando em 9:\")\n",
        "print(\"\\n...\\n...\\n...\\n\")\n",
        "print(\"A soma dos números ímpares consecutivos de 1 até 9 é igual a {}.\" .format(soma))\n",
        "print(\"\\nObservação: O número 9 não entra na soma.\")"
      ],
      "execution_count": 13,
      "outputs": [
        {
          "output_type": "stream",
          "name": "stdout",
          "text": [
            "Somando os números ímpares consecutivos, começando em 1 e terminando em 9:\n",
            "\n",
            "...\n",
            "...\n",
            "...\n",
            "\n",
            "A soma dos números ímpares consecutivos de 1 até 9 é igual a 16.\n",
            "\n",
            "Observação: O número 9 não entra na soma.\n"
          ]
        }
      ]
    },
    {
      "cell_type": "markdown",
      "metadata": {
        "id": "L7qgdtWCrlcE"
      },
      "source": [
        "## Cálculos incrementais\n",
        "\n",
        "Em **Python**, assim como muitas outras linguagens de programação, existe uma maneira simplifica de fazer cálculos incrementais"
      ]
    },
    {
      "cell_type": "markdown",
      "source": [
        "### Estrutura dos Cálculos Incrementais"
      ],
      "metadata": {
        "id": "i1TzA_XI1fXa"
      }
    },
    {
      "cell_type": "markdown",
      "source": [
        "> soma = soma + 1 -> `soma += 1` <br>\n",
        "soma = soma + 5 -> `soma += 5` <br>\n",
        "soma = soma - 1 -> `soma -= 1` <br>\n",
        "soma = soma - 5 -> `soma -= 5` <br>\n",
        "soma = soma * 2 -> `soma *= 2` "
      ],
      "metadata": {
        "id": "7ov6s3oC2XoE"
      }
    },
    {
      "cell_type": "markdown",
      "source": [
        "### Resumo"
      ],
      "metadata": {
        "id": "_CBbNFKB1plj"
      }
    },
    {
      "cell_type": "markdown",
      "source": [
        ">anterior `+=` incremento <br>\n",
        "anterior `-=` incremento <br>\n",
        "anterior `*=` incremento <br>\n",
        "anterior `/=` incremento <br>"
      ],
      "metadata": {
        "id": "xbaw8_ab1rxt"
      }
    },
    {
      "cell_type": "markdown",
      "metadata": {
        "id": "yegI_mlDrzsS"
      },
      "source": [
        "### Exemplo 01"
      ]
    },
    {
      "cell_type": "markdown",
      "source": [
        "Começando pelo número 1, some 1 a ele 10 vezes consecutivas."
      ],
      "metadata": {
        "id": "gx4xsvNs120q"
      }
    },
    {
      "cell_type": "code",
      "metadata": {
        "colab": {
          "base_uri": "https://localhost:8080/"
        },
        "id": "Aa2cGd7cUDjn",
        "outputId": "6cc6c42f-3e01-4b0d-ff85-4064f0a45056"
      },
      "source": [
        "soma = 0\n",
        "\n",
        "for i in range(1, 10 + 1):\n",
        "  soma += i\n",
        "\n",
        "print(\"Começando pelo número 1 e somando 1 à ele 10 vezes consecutivas:\")\n",
        "print(\"\\n...\\n...\\n...\\n\")\n",
        "print(\"A soma resultante é igual a {}.\" .format(soma))"
      ],
      "execution_count": null,
      "outputs": [
        {
          "output_type": "stream",
          "name": "stdout",
          "text": [
            "Começando pelo número 1 e somando 1 à ele 10 vezes consecutivas:\n",
            "\n",
            "...\n",
            "...\n",
            "...\n",
            "\n",
            "A soma resultante é igual a 55.\n"
          ]
        }
      ]
    },
    {
      "cell_type": "markdown",
      "metadata": {
        "id": "iZSTFDOVuM4A"
      },
      "source": [
        "<h3> Exemplo 2 </h3>\n",
        "\n",
        "Começando pelo número 2, multiplique ele por 2 nove vezes consecutivas"
      ]
    },
    {
      "cell_type": "code",
      "metadata": {
        "colab": {
          "base_uri": "https://localhost:8080/"
        },
        "id": "7lToFZCzuSpB",
        "outputId": "ef183a0c-cafd-45ce-be5b-b30e8039e69c"
      },
      "source": [
        "mult = 2\n",
        "\n",
        "for i in range(2, 9 + 2):\n",
        "  mult *= 2\n",
        "  print(\"i = {}\\nmult = {}\\n-----------\" .format(i, mult))"
      ],
      "execution_count": null,
      "outputs": [
        {
          "output_type": "stream",
          "name": "stdout",
          "text": [
            "i = 2\n",
            "mult = 4\n",
            "-----------\n",
            "i = 3\n",
            "mult = 8\n",
            "-----------\n",
            "i = 4\n",
            "mult = 16\n",
            "-----------\n",
            "i = 5\n",
            "mult = 32\n",
            "-----------\n",
            "i = 6\n",
            "mult = 64\n",
            "-----------\n",
            "i = 7\n",
            "mult = 128\n",
            "-----------\n",
            "i = 8\n",
            "mult = 256\n",
            "-----------\n",
            "i = 9\n",
            "mult = 512\n",
            "-----------\n",
            "i = 10\n",
            "mult = 1024\n",
            "-----------\n"
          ]
        }
      ]
    },
    {
      "cell_type": "markdown",
      "metadata": {
        "id": "NEC83LINu4Hn"
      },
      "source": [
        "<h2> Exercício 1 </h2>\n",
        "\n",
        "Tire a média de 3 números digitados pelo usuário."
      ]
    },
    {
      "cell_type": "code",
      "metadata": {
        "colab": {
          "base_uri": "https://localhost:8080/"
        },
        "id": "T0sHws0PvBfO",
        "outputId": "5753baf6-54e0-45c7-95f4-54fcd79ae425"
      },
      "source": [
        "\"\"\"\n",
        "passo = range(1,3+1)\n",
        "soma = 0\n",
        "\n",
        "for i in passo:\n",
        "  n = float(input('Digite o {}º número: '.format(i)))\n",
        "  soma += n\n",
        "  print('i = {}, soma = {}'.format(i,soma))\n",
        "media = soma / i\n",
        "print('a média é de: {}'.format(media))\n",
        "\"\"\"\n",
        "\n",
        "# Tire a média de 3 números digitados pelo usuário:\n",
        "\n",
        "soma = 0\n",
        "\n",
        "for i in range(1, 3 + 1):\n",
        "  soma += float(input(\"Digite a nota {}: \". format(i)))\n",
        "\n",
        "media = soma / 3\n",
        "\n",
        "print(\"\\nA soma é igual a {}.\" .format(media))"
      ],
      "execution_count": null,
      "outputs": [
        {
          "output_type": "stream",
          "name": "stdout",
          "text": [
            "Digite a nota 1: 7\n",
            "Digite a nota 2: 7\n",
            "Digite a nota 3: 7\n",
            "\n",
            "A soma é igual a 7.0.\n"
          ]
        }
      ]
    },
    {
      "cell_type": "markdown",
      "metadata": {
        "id": "8jvwLnRDvp90"
      },
      "source": [
        "<h2> Exercício 2 </h2>\n",
        "\n",
        "1. Pergunte para o usuário de quantos números ele quer tirar a média\n",
        "2. Tire a média desses números"
      ]
    },
    {
      "cell_type": "code",
      "metadata": {
        "colab": {
          "base_uri": "https://localhost:8080/"
        },
        "id": "qyVZh-mOvymM",
        "outputId": "fe7fcb2e-bfa0-4747-d685-0111f92fdaf7"
      },
      "source": [
        "# Declarando a variável soma\n",
        "soma = 0\n",
        "\n",
        "# Solicitando ao usuário a quantidade de números que deseja calcular a média\n",
        "num_qtd = int(input(\"De quantos números você quer calcular a média: \"))\n",
        "print()\n",
        "\n",
        "# Solicitando os números ao usuário e somando cada um\n",
        "for i in range(1, num_qtd + 1):\n",
        "  soma += float(input(\"Digite o {}º número: \" .format(i)))\n",
        "\n",
        "# Calculando a média\n",
        "media = soma / num_qtd\n",
        "\n",
        "# Exibindo o resultado da média calculada\n",
        "print(\"\\nA média calculada para os números inseridos é igual a {:.1f}\" .format(media))\n"
      ],
      "execution_count": null,
      "outputs": [
        {
          "output_type": "stream",
          "name": "stdout",
          "text": [
            "De quantos números você quer calcular a média: 3\n",
            "\n",
            "Digite o 1º número: 10\n",
            "Digite o 2º número: 8.2\n",
            "Digite o 3º número: 5.7\n",
            "\n",
            "A média calculada para os números inseridos é igual a 8.0\n"
          ]
        }
      ]
    },
    {
      "cell_type": "markdown",
      "source": [
        "## While"
      ],
      "metadata": {
        "id": "_jXbqA5i2qN5"
      }
    },
    {
      "cell_type": "markdown",
      "metadata": {
        "id": "-ZBojQytwSYF"
      },
      "source": [
        "O `for` é uma estrutura de repetição que possui um começo e um fim bem determinados.\n",
        "\n",
        "Quando não sabemos onde termina um loop precisamos usar outros métodos.\n",
        "\n",
        "O `while` será executado até sua condição inicial não ser mais verdade."
      ]
    },
    {
      "cell_type": "markdown",
      "source": [
        "### Estrutura do While"
      ],
      "metadata": {
        "id": "_Bd8RY4H3Lcw"
      }
    },
    {
      "cell_type": "markdown",
      "metadata": {
        "id": "HOC31j9Nwi55"
      },
      "source": [
        "```\n",
        "while True:\n",
        "\tprint('Execute a ação')\n",
        "```\n",
        "\n",
        "Devido a essa estrutura precisamos ter uma variável de controle e ela precisa ser modificada dentro do loop para não ficarmos presos num looping infinito.\n",
        "\n",
        "```\n",
        "fim = False\n",
        "while fim == False:\n",
        "  print('Execute a ação')\n",
        "  fim = bool(input(‘Terminou?’))\n",
        "print('Fim')\n",
        "```\n"
      ]
    },
    {
      "cell_type": "markdown",
      "source": [
        "### Exemplo 01"
      ],
      "metadata": {
        "id": "GzObzMTH3R0E"
      }
    },
    {
      "cell_type": "markdown",
      "source": [
        "Ler um capítulo de um livro mas mas sem saber quantas páginas possui o capítulo."
      ],
      "metadata": {
        "id": "VrksGVbt3XY-"
      }
    },
    {
      "cell_type": "code",
      "metadata": {
        "id": "y9GWqxsZxw89"
      },
      "source": [
        "fim = \"n\"\n",
        "\n",
        "while fim == \"n\":\n",
        "  print(\"Lendo página\")\n",
        "  fim = input(\"Terminou o capítulo? (s/n) \")\n",
        "print(\"Fim\")"
      ],
      "execution_count": null,
      "outputs": []
    },
    {
      "cell_type": "markdown",
      "source": [
        "### Exemplo 02"
      ],
      "metadata": {
        "id": "cucYJhwx3yqH"
      }
    },
    {
      "cell_type": "markdown",
      "metadata": {
        "id": "LIQpYSB4zMOO"
      },
      "source": [
        "Começando pelo número 1, some 1 a ele 10 vezes consecutivas."
      ]
    },
    {
      "cell_type": "code",
      "metadata": {
        "id": "_EqecwHrzcUt"
      },
      "source": [
        "soma = 1\n",
        "i = 1\n",
        "\n",
        "while i < 11:\n",
        "  i += 1\n",
        "  soma += 1\n",
        "  print(soma)"
      ],
      "execution_count": null,
      "outputs": []
    },
    {
      "cell_type": "markdown",
      "metadata": {
        "id": "gxWv1g3Tz164"
      },
      "source": [
        "### Exercício 01"
      ]
    },
    {
      "cell_type": "markdown",
      "source": [
        "Some números digitados pelo usuário até a soma deles ultrapassar 20."
      ],
      "metadata": {
        "id": "cXNUx9LJ4T08"
      }
    },
    {
      "cell_type": "code",
      "metadata": {
        "id": "E-TiRxTaz-hF"
      },
      "source": [
        "# Some números digitados pelo usuário até a soma deles ultrapassar 20\n",
        "soma = 0\n",
        "\n",
        "while soma < 20:\n",
        "  soma += float(input(\"Digite um número: \"))\n",
        "\n",
        "print(\"A soma de todos os números inseridos foi {}\" .format(soma))\n"
      ],
      "execution_count": null,
      "outputs": []
    },
    {
      "cell_type": "markdown",
      "source": [
        "## Break"
      ],
      "metadata": {
        "id": "bvILxsEQ41ay"
      }
    },
    {
      "cell_type": "markdown",
      "metadata": {
        "id": "Pph_TU7M0-th"
      },
      "source": [
        "O comando break é utilizado para sairmos de um loop em qualquer momento. Ele é muito utilizado quando já atingimos o objetivo ou o usuário pediu para parar o loop.\n",
        "\n",
        "Já que ele sempre finaliza o looping no exato ponto em que ele estava, ele geralmente é utilizado junto com o comando `if` para testar se precisamos ou não parar o looping."
      ]
    },
    {
      "cell_type": "markdown",
      "source": [
        "### Exemplo de Loop Infinito"
      ],
      "metadata": {
        "id": "05-7QroM5I8r"
      }
    },
    {
      "cell_type": "markdown",
      "metadata": {
        "id": "lyRv_8M11uHk"
      },
      "source": [
        "Some os números que o usuário digitar."
      ]
    },
    {
      "cell_type": "code",
      "metadata": {
        "id": "lLtlAjr12LC2"
      },
      "source": [
        "soma = 0\n",
        "\n",
        "while True:\n",
        "  n = float(input(\"Digite um valor: \"))\n",
        "  soma += n\n",
        "print(soma)"
      ],
      "execution_count": null,
      "outputs": []
    },
    {
      "cell_type": "markdown",
      "metadata": {
        "id": "FfX4YbP23BmW"
      },
      "source": [
        "### Exemplo de Loop Infinito Corrigido"
      ]
    },
    {
      "cell_type": "markdown",
      "source": [
        "Some os números que o usuário digitar até ele pedir para parar."
      ],
      "metadata": {
        "id": "tEYYhYZC7ZwH"
      }
    },
    {
      "cell_type": "code",
      "metadata": {
        "id": "Y45Jr5Rj3HB7",
        "colab": {
          "base_uri": "https://localhost:8080/"
        },
        "outputId": "f90b925d-15e4-4286-c12a-4847f69edb73"
      },
      "source": [
        "soma = 0\n",
        "\n",
        "while True:\n",
        "  n = int(input(\"Digite um valor: \"))\n",
        "  soma += n\n",
        "  continua = input(\"Você quer continuar? Digite 's' para SIM e 'n' para NÃO: \")\n",
        "  if continua == \"n\":\n",
        "    break\n",
        "  print(\"\\nO BREAK não foi realizado.\\n\")\n",
        "print(\"\\nO BREAK foi realizado.\")\n",
        "print(\"\\nA soma dos números digitados é igual a {}.\" .format(soma))"
      ],
      "execution_count": null,
      "outputs": [
        {
          "output_type": "stream",
          "name": "stdout",
          "text": [
            "Digite um valor: 5\n",
            "Você quer continuar? Digite 's' para SIM e 'n' para NÃO: s\n",
            "\n",
            "O BREAK não foi realizado.\n",
            "\n",
            "Digite um valor: 5\n",
            "Você quer continuar? Digite 's' para SIM e 'n' para NÃO: n\n",
            "\n",
            "O BREAK foi realizado.\n",
            "\n",
            "A soma dos números digitados é igual a 10.\n"
          ]
        }
      ]
    },
    {
      "cell_type": "markdown",
      "source": [
        "### Exemplo 01"
      ],
      "metadata": {
        "id": "RYoc3_fY7mvR"
      }
    },
    {
      "cell_type": "markdown",
      "metadata": {
        "id": "pEZA9oC33OA-"
      },
      "source": [
        "Peça para o usuário digitar um número. Valide o que ele digitou. Caso não seja um número, peça pra ele digitar de novo."
      ]
    },
    {
      "cell_type": "code",
      "metadata": {
        "colab": {
          "base_uri": "https://localhost:8080/"
        },
        "id": "pOUKQ1a03Nf-",
        "outputId": "88a98f92-6349-426c-c5c7-74e7715869cf"
      },
      "source": [
        "while True:\n",
        "  num = input(\"Digite um número: \")\n",
        "  if num.isnumeric() == True:\n",
        "    print(\"\\nVocê digitou um número válido.\")\n",
        "    break\n",
        "  print(\"\\nVocê não digitou um número válido.\\n\")\n",
        "\n",
        "print(\"\\nFim\")"
      ],
      "execution_count": null,
      "outputs": [
        {
          "output_type": "stream",
          "name": "stdout",
          "text": [
            "Digite um número: sdgdg\n",
            "\n",
            "Você não digitou um número válido.\n",
            "\n",
            "Digite um número: asdf\n",
            "\n",
            "Você não digitou um número válido.\n",
            "\n",
            "Digite um número: sdg5\n",
            "\n",
            "Você não digitou um número válido.\n",
            "\n",
            "Digite um número: 56\n",
            "\n",
            " Você digitou um número válido.\n",
            "\n",
            "FIM\n"
          ]
        }
      ]
    },
    {
      "cell_type": "markdown",
      "source": [
        "### Exemplo 02"
      ],
      "metadata": {
        "id": "Z6-KtQ2r72gn"
      }
    },
    {
      "cell_type": "markdown",
      "metadata": {
        "id": "IVcUZJbq5p1d"
      },
      "source": [
        "Faça um programa que calcula a média de valores digitados pelo usuário até o usuário pedir para parar de inserir números."
      ]
    },
    {
      "cell_type": "code",
      "metadata": {
        "id": "vA44FzlW6zJJ"
      },
      "source": [
        "soma = 0\n",
        "i = 0\n",
        "\n",
        "while True:\n",
        "  i += 1\n",
        "  num = float(input(\"Digite um número: \"))\n",
        "  soma += num\n",
        "  continua = input(\"você quer continuar? (s/n)\")\n",
        "  if continua == \"n\":\n",
        "    break\n",
        "\n",
        "media = soma / i\n",
        "print(\"Você digitou {} números e a média é {}\" .format(i, media))"
      ],
      "execution_count": null,
      "outputs": []
    },
    {
      "cell_type": "markdown",
      "metadata": {
        "id": "oNPzq_Ei73gy"
      },
      "source": [
        "## Exercícios"
      ]
    },
    {
      "cell_type": "markdown",
      "source": [
        "### Exercício 01"
      ],
      "metadata": {
        "id": "Um2YICBw8gaq"
      }
    },
    {
      "cell_type": "markdown",
      "metadata": {
        "id": "aSawlb7J8wXc"
      },
      "source": [
        "Faça um programa que calcula a tabuada do número digitado pelo usuário."
      ]
    },
    {
      "cell_type": "code",
      "metadata": {
        "id": "QPYS_FtJ8-3g"
      },
      "source": [
        "num = int(input(\"De qual número deseja gerar a tabuada: \"))\n",
        "\n",
        "print(\"\\n\")\n",
        "print(\"*\" * 13)\n",
        "print(\"TABUADA DE {}\".format(num))\n",
        "print(\"*\" * 13)\n",
        "for i in range(1, 10 + 1):\n",
        "  print(\"{} x {} = {}\" .format(num, i, num * i))\n"
      ],
      "execution_count": null,
      "outputs": []
    },
    {
      "cell_type": "markdown",
      "source": [
        "### Exercício 02"
      ],
      "metadata": {
        "id": "7MBd75xvAniS"
      }
    },
    {
      "cell_type": "markdown",
      "metadata": {
        "id": "_rBeqxIV8Rvx"
      },
      "source": [
        "Faça um programa que o usuário irá digitar 10 números e você irá mostrar:\n",
        "\n",
        "* Qual foi o menor valor\n",
        "* Qual foi o maior valor\n",
        "* Qual a média dos valores"
      ]
    },
    {
      "cell_type": "code",
      "metadata": {
        "id": "32TsqDVn8RVT"
      },
      "source": [
        "num = int(input(\"Digite um número: \"))\n",
        "\n",
        "menor = num\n",
        "maior = num\n",
        "media = num\n",
        "soma = num\n",
        "\n",
        "for i in range(1, 10):\n",
        "  num = int(input(\"Digite um número: \"))\n",
        "  soma += num\n",
        "  if num < menor:\n",
        "    menor = num\n",
        "  if num > maior:\n",
        "    maior = num\n",
        "\n",
        "print(\"\\nMenor número digitado: {}\" .format(menor))\n",
        "print(\"Maior número digitado: {}\" .format(maior))\n",
        "print(\"Média dos números digitados: {}\" .format(soma / 10))"
      ],
      "execution_count": null,
      "outputs": []
    },
    {
      "cell_type": "markdown",
      "source": [
        "### Exercícios 03"
      ],
      "metadata": {
        "id": "OsPuE11bAvZn"
      }
    },
    {
      "cell_type": "markdown",
      "metadata": {
        "id": "RDgwAZQF75-i"
      },
      "source": [
        "Faça um programa que calcula a Sequência de Fibonacci de N números, onde N é dado pelo usuário.\n",
        "\n",
        "Essa sequência é construída começando com os números 0 e 1. O próximo número da sequência é sempre a soma dos 2 anteriores.\n",
        "\n",
        "Sequência: 0 - 1 - 1 - 2 - 3 - 5 - 8 - 13 - 21 - ..."
      ]
    },
    {
      "cell_type": "markdown",
      "source": [
        "**Resolvendo o exercício 03 com `for`:**"
      ],
      "metadata": {
        "id": "U-1LvkKsBVmj"
      }
    },
    {
      "cell_type": "code",
      "metadata": {
        "id": "bCusX8Iy8v_e"
      },
      "source": [
        "termos_qtd = int(input(\"Digite a quantidade de termos para calcular a sequência de Fibonacci: \"))\n",
        "\n",
        "antipenultimo = 0\n",
        "penultimo = 1\n",
        "\n",
        "print(\"\\nSequência de Fibonacci\\n\")\n",
        "\n",
        "if termos_qtd == 1:\n",
        "  print(0)\n",
        "elif termos_qtd == 2:\n",
        "  print(0)\n",
        "  print(1)\n",
        "else:\n",
        "  print(antipenultimo)\n",
        "  print(penultimo)\n",
        "  for i in range(2, termos_qtd):\n",
        "    num = antipenultimo + penultimo\n",
        "    print(num)\n",
        "    antipenultimo = penultimo\n",
        "    penultimo = num"
      ],
      "execution_count": null,
      "outputs": []
    },
    {
      "cell_type": "markdown",
      "source": [
        "**Resolvendo o exercício 3 com `while`**"
      ],
      "metadata": {
        "id": "u6gKq_IdUGq4"
      }
    },
    {
      "cell_type": "code",
      "source": [
        "termos_qtd = int(input(\"Digite a quantidade de termos para a sequência de Fibonacci: \"))\n",
        "\n",
        "antipenultimo = 0\n",
        "penultimo = 1\n",
        "i = 3\n",
        "\n",
        "print()\n",
        "\n",
        "if termos_qtd == 1:\n",
        "  print(0)\n",
        "elif termos_qtd == 2:\n",
        "  print(0)\n",
        "  print(1)\n",
        "else:\n",
        "  print(\"{} - {}\" .format(antipenultimo, penultimo), end = \"\")\n",
        "  while i <= termos_qtd:\n",
        "    termo = antipenultimo + penultimo\n",
        "    print(\" - {}\" .format(termo), end = \"\")\n",
        "    antipenultimo = penultimo\n",
        "    penultimo = termo\n",
        "    i += 1\n",
        "\n",
        "print(\"\\n\\nFim\")"
      ],
      "metadata": {
        "id": "h8M25DvnUAoa"
      },
      "execution_count": null,
      "outputs": []
    }
  ]
}