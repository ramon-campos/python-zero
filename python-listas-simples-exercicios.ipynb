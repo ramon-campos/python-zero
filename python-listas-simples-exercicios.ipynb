{
  "nbformat": 4,
  "nbformat_minor": 0,
  "metadata": {
    "colab": {
      "name": "python-listas-simples-exercicios.ipynb",
      "provenance": [],
      "collapsed_sections": [],
      "include_colab_link": true
    },
    "kernelspec": {
      "name": "python3",
      "display_name": "Python 3"
    },
    "language_info": {
      "name": "python"
    }
  },
  "cells": [
    {
      "cell_type": "markdown",
      "metadata": {
        "id": "view-in-github",
        "colab_type": "text"
      },
      "source": [
        "<a href=\"https://colab.research.google.com/github/ramon-campos/python-zero/blob/main/python-listas-simples-exercicios.ipynb\" target=\"_parent\"><img src=\"https://colab.research.google.com/assets/colab-badge.svg\" alt=\"Open In Colab\"/></a>"
      ]
    },
    {
      "cell_type": "markdown",
      "metadata": {
        "id": "2mKYxsmgKVI8"
      },
      "source": [
        "# Exercícios de Listas Simples em Python"
      ]
    },
    {
      "cell_type": "markdown",
      "source": [
        "## Exercício 01"
      ],
      "metadata": {
        "id": "5EKc_kM_zFl2"
      }
    },
    {
      "cell_type": "markdown",
      "metadata": {
        "id": "cFWQ-XT5KXMd"
      },
      "source": [
        "Dada as listas e tuplas abaixo:\n",
        "```\n",
        "preco = (10.9, 5.40, 8.30, 3.40)\n",
        "qtdComprada = [0, 3, 2, 4]\n",
        "```\n",
        "Calcule e mostre para o usuário o valor total da compra dele sendo que o valor total será a soma da multiplicação do preço do produto pela quantidade comprada"
      ]
    },
    {
      "cell_type": "code",
      "source": [
        "\n",
        "preco = [10.9, 5.40, 8.30, 3.40]\n",
        "qtd_comprada = [0, 3, 2, 4]\n",
        "\n",
        "valor_total = 0\n",
        "\n",
        "for i, v in enumerate(preco):\n",
        "  print('>>> Item {}: R$ {:.2f} x {} = R$ {:.2f}' .format(i + 1, preco[i], qtd_comprada[i], preco[i] * qtd_comprada[i]))\n",
        "  valor_total += preco[i] * qtd_comprada[i]\n",
        "\n",
        "print('\\n>>> Valor Total: R$ {:.2f}' .format(valor_total))"
      ],
      "metadata": {
        "colab": {
          "base_uri": "https://localhost:8080/"
        },
        "id": "Y-Z_EpCJM1yK",
        "outputId": "78642477-64ad-42b7-b082-b0256e2d8107"
      },
      "execution_count": 8,
      "outputs": [
        {
          "output_type": "stream",
          "name": "stdout",
          "text": [
            ">>> Item 1: R$ 10.90 x 0 = R$ 0.00\n",
            ">>> Item 2: R$ 5.40 x 3 = R$ 16.20\n",
            ">>> Item 3: R$ 8.30 x 2 = R$ 16.60\n",
            ">>> Item 4: R$ 3.40 x 4 = R$ 13.60\n",
            "\n",
            ">>> Valor Total: R$ 46.40\n"
          ]
        }
      ]
    },
    {
      "cell_type": "markdown",
      "source": [
        "## Exercício 02"
      ],
      "metadata": {
        "id": "njItDHagzK-q"
      }
    },
    {
      "cell_type": "markdown",
      "metadata": {
        "id": "pKHED36bK5re"
      },
      "source": [
        "Considerando o exercício anterior e que as posições das listas acima são os preços respectivos de:\n",
        "\n",
        "* Hambúrguer\n",
        "* Refrigerante\n",
        "* Batata\n",
        "* Bombom\n",
        "\n",
        "Peça para o usuário informar a quantidade de cada produto que ele irá comprar para depois mostrar o valor total da conta dele."
      ]
    },
    {
      "cell_type": "code",
      "source": [
        "\n",
        "preco = [10.9, 5.40, 8.30, 3.40]\n",
        "itens = ['Hambúrguer', 'Refrigerante', 'Batata', 'Bombom']\n",
        "qtd = []\n",
        "valor_total = 0\n",
        "\n",
        "print('Informe abaixo a quantidade que deseja comprar de cada item.\\n')\n",
        "\n",
        "for i, v in enumerate(itens):\n",
        "  qtd.append(int(input(f'Quantidade de {v}: ')))\n",
        "\n",
        "print()\n",
        "\n",
        "for i, v in enumerate(itens):\n",
        "  print('{}: R$ {:.2f} x {} = R$ {:.2f}' .format(v, preco[i], qtd[i], preco[i] * qtd[i]))\n",
        "  valor_total += preco[i] * qtd[i]\n",
        "\n",
        "print('\\nValor Total: R$ {:.2f}' .format(valor_total))"
      ],
      "metadata": {
        "colab": {
          "base_uri": "https://localhost:8080/"
        },
        "id": "MrIGzTy_SOS6",
        "outputId": "962319b8-5294-4443-bf39-4dfc5fca2c84"
      },
      "execution_count": 20,
      "outputs": [
        {
          "output_type": "stream",
          "name": "stdout",
          "text": [
            "Informe abaixo a quantidade que deseja comprar de cada item.\n",
            "\n",
            "Quantidade de Hambúrguer: 2\n",
            "Quantidade de Refrigerante: 2\n",
            "Quantidade de Batata: 1\n",
            "Quantidade de Bombom: 4\n",
            "\n",
            "Hambúrguer: R$ 10.90 x 2 = R$ 21.80\n",
            "Refrigerante: R$ 5.40 x 2 = R$ 10.80\n",
            "Batata: R$ 8.30 x 1 = R$ 8.30\n",
            "Bombom: R$ 3.40 x 4 = R$ 13.60\n",
            "\n",
            "Valor Total: R$ 54.50\n"
          ]
        }
      ]
    },
    {
      "cell_type": "markdown",
      "source": [
        "## Exercício 03"
      ],
      "metadata": {
        "id": "WSCiAgd9zRFv"
      }
    },
    {
      "cell_type": "markdown",
      "metadata": {
        "id": "D5bx-H9wLiIY"
      },
      "source": [
        "Faça um programa que pede para o usuário inserir um produto e salvar este produto numa lista.\n",
        "\n",
        "Caso o produto já esteja na lista informe uma mensagem de erro e não cadastre o produto duplicado."
      ]
    },
    {
      "cell_type": "code",
      "metadata": {
        "id": "o3eo0Qs3L9HU",
        "colab": {
          "base_uri": "https://localhost:8080/"
        },
        "outputId": "505e2f95-5ec1-4876-8c32-2acc4c8c578a"
      },
      "source": [
        "\n",
        "listaProdutos = []\n",
        "continua = 's'\n",
        "\n",
        "while continua == 's':\n",
        "  produto = input('\\nDigite o produto que deseja inserir na lista: ')\n",
        "  if produto in listaProdutos:\n",
        "    print('Erro! Produto já cadastrado.')\n",
        "  else:\n",
        "    listaProdutos.append(produto)\n",
        "    print(f'{produto} foi adicionado na lista.')\n",
        "  continua = input('\\nDeseja adicionar outro produto? (s/n): ')\n",
        "\n",
        "print(f'\\nLista de Produtos -> {listaProdutos}')"
      ],
      "execution_count": null,
      "outputs": [
        {
          "output_type": "stream",
          "name": "stdout",
          "text": [
            "\n",
            "Digite o produto que deseja inserir na lista: Pão\n",
            "Pão foi adicionado na lista.\n",
            "\n",
            "Deseja adicionar outro produto? (s/n): s\n",
            "\n",
            "Digite o produto que deseja inserir na lista: Carne\n",
            "Carne foi adicionado na lista.\n",
            "\n",
            "Deseja adicionar outro produto? (s/n): s\n",
            "\n",
            "Digite o produto que deseja inserir na lista: Queijo\n",
            "Queijo foi adicionado na lista.\n",
            "\n",
            "Deseja adicionar outro produto? (s/n): s\n",
            "\n",
            "Digite o produto que deseja inserir na lista: Cebola\n",
            "Cebola foi adicionado na lista.\n",
            "\n",
            "Deseja adicionar outro produto? (s/n): s\n",
            "\n",
            "Digite o produto que deseja inserir na lista: Carne\n",
            "Erro! Produto já cadastrado.\n",
            "\n",
            "Deseja adicionar outro produto? (s/n): n\n",
            "\n",
            "Lista de Produtos -> ['Pão', 'Carne', 'Queijo', 'Cebola']\n"
          ]
        }
      ]
    }
  ]
}