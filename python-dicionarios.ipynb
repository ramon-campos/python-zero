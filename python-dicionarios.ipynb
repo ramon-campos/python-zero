{
  "nbformat": 4,
  "nbformat_minor": 0,
  "metadata": {
    "colab": {
      "name": "python-dicionarios.ipynb",
      "provenance": [],
      "collapsed_sections": [],
      "toc_visible": true,
      "include_colab_link": true
    },
    "kernelspec": {
      "name": "python3",
      "display_name": "Python 3"
    },
    "language_info": {
      "name": "python"
    }
  },
  "cells": [
    {
      "cell_type": "markdown",
      "metadata": {
        "id": "view-in-github",
        "colab_type": "text"
      },
      "source": [
        "<a href=\"https://colab.research.google.com/github/ramon-campos/python-zero/blob/main/python-dicionarios.ipynb\" target=\"_parent\"><img src=\"https://colab.research.google.com/assets/colab-badge.svg\" alt=\"Open In Colab\"/></a>"
      ]
    },
    {
      "cell_type": "markdown",
      "source": [
        "# Dicionários em Python"
      ],
      "metadata": {
        "id": "ItnisdDuDM4-"
      }
    },
    {
      "cell_type": "markdown",
      "source": [
        "## Diferença entre Lista e Dicionário"
      ],
      "metadata": {
        "id": "WmrLlg5TDfun"
      }
    },
    {
      "cell_type": "markdown",
      "source": [
        "Os dicionários são semelhantes às listas. No entanto, nas listas, as posições dos elementos são referenciadas por **índices numéricos**. Já nos dicionários, as posições dos elementos são referenciadas por **índices textuais**, as chamadas **chaves**."
      ],
      "metadata": {
        "id": "R445nEjYta0C"
      }
    },
    {
      "cell_type": "markdown",
      "source": [
        "### Exemplo"
      ],
      "metadata": {
        "id": "JFNU7DInDsXH"
      }
    },
    {
      "cell_type": "markdown",
      "source": [
        "Declare e imprima as duas listas abaixo exatamente como estão:"
      ],
      "metadata": {
        "id": "rgGqG-uPDumw"
      }
    },
    {
      "cell_type": "markdown",
      "metadata": {
        "id": "GZhm7ESUUr1N"
      },
      "source": [
        "```\n",
        "lista = ['Ramon', 27, 'Nova Iguaçu']\n",
        "```\n",
        "\n",
        "```\n",
        "dicio = {'nome': 'Ramon', \n",
        "         'idade': 27, \n",
        "         'cidade': 'Nova Iguaçu'}\n",
        "```\n",
        "\n"
      ]
    },
    {
      "cell_type": "code",
      "source": [
        "# Declarando a lista:\n",
        "lista = ['Ramon', 27, 'Nova Iguaçu']\n",
        "# Imprimindo a lista:\n",
        "print(f'Lista: {lista}')\n",
        "\n",
        "# Declarando o dicionário:\n",
        "dicio = {\n",
        "    'nome': 'Ramon',\n",
        "    'idade': 27,\n",
        "    'cidade': 'Nova Iguaçu'\n",
        "}\n",
        "# Imprimindo o dicionário:\n",
        "print(f'Dicionário: {dicio}')"
      ],
      "metadata": {
        "colab": {
          "base_uri": "https://localhost:8080/"
        },
        "id": "2-jt4dI9ty6S",
        "outputId": "4abd31a3-2f4d-414b-db53-5d1b1b5353d5"
      },
      "execution_count": 10,
      "outputs": [
        {
          "output_type": "stream",
          "name": "stdout",
          "text": [
            "Lista: ['Ramon', 27, 'Nova Iguaçu']\n",
            "Dicionário: {'nome': 'Ramon', 'idade': 27, 'cidade': 'Nova Iguaçu'}\n"
          ]
        }
      ]
    },
    {
      "cell_type": "markdown",
      "metadata": {
        "id": "6MV4Lfcno0bp"
      },
      "source": [
        "Comparando os dois resultados vemos que os índices numéricos são substituídos por chaves textuais:\n",
        "\n",
        "```\n",
        "              [0]         [1]           [2]\n",
        "lista = [     'Ramon' ,   27      ,     'Nova Iguaçu']\n",
        "```\n",
        "Então, para acessarmos os valores exatos da lista que a gente deseja, é necessário saber o que cada posição significa, senão faremos análises incorretas.\n",
        "\n",
        "Já no dicionário fica da seguinte forma:\n",
        "```\n",
        "            'nome':     'idade':     'cidade':\n",
        "dicio = {   'Ramon' ,    27      ,   'Nova Iguaçu'}\n",
        "```\n",
        "Muito similar às colunas de uma tabela de um banco de dados.\n"
      ]
    },
    {
      "cell_type": "markdown",
      "metadata": {
        "id": "mSCSNOjdo0Rk"
      },
      "source": [
        "## Estrutura de um Dicionário"
      ]
    },
    {
      "cell_type": "markdown",
      "metadata": {
        "id": "vtc8ZNF9qpRq"
      },
      "source": [
        "A estrutura de um dicionário é baseada em 3 pontos importantes: **keys**, **values** e **items**.\n",
        "\n",
        "Vamos observar de novo o dicionário de exemplo:\n",
        "\n",
        "```\n",
        "         'keys'  : values\n",
        "dicio = {\n",
        "         'nome'  : 'Ramon',       -> items\n",
        "         'idade' :  27, \n",
        "         'cidade': 'Nova Iguaçu'\n",
        "        }\n",
        "```\n",
        "* As `keys` são as chaves, o que substituem as posições de uma lista. Quando quisermos acessar um valor de um dicionário, é dessa chave que temos que lembrar. Assim como num banco de dados, são as colunas que vamos acessar que precisamos saber os nomes.\n",
        "\n",
        "* Os `values` são os valores, o equivalente aos valores dentro de uma lista. São as informações importantes do objeto que queremos acessar e fazer análises.\n",
        "\n",
        "* Os `items` são o conjunto de `key + value`, uma novidade dos dicionários que irão nos ajudar nos loopings."
      ]
    },
    {
      "cell_type": "markdown",
      "metadata": {
        "id": "MY1xIh9ctB-2"
      },
      "source": [
        "## Manipulando um Dicionário"
      ]
    },
    {
      "cell_type": "markdown",
      "source": [
        "### Declarando um Dicionário"
      ],
      "metadata": {
        "id": "1C6GHN_2E8SB"
      }
    },
    {
      "cell_type": "markdown",
      "metadata": {
        "id": "4z8-G4LtxUW3"
      },
      "source": [
        "Todo dicionário é declarado pelas `{ }`\n",
        "\n",
        "* Declarando um dicionário vazio:\n",
        "```\n",
        "dic1 = {}\n",
        "dic2 = dict()\n",
        "```\n",
        "* Declarando um dicionário já preenchido.\n",
        "```\n",
        "dic3 = {\n",
        "    'key1': 'value1',\n",
        "    'key2': 'value2',\n",
        "    'key3': 'value3',\n",
        "}\n",
        "```"
      ]
    },
    {
      "cell_type": "markdown",
      "source": [
        "#### Pontos de Atenção na Declaração"
      ],
      "metadata": {
        "id": "u4KIdJj0SZoB"
      }
    },
    {
      "cell_type": "markdown",
      "source": [
        "* Todas as `keys` são strings e, portanto, devem estar entre aspas;\n",
        "* Os `values` podem ser de qualquer tipo de dado e/ou estrutura: `str`, `int`, `float`, `bool`, `list`, `tuple`, `dict`, etc.;\n",
        "* A declaração direta de valor para uma chave sempre é feita com `:` ;\n",
        "* Embora não seja necessário, é comum declarar um dicionário dando \"*ENTER*\" entre cada chave para ficar visualmente mais fácil de ler no programa."
      ],
      "metadata": {
        "id": "RjAPOD0fSe-P"
      }
    },
    {
      "cell_type": "markdown",
      "source": [
        "#### Exemplo"
      ],
      "metadata": {
        "id": "MiPewuhDFQxc"
      }
    },
    {
      "cell_type": "markdown",
      "source": [
        "Imprima os três dicionários acima e veja se você declarou corretamente."
      ],
      "metadata": {
        "id": "78wpqD20FSu4"
      }
    },
    {
      "cell_type": "code",
      "source": [
        "# Declarando os dicionários:\n",
        "\n",
        "dict1 = {}\n",
        "dict2 = dict()\n",
        "dict3 = {\n",
        "    'key1': 'value1',\n",
        "    'key2': 'value2',\n",
        "    'key3': 'value3'\n",
        "}\n",
        "\n",
        "# Imprimindo os dicionários:\n",
        "\n",
        "print(f'dict1 --> {dict1}')\n",
        "print(f'dict2 --> {dict2}')\n",
        "print(f'dict3 --> {dict3}')"
      ],
      "metadata": {
        "colab": {
          "base_uri": "https://localhost:8080/"
        },
        "id": "Qh7Uf4yQwnha",
        "outputId": "09bbb483-2ae3-45af-b900-90df83b9dfb3"
      },
      "execution_count": 4,
      "outputs": [
        {
          "output_type": "stream",
          "name": "stdout",
          "text": [
            "dict1 --> {}\n",
            "dict2 --> {}\n",
            "dict3 --> {'key1': 'value1', 'key2': 'value2', 'key3': 'value3'}\n"
          ]
        }
      ]
    },
    {
      "cell_type": "markdown",
      "source": [
        "Assim como nas listas, a declaração de dicionários vazios são ótimos para quando os valores do dicionário precisam ser declarados pelo usuário ou lidos de alguma fonte externa."
      ],
      "metadata": {
        "id": "G_5uyiYKFfzV"
      }
    },
    {
      "cell_type": "markdown",
      "source": [
        "### Acessando os Valores"
      ],
      "metadata": {
        "id": "bBSv8tIMFiR2"
      }
    },
    {
      "cell_type": "markdown",
      "metadata": {
        "id": "vDe1gxYrzgrs"
      },
      "source": [
        "```\n",
        "dicio['key'] == value\n",
        "```\n",
        "Acessar os valores de um dicionário é muito similar a acessar os valores de uma lista. Porém, no lugar da `posição`, usamos as `chaves`."
      ]
    },
    {
      "cell_type": "markdown",
      "source": [
        "#### Exemplo"
      ],
      "metadata": {
        "id": "1Y3z5tMVFwWN"
      }
    },
    {
      "cell_type": "markdown",
      "source": [
        "Dado o dicionário abaixo, acesse cada um de seus valores.\n",
        "\n",
        "```\n",
        "pessoa = {\n",
        "  'nome': 'Ramon',\n",
        "  'idade': 27,\n",
        "  'cidade': 'Nova Iguaçu',\n",
        "}\n",
        "```"
      ],
      "metadata": {
        "id": "hPROf0YgFyHb"
      }
    },
    {
      "cell_type": "code",
      "source": [
        "# Declarando o dicionário:\n",
        "\n",
        "pessoa = {\n",
        "    'nome': 'Ramon',\n",
        "    'idade': 27,\n",
        "    'cidade': 'Nova Iguaçu'\n",
        "}\n",
        "\n",
        "# Acessando cada um dos valores do dicionário:\n",
        "print(f'Nome: {pessoa[\"nome\"]}')\n",
        "print(f'Idade: {pessoa[\"idade\"]}')\n",
        "print(f'Cidade: {pessoa[\"cidade\"]}')"
      ],
      "metadata": {
        "colab": {
          "base_uri": "https://localhost:8080/"
        },
        "id": "NKBf9Jnqx3V4",
        "outputId": "5b6de8e6-146b-4ed0-af96-054415655952"
      },
      "execution_count": 13,
      "outputs": [
        {
          "output_type": "stream",
          "name": "stdout",
          "text": [
            "Nome: Ramon\n",
            "Idade: 27\n",
            "Cidade: Nova Iguaçu\n"
          ]
        }
      ]
    },
    {
      "cell_type": "markdown",
      "source": [
        "### Modificando os Valores"
      ],
      "metadata": {
        "id": "mKDehpm7F6tG"
      }
    },
    {
      "cell_type": "markdown",
      "metadata": {
        "id": "9VlHNRy00nV3"
      },
      "source": [
        "```\n",
        "dicio['key'] = value\n",
        "```\n",
        "Similar à listas, se atribuirmos valor a uma posição/chave, já conseguimos  modificar o valor da chave do dicionário."
      ]
    },
    {
      "cell_type": "markdown",
      "source": [
        "#### Exemplo"
      ],
      "metadata": {
        "id": "wTNjqD5sF_6-"
      }
    },
    {
      "cell_type": "markdown",
      "source": [
        "Usando o mesmo dicionário, `pessoa`, modifique a chave `'cidade'` para `'Rio de Janeiro'` e imprima o resultado."
      ],
      "metadata": {
        "id": "8UzQ18idGDtK"
      }
    },
    {
      "cell_type": "code",
      "source": [
        "# Imprimindo a chave 'cidade' antes de modificar seu valor:\n",
        "print(f'pessoa[\"cidade\"] = {pessoa[\"cidade\"]}')\n",
        "\n",
        "# Modificando o valor da chave 'cidade':\n",
        "pessoa['cidade'] = 'Rio de Janeiro'\n",
        "\n",
        "# Imprimindo a chave 'cidade' após modificar seu valor:\n",
        "print(f'pessoa[\"cidade\"] = {pessoa[\"cidade\"]}')"
      ],
      "metadata": {
        "colab": {
          "base_uri": "https://localhost:8080/"
        },
        "id": "0O-3lDH4z6TP",
        "outputId": "6688f06f-d46d-4137-fde7-1191c9d9cce8"
      },
      "execution_count": 15,
      "outputs": [
        {
          "output_type": "stream",
          "name": "stdout",
          "text": [
            "pessoa[\"cidade\"] = Nova Iguaçu\n",
            "pessoa[\"cidade\"] = Rio de Janeiro\n"
          ]
        }
      ]
    },
    {
      "cell_type": "markdown",
      "source": [
        "### Criando uma Nova Chave"
      ],
      "metadata": {
        "id": "RMSE-_Y_GKcG"
      }
    },
    {
      "cell_type": "markdown",
      "metadata": {
        "id": "7IjS-9ls1p90"
      },
      "source": [
        "```\n",
        "dicio['key'] = value\n",
        "```\n",
        "Para criar uma nova chave é exatamente igual a modificar uma chave. A partir do momento que atribuimos um valor, o Python verifica se aquela chave já existe no dicionário. Caso não exista, ele cria uma nova automaticamente."
      ]
    },
    {
      "cell_type": "markdown",
      "source": [
        "#### Exemplo"
      ],
      "metadata": {
        "id": "HK2i3PWEGPUZ"
      }
    },
    {
      "cell_type": "markdown",
      "source": [
        "Usando o mesmo dicionário: `pessoa`, crie uma chave `'peso'` com valor de `65` e imprima o resultado."
      ],
      "metadata": {
        "id": "Bta0pjdiGSgJ"
      }
    },
    {
      "cell_type": "code",
      "source": [
        "# Imprimindo o dicionário antes de criar a nova chave 'peso':\n",
        "print(f'pessoa: {pessoa}')\n",
        "\n",
        "# Criando a nova chave 'peso':\n",
        "pessoa['peso'] = 65\n",
        "\n",
        "# Imprimindo o dicionário após criar a nova chave 'peso':\n",
        "print(f'pessoa: {pessoa}')"
      ],
      "metadata": {
        "colab": {
          "base_uri": "https://localhost:8080/"
        },
        "id": "gzdFS55E1gEr",
        "outputId": "25b6026d-5502-4888-9326-048da1174d7c"
      },
      "execution_count": 17,
      "outputs": [
        {
          "output_type": "stream",
          "name": "stdout",
          "text": [
            "pessoa: {'nome': 'Ramon', 'idade': 27, 'cidade': 'Rio de Janeiro'}\n",
            "pessoa: {'nome': 'Ramon', 'idade': 27, 'cidade': 'Rio de Janeiro', 'peso': 65}\n"
          ]
        }
      ]
    },
    {
      "cell_type": "markdown",
      "source": [
        "#### Observação"
      ],
      "metadata": {
        "id": "JFzOSZMeGXv7"
      }
    },
    {
      "cell_type": "markdown",
      "metadata": {
        "id": "Fo46GxPM2SzU"
      },
      "source": [
        "Tenha cuidado na declaração de novas chaves.\n",
        "\n",
        "O Python é *case sensitive*, ou seja, se você tentar modificar o valor de uma chave mas não colocar o nome da chave exatamente igual, você acabará criando uma nova chave.\n"
      ]
    },
    {
      "cell_type": "markdown",
      "source": [
        "#### Exemplo"
      ],
      "metadata": {
        "id": "NWNHfJAUGizX"
      }
    },
    {
      "cell_type": "markdown",
      "source": [
        "Usando o mesmo dicionário, `pessoa`, crie uma chave `'Cidade'` com valor de `'São Paulo'` e imprima o dicionário completo."
      ],
      "metadata": {
        "id": "Mxf8JTOzGh0S"
      }
    },
    {
      "cell_type": "code",
      "source": [
        "# Imprimindo o dicionário antes de criar a nova chave 'Cidade':\n",
        "print(f'pessoa: {pessoa}')\n",
        "\n",
        "# Criando a nova chave 'Cidade':\n",
        "pessoa['Cidade'] = 'São Paulo'\n",
        "\n",
        "# Imprimindo o dicionário após criar a nova chave 'Cidade':\n",
        "print(f'pessoa: {pessoa}')"
      ],
      "metadata": {
        "colab": {
          "base_uri": "https://localhost:8080/"
        },
        "id": "Q2Ou7dLt2UPY",
        "outputId": "f653842c-285b-40b1-d6ba-df7c86d8ee92"
      },
      "execution_count": 18,
      "outputs": [
        {
          "output_type": "stream",
          "name": "stdout",
          "text": [
            "pessoa: {'nome': 'Ramon', 'idade': 27, 'cidade': 'Rio de Janeiro', 'peso': 65}\n",
            "pessoa: {'nome': 'Ramon', 'idade': 27, 'cidade': 'Rio de Janeiro', 'peso': 65, 'Cidade': 'São Paulo'}\n"
          ]
        }
      ]
    },
    {
      "cell_type": "markdown",
      "source": [
        "Podemos reparar agora que temos duas chaves similares.\n",
        "\n",
        "Diante disso, siga sempre o mesmo padrão de criação de nome de variáveis, listas, chaves, dicionários e etc. para reduzir esse risco.\n",
        "\n",
        "Sempre analise as atuais chaves de um objeto antes de editá-lo de qualquer maneira."
      ],
      "metadata": {
        "id": "gR3h6F6YGtwD"
      }
    },
    {
      "cell_type": "markdown",
      "source": [
        "### Deletando uma Chave com seu Valor"
      ],
      "metadata": {
        "id": "LpbE3r24Gulk"
      }
    },
    {
      "cell_type": "markdown",
      "metadata": {
        "id": "uN36AhyW3IkN"
      },
      "source": [
        "```\n",
        "del dicio['chave']\n",
        "```\n",
        "Muito similar ao que é feito em listas, podemos usar o comando `del`."
      ]
    },
    {
      "cell_type": "markdown",
      "source": [
        "#### Exemplo"
      ],
      "metadata": {
        "id": "Ln9OvJ7hG0y4"
      }
    },
    {
      "cell_type": "markdown",
      "source": [
        "Usando o mesmo dicionário, `pessoa`, delete a chave `'Cidade'` e imprima o dicionário completo."
      ],
      "metadata": {
        "id": "XiPbL9KGG58z"
      }
    },
    {
      "cell_type": "code",
      "source": [
        "# Imprimindo o dicionário antes de deletar a chave 'Cidade':\n",
        "print(f'pessoa: {pessoa}')\n",
        "\n",
        "# Deletando a chave 'Cidade':\n",
        "del pessoa['Cidade']\n",
        "\n",
        "# Imprimindo o dicionário após deletar a chave 'Cidade':\n",
        "print(f'pessoa: {pessoa}')"
      ],
      "metadata": {
        "colab": {
          "base_uri": "https://localhost:8080/"
        },
        "id": "U0F_52kn25uv",
        "outputId": "ef49be6c-3d51-4d1b-f9f4-62a24887e26d"
      },
      "execution_count": 19,
      "outputs": [
        {
          "output_type": "stream",
          "name": "stdout",
          "text": [
            "pessoa: {'nome': 'Ramon', 'idade': 27, 'cidade': 'Rio de Janeiro', 'peso': 65, 'Cidade': 'São Paulo'}\n",
            "pessoa: {'nome': 'Ramon', 'idade': 27, 'cidade': 'Rio de Janeiro', 'peso': 65}\n"
          ]
        }
      ]
    },
    {
      "cell_type": "markdown",
      "source": [
        "### Acessando um Dicionário"
      ],
      "metadata": {
        "id": "Ax9PhEPbG_ng"
      }
    },
    {
      "cell_type": "markdown",
      "metadata": {
        "id": "W8dv8FqsAF8r"
      },
      "source": [
        "```\n",
        "dicio          #dicionário completo\n",
        "dicio.values()  #somente os valores do dicionário\n",
        "dicio.keys()   #somente as chaves do dicionário\n",
        "dicio.items()  #chaves + valores do dicionário (usado em loops)\n",
        "```\n",
        "Como visto anteriormente, os dicionários possuem 3 itens principais, que serão usados para acessar parâmetros específicos dos dicionários. "
      ]
    },
    {
      "cell_type": "markdown",
      "source": [
        "#### Exemplo"
      ],
      "metadata": {
        "id": "MgVIByQlHGz2"
      }
    },
    {
      "cell_type": "markdown",
      "source": [
        "Usando o mesmo dicionário, `pessoa`, imprima cada um dos itens acima."
      ],
      "metadata": {
        "id": "OVsC6DbbHKrl"
      }
    },
    {
      "cell_type": "code",
      "source": [
        "# Acessando o dicionário completo:\n",
        "pessoa"
      ],
      "metadata": {
        "colab": {
          "base_uri": "https://localhost:8080/"
        },
        "id": "_SI59T6a3q3h",
        "outputId": "3a9ec531-f312-44da-cd68-e0531bd118f7"
      },
      "execution_count": 20,
      "outputs": [
        {
          "output_type": "execute_result",
          "data": {
            "text/plain": [
              "{'cidade': 'Rio de Janeiro', 'idade': 27, 'nome': 'Ramon', 'peso': 65}"
            ]
          },
          "metadata": {},
          "execution_count": 20
        }
      ]
    },
    {
      "cell_type": "markdown",
      "source": [
        "No código acima, foi retornado o dicionário com as keys ordenadas alfabeticamente. Como fazer para retornar o dicionário na ordem em que ele foi criado?"
      ],
      "metadata": {
        "id": "o31JFIxP39sG"
      }
    },
    {
      "cell_type": "code",
      "source": [
        "# Acessando somente os valores do dicionário:\n",
        "pessoa.values()"
      ],
      "metadata": {
        "colab": {
          "base_uri": "https://localhost:8080/"
        },
        "id": "7HlrdR6Q3qxl",
        "outputId": "055cebe9-658c-48dd-fca3-fd6ab284fec2"
      },
      "execution_count": 21,
      "outputs": [
        {
          "output_type": "execute_result",
          "data": {
            "text/plain": [
              "dict_values(['Ramon', 27, 'Rio de Janeiro', 65])"
            ]
          },
          "metadata": {},
          "execution_count": 21
        }
      ]
    },
    {
      "cell_type": "code",
      "source": [
        "# Acessando somente as chaves do dicionário:\n",
        "pessoa.keys()"
      ],
      "metadata": {
        "colab": {
          "base_uri": "https://localhost:8080/"
        },
        "id": "Wyv9psch3qvn",
        "outputId": "2ae33566-c0ca-4675-a352-3806233004a7"
      },
      "execution_count": 22,
      "outputs": [
        {
          "output_type": "execute_result",
          "data": {
            "text/plain": [
              "dict_keys(['nome', 'idade', 'cidade', 'peso'])"
            ]
          },
          "metadata": {},
          "execution_count": 22
        }
      ]
    },
    {
      "cell_type": "code",
      "source": [
        "# Acessando as chaves e os seus respectivos valores:\n",
        "pessoa.items()"
      ],
      "metadata": {
        "colab": {
          "base_uri": "https://localhost:8080/"
        },
        "id": "ls5jWPJJ3qtF",
        "outputId": "a4a6b64f-da62-4855-c659-1ef5c88af2d1"
      },
      "execution_count": 23,
      "outputs": [
        {
          "output_type": "execute_result",
          "data": {
            "text/plain": [
              "dict_items([('nome', 'Ramon'), ('idade', 27), ('cidade', 'Rio de Janeiro'), ('peso', 65)])"
            ]
          },
          "metadata": {},
          "execution_count": 23
        }
      ]
    },
    {
      "cell_type": "markdown",
      "metadata": {
        "id": "yl5duH1QBl_0"
      },
      "source": [
        "Repare que os 3 itens acabaram ficando parecidos com uma lista. Se usarmos o comando `list()` podemos até converter cada um desses itens em listas para trabalharmos de outras maneiras."
      ]
    },
    {
      "cell_type": "markdown",
      "source": [
        "## Dicionários Dentro da Estrutura ``for``"
      ],
      "metadata": {
        "id": "lCUc4GEnHRen"
      }
    },
    {
      "cell_type": "markdown",
      "metadata": {
        "id": "2z9VVPj6B3XI"
      },
      "source": [
        "É comum utilizarmos os dicionários dentro de loops para fazermos as análises. Para isso, usaremos os 3 itens vistos acima: `values`, `keys` e `items`."
      ]
    },
    {
      "cell_type": "markdown",
      "source": [
        "### Acessando os Valores"
      ],
      "metadata": {
        "id": "FeeJauSwHhAS"
      }
    },
    {
      "cell_type": "markdown",
      "metadata": {
        "id": "kSBNuGcuCkBs"
      },
      "source": [
        "```\n",
        "for v in dicio.values():\n",
        "  print(v)\n",
        "```"
      ]
    },
    {
      "cell_type": "markdown",
      "source": [
        "A partir do código acima, entende-se que, **para cada valor dentro dos valores do dicionário, imprima valor**."
      ],
      "metadata": {
        "id": "7H9vxc96-JZo"
      }
    },
    {
      "cell_type": "markdown",
      "source": [
        "#### Exemplo"
      ],
      "metadata": {
        "id": "JcqzDHlWHm8K"
      }
    },
    {
      "cell_type": "markdown",
      "source": [
        "Considerando o dicionário `pessoa`, imprima cada um de seus valores."
      ],
      "metadata": {
        "id": "8tlOFX74HqSo"
      }
    },
    {
      "cell_type": "code",
      "source": [
        "for v in pessoa.values():\n",
        "  print(v)"
      ],
      "metadata": {
        "colab": {
          "base_uri": "https://localhost:8080/"
        },
        "id": "BdoMDVOa9D5E",
        "outputId": "d80dab63-c6da-4026-8e4d-4c7b35f2bce0"
      },
      "execution_count": 24,
      "outputs": [
        {
          "output_type": "stream",
          "name": "stdout",
          "text": [
            "Ramon\n",
            "27\n",
            "Rio de Janeiro\n",
            "65\n"
          ]
        }
      ]
    },
    {
      "cell_type": "markdown",
      "source": [
        "### Acessando as Chaves"
      ],
      "metadata": {
        "id": "iX6_RJLgHtmm"
      }
    },
    {
      "cell_type": "markdown",
      "metadata": {
        "id": "cl5af-1KDSxj"
      },
      "source": [
        "```\n",
        "for k in dicio.keys():\n",
        "  print(k)\n",
        "```"
      ]
    },
    {
      "cell_type": "markdown",
      "source": [
        "A partir do código acima, entende-se que, **para cada chave dentro das chaves do dicionário, imprima chave**."
      ],
      "metadata": {
        "id": "ucWZ7byL97rv"
      }
    },
    {
      "cell_type": "markdown",
      "source": [
        "#### Exemplo"
      ],
      "metadata": {
        "id": "6mFEIOzDH1hE"
      }
    },
    {
      "cell_type": "markdown",
      "source": [
        "Considerando o dicionário `pessoa`, imprima cada um de suas chaves."
      ],
      "metadata": {
        "id": "VU6aTnUtH6cL"
      }
    },
    {
      "cell_type": "code",
      "source": [
        "for k in pessoa.keys():\n",
        "  print(k)"
      ],
      "metadata": {
        "colab": {
          "base_uri": "https://localhost:8080/"
        },
        "id": "OWTL7pqA-OX6",
        "outputId": "c45bedb5-9ac1-43d3-abe7-1e2927b6bf31"
      },
      "execution_count": 25,
      "outputs": [
        {
          "output_type": "stream",
          "name": "stdout",
          "text": [
            "nome\n",
            "idade\n",
            "cidade\n",
            "peso\n"
          ]
        }
      ]
    },
    {
      "cell_type": "markdown",
      "source": [
        "### Acessando os Itens"
      ],
      "metadata": {
        "id": "t6lngKXVIJDV"
      }
    },
    {
      "cell_type": "markdown",
      "metadata": {
        "id": "BKYDSdbhDyzD"
      },
      "source": [
        "```\n",
        "for k, v in dicio.items():\n",
        "  print(k, v)\n",
        "```"
      ]
    },
    {
      "cell_type": "markdown",
      "source": [
        "A partir do código acima, entende-se que, **para cada chave e valor dentro dos itens do dicionário, imprima chave e valor**."
      ],
      "metadata": {
        "id": "d3Q_LnCM-e0X"
      }
    },
    {
      "cell_type": "markdown",
      "source": [
        "#### Exemplo"
      ],
      "metadata": {
        "id": "o6PmH1VuIOd5"
      }
    },
    {
      "cell_type": "markdown",
      "source": [
        "Considerando o dicionário `pessoa`, imprima cada uma de suas chaves e respectivos valores."
      ],
      "metadata": {
        "id": "w9SOAigsISLN"
      }
    },
    {
      "cell_type": "code",
      "source": [
        "for k, v in pessoa.items():\n",
        "  print(f'pessoa[{k}] = {v}')"
      ],
      "metadata": {
        "colab": {
          "base_uri": "https://localhost:8080/"
        },
        "id": "yKWTQ_wz-th2",
        "outputId": "6909c119-0ec7-426e-d302-7666c152e7a3"
      },
      "execution_count": 29,
      "outputs": [
        {
          "output_type": "stream",
          "name": "stdout",
          "text": [
            "pessoa[nome] = Ramon\n",
            "pessoa[idade] = 27\n",
            "pessoa[cidade] = Rio de Janeiro\n",
            "pessoa[peso] = 65\n"
          ]
        }
      ]
    },
    {
      "cell_type": "markdown",
      "source": [
        "#### Exercício"
      ],
      "metadata": {
        "id": "tesWOMVsIbVO"
      }
    },
    {
      "cell_type": "markdown",
      "metadata": {
        "id": "0lNHLBSrEfNv"
      },
      "source": [
        "Dado dicionário abaixo:\n",
        "```\n",
        "cardapio = {\n",
        "  'Hambúrguer': 10.9,\n",
        "  'Batata-frita': 5.5,\n",
        "  'Refrigerante': 3.9\n",
        "}\n",
        "```\n",
        "1. Mostre o cardápio para o usuário\n",
        "2. Pergunte quantos itens ele quer de cada\n",
        "3. Calcule e mostre pra ele o valor total da conta"
      ]
    },
    {
      "cell_type": "code",
      "source": [
        "# Declarando o dicionário:\n",
        "cardapio = {\n",
        "    'Hambúrguer': 10.9,\n",
        "    'Batata-frita': 5.5,\n",
        "    'Refrigerante': 3.9\n",
        "}\n",
        "\n",
        "# Mostrando o cardápio para o usuário:\n",
        "print('-' * 20)\n",
        "print('-' * 5, 'CARDÁPIO', '-' * 5)\n",
        "print('-' * 20)\n",
        "for k, v in cardapio.items():\n",
        "  print(f'{k}: R$ {v}')\n",
        "print('-' * 20)\n",
        "\n",
        "# Perguntando ao usuário quantos itens ele quer de cada:\n",
        "print()\n",
        "qtd = {}\n",
        "for k in cardapio.keys():\n",
        "  qtd[k] = int(input(f'Digite a qtd. de {k} desejada: '))\n",
        "\n",
        "# Calculando e mostrando o valor total da conta:\n",
        "print()\n",
        "soma = 0\n",
        "for k, v in zip(cardapio, qtd):\n",
        "  soma += (cardapio[v] * qtd[v])\n",
        "\n",
        "print(f'O valor total da conta é de R$ {soma}.')"
      ],
      "metadata": {
        "colab": {
          "base_uri": "https://localhost:8080/"
        },
        "id": "7xEdDK5u_bkI",
        "outputId": "c0c3d1ae-ee3c-4233-c82d-0ee0fe5c511a"
      },
      "execution_count": 45,
      "outputs": [
        {
          "output_type": "stream",
          "name": "stdout",
          "text": [
            "--------------------\n",
            "----- CARDÁPIO -----\n",
            "--------------------\n",
            "Hambúrguer: R$ 10.9\n",
            "Batata-frita: R$ 5.5\n",
            "Refrigerante: R$ 3.9\n",
            "--------------------\n",
            "\n",
            "Digite a qtd. de Hambúrguer desejada: 1\n",
            "Digite a qtd. de Batata-frita desejada: 0\n",
            "Digite a qtd. de Refrigerante desejada: 1\n",
            "\n",
            "O valor total da conta é de R$ 14.8.\n"
          ]
        }
      ]
    },
    {
      "cell_type": "markdown",
      "source": [
        "## Dicionários Dentro de Listas"
      ],
      "metadata": {
        "id": "HvhD0maHIkpL"
      }
    },
    {
      "cell_type": "markdown",
      "metadata": {
        "id": "0xidZSTxJB0G"
      },
      "source": [
        "Se os dicionários são como se fossem colunas de uma tabela, as listas são como as suas linhas, formando uma tabela completa."
      ]
    },
    {
      "cell_type": "markdown",
      "source": [
        "### Estrutura"
      ],
      "metadata": {
        "id": "uIDUlVQxIpRg"
      }
    },
    {
      "cell_type": "markdown",
      "metadata": {
        "id": "Q8f8wJaWJlRX"
      },
      "source": [
        "Imaginando uma tabela, temos:\n",
        "\n",
        "```\n",
        "  linhas    'key1':  'key2':  'key3':\n",
        "    [0]     valor11  valor12  valor13\n",
        "    [1]     valor21  valor22  valor23\n",
        "    [2]     valor31  valor32  valor33        \n",
        "\n",
        "```\n",
        "\n",
        "Imaginando que cada linha é uma lista, temos:\n",
        "\n",
        "```\n",
        "lista1 = [value11 , value12 , value13],\n",
        "lista2 = [value21 , value22 , value23],\n",
        "lista3 = [value31 , value32 , value33]\n",
        "```\n",
        "\n",
        "Colocando cada valor e sua respectiva chave dentro dos dicionários, temos:\n",
        "\n",
        "```\n",
        "lista[0] = {'key1': value11, 'key2': value21, 'key3': value31},\n",
        "lista[1] = {'key1': value21, 'key2': value22, 'key3': value32},\n",
        "lista[2] = {'key1': value31, 'key2': value23, 'key3': value33}\n",
        "```\n",
        "\n",
        "Agrupando tudo isso, temos:\n",
        "\n",
        "```\n",
        "lista = [\n",
        "        {'key1': value11, 'key2': value21, 'key3': value31},\n",
        "        {'key1': value21, 'key2': value22, 'key3': value32},\n",
        "        {'key1': value31, 'key2': value23, 'key3': value33}\n",
        "]\n",
        "```"
      ]
    },
    {
      "cell_type": "markdown",
      "source": [
        "### Exemplo"
      ],
      "metadata": {
        "id": "hVmgpADcIwNZ"
      }
    },
    {
      "cell_type": "markdown",
      "source": [
        "Dada a lista de dicionários abaixo, faça:\n",
        "\n",
        "```\n",
        "pessoas = [\n",
        "          {'nome':'Everton' , 'idade':29 , 'cidade':'São José'},\n",
        "          {'nome':'Thiago' , 'idade':34 , 'cidade':'São Paulo'},\n",
        "          {'nome':'André' , 'idade':22 , 'cidade':'Lorena'}\n",
        "]\n",
        "```\n",
        "\n",
        "1. Imprima cada posição da lista (sem usar for)\n",
        "2. Imprima: o nome da pessoa 1, a idade da pessoa 2, e a cidade da pessoa 3"
      ],
      "metadata": {
        "id": "asUFVL-MI0yJ"
      }
    },
    {
      "cell_type": "code",
      "metadata": {
        "id": "4RlGflrvDR72",
        "colab": {
          "base_uri": "https://localhost:8080/"
        },
        "outputId": "6c28ab00-e5bc-454e-b70c-7e2639ad1d59"
      },
      "source": [
        "# Declarando a lista de dicionários:\n",
        "pessoas = [\n",
        "          {'nome':'Everton' , 'idade':29 , 'cidade':'São José'},\n",
        "          {'nome':'Thiago' , 'idade':34 , 'cidade':'São Paulo'},\n",
        "          {'nome':'André' , 'idade':22 , 'cidade':'Lorena'}\n",
        "]\n",
        "# Imprimindo cada lista:\n",
        "print(f'lista[0] = {pessoas[0]}')\n",
        "print(f'lista[1] = {pessoas[1]}')\n",
        "print(f'lista[2] = {pessoas[2]}')\n",
        "print()\n",
        "\n",
        "# Imprimindo o nome da pessoa 1:\n",
        "print(f'Nome da Pessoa #1 = {pessoas[0][\"nome\"]}')\n",
        "\n",
        "# Imprimindo o idade da pessoa 2:\n",
        "print(f'Idade da Pessoa #2 = {pessoas[1][\"idade\"]}')\n",
        "\n",
        "# Imprimindo o cidade da pessoa 3:\n",
        "print(f'Cidade da Pessoa #3 = {pessoas[2][\"cidade\"]}')"
      ],
      "execution_count": 54,
      "outputs": [
        {
          "output_type": "stream",
          "name": "stdout",
          "text": [
            "lista[0] = {'nome': 'Everton', 'idade': 29, 'cidade': 'São José'}\n",
            "lista[1] = {'nome': 'Thiago', 'idade': 34, 'cidade': 'São Paulo'}\n",
            "lista[2] = {'nome': 'André', 'idade': 22, 'cidade': 'Lorena'}\n",
            "\n",
            "Nome da Pessoa #1 = Everton\n",
            "Idade da Pessoa #2 = 34\n",
            "Cidade da Pessoa #3 = Lorena\n"
          ]
        }
      ]
    },
    {
      "cell_type": "markdown",
      "source": [
        "## `For` Dentro de `For`"
      ],
      "metadata": {
        "id": "8PrcM7bGJCzO"
      }
    },
    {
      "cell_type": "markdown",
      "metadata": {
        "id": "N-oL9_92OEKo"
      },
      "source": [
        "Quando temos listas ou dicionários aninhados, é comum precisarmos rodar `for` dentro de `for` para pegar os valores que precisamos, sendo que vai ser: 1 for para cada nível de aninhamento"
      ]
    },
    {
      "cell_type": "markdown",
      "source": [
        "### Estrutura"
      ],
      "metadata": {
        "id": "ItfBV4zyJd8n"
      }
    },
    {
      "cell_type": "markdown",
      "metadata": {
        "id": "b-gn1tryOVY_"
      },
      "source": [
        "```\n",
        "for l in listas:\n",
        "  print(l)\n",
        "  for k, v in l.items(): \n",
        "    print(k, v)\n",
        "```"
      ]
    },
    {
      "cell_type": "markdown",
      "source": [
        "O código acima entende-se que:\n",
        "**Para cada lista dentro de listas, imprima lista, e paracada item da lista selecionada, imprima chave e valor.**"
      ],
      "metadata": {
        "id": "Z51hTGUkNAvF"
      }
    },
    {
      "cell_type": "markdown",
      "source": [
        "### Exemplo"
      ],
      "metadata": {
        "id": "-fIxj-ZIJlEI"
      }
    },
    {
      "cell_type": "markdown",
      "source": [
        "Dada a lista: `pessoas` execute a estrutura acima."
      ],
      "metadata": {
        "id": "88gD8BDgJpAa"
      }
    },
    {
      "cell_type": "code",
      "metadata": {
        "id": "zQ9eR-sUPrNh",
        "colab": {
          "base_uri": "https://localhost:8080/"
        },
        "outputId": "c614250d-5c86-4d82-9727-558e396f7e52"
      },
      "source": [
        "for l in pessoas:\n",
        "  print(f'\\n{l}\\n')\n",
        "  for k, v in l.items():\n",
        "    print(f'pessoas[{k}] = {v}')"
      ],
      "execution_count": 59,
      "outputs": [
        {
          "output_type": "stream",
          "name": "stdout",
          "text": [
            "\n",
            "{'nome': 'Everton', 'idade': 29, 'cidade': 'São José'}\n",
            "\n",
            "pessoas[nome] = Everton\n",
            "pessoas[idade] = 29\n",
            "pessoas[cidade] = São José\n",
            "\n",
            "{'nome': 'Thiago', 'idade': 34, 'cidade': 'São Paulo'}\n",
            "\n",
            "pessoas[nome] = Thiago\n",
            "pessoas[idade] = 34\n",
            "pessoas[cidade] = São Paulo\n",
            "\n",
            "{'nome': 'André', 'idade': 22, 'cidade': 'Lorena'}\n",
            "\n",
            "pessoas[nome] = André\n",
            "pessoas[idade] = 22\n",
            "pessoas[cidade] = Lorena\n"
          ]
        }
      ]
    },
    {
      "cell_type": "markdown",
      "source": [
        "### Exercício"
      ],
      "metadata": {
        "id": "wUMYHe_4Jwhv"
      }
    },
    {
      "cell_type": "markdown",
      "metadata": {
        "id": "WzBljvCzQvTi"
      },
      "source": [
        "Dada a lista `pessoas`\n",
        "\n",
        "1. Imprima somente os nomes da seguinte forma:\n",
        "\n",
        "O nome da pessoa [1] é : 'valor'\n",
        "\n",
        "2. Imprima as cidades das pessoas que possuem menos de 30 anos:\n",
        "\n",
        "A pessoa [N] tem [idade] anos e o nome dela é [nome] e mora em [cidade]"
      ]
    },
    {
      "cell_type": "code",
      "metadata": {
        "id": "r7MS_kOAReSv",
        "colab": {
          "base_uri": "https://localhost:8080/"
        },
        "outputId": "e3466b2d-8821-4d98-ccd6-486dcadacc6d"
      },
      "source": [
        "print('Imprimindo somente os nomes das pesssoas:\\n')\n",
        "\n",
        "for i, l in enumerate(pessoas):\n",
        "  for k, v in l.items():\n",
        "    if k == 'nome':\n",
        "      print(f'O nome da pessoa[{i + 1}] é {v}')\n",
        "\n",
        "print('\\nImprimindo os dados das pesssoas com menos de 30 anos:\\n')\n",
        "for i, l in enumerate(pessoas):\n",
        "  for k, v in l.items():\n",
        "    if k == 'idade' and v <= 30:\n",
        "      print(l)"
      ],
      "execution_count": 87,
      "outputs": [
        {
          "output_type": "stream",
          "name": "stdout",
          "text": [
            "Imprimindo somente os nomes das pesssoas:\n",
            "\n",
            "O nome da pessoa[1] é Everton\n",
            "O nome da pessoa[2] é Thiago\n",
            "O nome da pessoa[3] é André\n",
            "\n",
            "Imprimindo os dados das pesssoas com menos de 30 anos:\n",
            "\n",
            "{'nome': 'Everton', 'idade': 29, 'cidade': 'São José'}\n",
            "{'nome': 'André', 'idade': 22, 'cidade': 'Lorena'}\n"
          ]
        }
      ]
    },
    {
      "cell_type": "markdown",
      "source": [
        "## Copiando Dicionários para Listas"
      ],
      "metadata": {
        "id": "20sWorydJ8SL"
      }
    },
    {
      "cell_type": "markdown",
      "source": [
        "Quando queremos inserir um dicionário dentro de uma lista, não podemos usar o método do fatiamento para fazer a cópia da lista temporária, então faremos:\n",
        "\n",
        "```\n",
        "lista.append(dicionario.copy())\n",
        "```"
      ],
      "metadata": {
        "id": "RcxJLW4DKIKd"
      }
    },
    {
      "cell_type": "markdown",
      "source": [
        "### Estrutura"
      ],
      "metadata": {
        "id": "X4lJ6wELKAb8"
      }
    },
    {
      "cell_type": "markdown",
      "metadata": {
        "id": "a7QwRjiwff4Y"
      },
      "source": [
        "```\n",
        "dicio = {}\n",
        "lista = []\n",
        "for d in range(ini, fim):\n",
        "  dicio.['Key1'] = input('Valor1 = ')\n",
        "  dicio.['Key2'] = input('Valor2 = ')\n",
        "  lista.append(dicio.copy())\n",
        "```\n"
      ]
    },
    {
      "cell_type": "markdown",
      "source": [
        "Assim como nas listas, colocamos os valores inputados pelo usuário num dicionário temporário e a seguir o copiamos para lista.\n",
        "\n",
        "* Não podemos usar: `lista.append(dicio)` pois assim iríamos clonar a lista\n",
        "\n",
        "* Não podemos usar: `lista.append(dicio[:])` pois os dicionários não aceitam append."
      ],
      "metadata": {
        "id": "25mRDj4AOdcx"
      }
    },
    {
      "cell_type": "markdown",
      "source": [
        "### Exemplo"
      ],
      "metadata": {
        "id": "xbn-4gGmKLoc"
      }
    },
    {
      "cell_type": "markdown",
      "source": [
        "Faça um sistema que pergunte e salve em uma lista de dicionários o nome e idade de pessoas. Pergunte pro usuário quando ele quer parar (s/n)."
      ],
      "metadata": {
        "id": "ij5rx6A-KU4d"
      }
    },
    {
      "cell_type": "code",
      "metadata": {
        "id": "GDAsxOKMgj33",
        "colab": {
          "base_uri": "https://localhost:8080/"
        },
        "outputId": "820635fd-7387-4755-c8bd-e8e8e722e1c9"
      },
      "source": [
        "# Passo 1: Declarar o dicionário vazio e a lista vazia.\n",
        "# Passo 2: Através de um loop, perguntar ao usuário o seu nome e a sua idade, \n",
        "# armazenar as informações no dicionário temporário e copiar as informações\n",
        "# para a lista utilizando o método append.\n",
        "\n",
        "# Declarando o dicionário temporário e a lista:\n",
        "temp = {}\n",
        "func = []\n",
        "\n",
        "continuar = 'n'\n",
        "\n",
        "while continuar == 'n':\n",
        "  temp['nome'] = input(f'Digite um nome: ')\n",
        "  temp['idade'] = int(input(f'Digite a idade: '))\n",
        "  func.append(temp.copy())\n",
        "  continuar = input(f'Deseja parar (s/n)? ')\n",
        "\n",
        "print(f'\\nfunc = {func}')"
      ],
      "execution_count": 63,
      "outputs": [
        {
          "output_type": "stream",
          "name": "stdout",
          "text": [
            "Digite um nome: Ramon\n",
            "Digite a idade: 27\n",
            "Deseja parar (s/n)? n\n",
            "Digite um nome: João\n",
            "Digite a idade: 30\n",
            "Deseja parar (s/n)? s\n",
            "\n",
            "func = [{'nome': 'Ramon', 'idade': 27}, {'nome': 'João', 'idade': 30}]\n"
          ]
        }
      ]
    }
  ]
}