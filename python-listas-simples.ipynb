{
  "nbformat": 4,
  "nbformat_minor": 0,
  "metadata": {
    "colab": {
      "name": "python-listas-simples.ipynb",
      "provenance": [],
      "include_colab_link": true
    },
    "kernelspec": {
      "name": "python3",
      "display_name": "Python 3"
    },
    "language_info": {
      "name": "python"
    }
  },
  "cells": [
    {
      "cell_type": "markdown",
      "metadata": {
        "id": "view-in-github",
        "colab_type": "text"
      },
      "source": [
        "<a href=\"https://colab.research.google.com/github/ramon-campos/python-zero/blob/main/python-listas-simples.ipynb\" target=\"_parent\"><img src=\"https://colab.research.google.com/assets/colab-badge.svg\" alt=\"Open In Colab\"/></a>"
      ]
    },
    {
      "cell_type": "markdown",
      "metadata": {
        "id": "vmOiyAlWk7HR"
      },
      "source": [
        "# Listas Simples em Python"
      ]
    },
    {
      "cell_type": "markdown",
      "metadata": {
        "id": "gUt0wyiL5ZV2"
      },
      "source": [
        "As listas são variáveis compostas mutáveis e são declaradas entre colchetes `[]`\n",
        "\n",
        "```\n",
        "lista = ['var1','var2','var3']\n",
        "```\n",
        "\n",
        "Assim como as tuplas elas também aceitam qualquer tipo de dado."
      ]
    },
    {
      "cell_type": "markdown",
      "source": [
        "## Similaridades entre Listas e Tuplas"
      ],
      "metadata": {
        "id": "k2f4RlY61ua6"
      }
    },
    {
      "cell_type": "markdown",
      "source": [
        "Todas as funções vistas em tuplas também funcionam com listas:\n",
        "\n",
        "> **Fatiamento**: `[0] [0:2] [:3] [3:] [-1]` <br>\n",
        "> **Métodos**: `.index()`      `.count()` <br>\n",
        "> **Funções**: `len()` e `sorted()` <br>\n",
        "> **Concatenar**: `lista3 = lista1 + lista2` <br>\n",
        "> **Lista dentro de for**: `for i in lista` e `for i, v in enumerate(lista):`"
      ],
      "metadata": {
        "id": "M9IuX_yU1zv9"
      }
    },
    {
      "cell_type": "markdown",
      "metadata": {
        "id": "cwuCtaPdCi-Z"
      },
      "source": [
        "## Funções e Métodos para Listas"
      ]
    },
    {
      "cell_type": "markdown",
      "source": [
        "### Modificando um Termo"
      ],
      "metadata": {
        "id": "1_mPe43Q240G"
      }
    },
    {
      "cell_type": "markdown",
      "metadata": {
        "id": "gBPUzzksCwsI"
      },
      "source": [
        "```\n",
        "lista[posicao] = novoValor\n",
        "lista[intervalo] = novaLista\n",
        "```"
      ]
    },
    {
      "cell_type": "markdown",
      "source": [
        "#### Exemplo"
      ],
      "metadata": {
        "id": "N1dgvldw3ZJk"
      }
    },
    {
      "cell_type": "markdown",
      "source": [
        "Dada a lista abaixo:\n",
        "\n",
        "`l1 = [2, 6, 4, 5, 7]`\n",
        "\n",
        "* Troque o 3º termo por 3\n",
        "* Troque os 2 primeiros termos por 0 e 1, respectivamente."
      ],
      "metadata": {
        "id": "ZHC_5zzv3d95"
      }
    },
    {
      "cell_type": "code",
      "source": [
        "# Declarando a lista\n",
        "l1 = [2, 6, 4, 5, 7]\n",
        "print(l1)\n",
        "\n",
        "# Substituindo os valores\n",
        "l1[2] = 3\n",
        "print(l1)\n",
        "l1[0:2] = [0,1]\n",
        "print(l1)"
      ],
      "metadata": {
        "colab": {
          "base_uri": "https://localhost:8080/"
        },
        "id": "9_2PcATQ3biY",
        "outputId": "d6c78801-43ca-479c-e317-8c731a75f886"
      },
      "execution_count": 2,
      "outputs": [
        {
          "output_type": "stream",
          "name": "stdout",
          "text": [
            "[2, 6, 4, 5, 7]\n",
            "[2, 6, 3, 5, 7]\n",
            "[0, 1, 3, 5, 7]\n"
          ]
        }
      ]
    },
    {
      "cell_type": "markdown",
      "source": [
        "### Adicionando Termos"
      ],
      "metadata": {
        "id": "Snf6NKID3BS2"
      }
    },
    {
      "cell_type": "markdown",
      "source": [
        "```\n",
        "lista.append(valor)\n",
        "lista.insert(posicao, valor)\n",
        "```"
      ],
      "metadata": {
        "id": "YuCVTehw3HV1"
      }
    },
    {
      "cell_type": "markdown",
      "source": [
        "#### Exemplo"
      ],
      "metadata": {
        "id": "Yj0qFj1-3tif"
      }
    },
    {
      "cell_type": "markdown",
      "source": [
        "Dada a lista abaixo:\n",
        "\n",
        "`l1 = [0, 1, 3, 5, 7]`\n",
        "\n",
        "* Insira 7 para o último valor\n",
        "* Insira 4 na quarta posição"
      ],
      "metadata": {
        "id": "fgWWnQVn3vFY"
      }
    },
    {
      "cell_type": "code",
      "source": [
        "# Declarando a lista\n",
        "l1 = [0, 1, 3, 5, 7]\n",
        "print(l1)\n",
        "\n",
        "# Inserindo os valores\n",
        "l1.append(7)\n",
        "print(l1)\n",
        "l1.insert(3, 4)\n",
        "print(l1)"
      ],
      "metadata": {
        "colab": {
          "base_uri": "https://localhost:8080/"
        },
        "id": "sujJAP193zP4",
        "outputId": "0524e72e-6837-4592-b003-cde6e56b6f13"
      },
      "execution_count": 3,
      "outputs": [
        {
          "output_type": "stream",
          "name": "stdout",
          "text": [
            "[0, 1, 3, 5, 7]\n",
            "[0, 1, 3, 5, 7, 7]\n",
            "[0, 1, 3, 4, 5, 7, 7]\n"
          ]
        }
      ]
    },
    {
      "cell_type": "markdown",
      "source": [
        "Repare que quando usamos o `.insert()` o método insere o valor na posição desejada e desloca todos os outros valores da lista para direita."
      ],
      "metadata": {
        "id": "8B4085VL32M2"
      }
    },
    {
      "cell_type": "markdown",
      "source": [
        "### Deletando Termos"
      ],
      "metadata": {
        "id": "TpPUUWCN3JX7"
      }
    },
    {
      "cell_type": "markdown",
      "source": [
        "```\n",
        "del lista[posicao]\n",
        "var = lista.pop(pos)\n",
        "lista.remove(valor)\n",
        "```"
      ],
      "metadata": {
        "id": "2-deL0ar3LdW"
      }
    },
    {
      "cell_type": "markdown",
      "source": [
        "#### Exemplo"
      ],
      "metadata": {
        "id": "sQ-fjHrL4BuU"
      }
    },
    {
      "cell_type": "markdown",
      "source": [
        "Dada a lista abaixo:\n",
        "\n",
        "`l1 = [0, 1, 3, 4, 5, 7, 7]`\n",
        "\n",
        "* Delete o 4º item usando `del`\n",
        "* Delete o 3º item usando `.pop` e salve na variável `deletado`\n",
        "* Delete o primeiro valor 7 que aparece na lista"
      ],
      "metadata": {
        "id": "TtiiFAWY4Dh9"
      }
    },
    {
      "cell_type": "code",
      "source": [
        "# Declarando a lista\n",
        "l1 = [0, 1, 3, 4, 5, 7, 7]\n",
        "print(l1)\n",
        "\n",
        "# Deletando os valores\n",
        "del l1[3]\n",
        "print(l1)\n",
        "deletado = l1.pop(2)\n",
        "print(l1,' - ', deletado)\n",
        "l1.remove(7)\n",
        "print(l1)"
      ],
      "metadata": {
        "colab": {
          "base_uri": "https://localhost:8080/"
        },
        "id": "H24b-X0P4G7f",
        "outputId": "01e8012f-9769-42c3-cac4-f03b535a280a"
      },
      "execution_count": 4,
      "outputs": [
        {
          "output_type": "stream",
          "name": "stdout",
          "text": [
            "[0, 1, 3, 4, 5, 7, 7]\n",
            "[0, 1, 3, 5, 7, 7]\n",
            "[0, 1, 5, 7, 7]  -  3\n",
            "[0, 1, 5, 7]\n"
          ]
        }
      ]
    },
    {
      "cell_type": "markdown",
      "source": [
        "## Lista com Estrutura Condicional `if`"
      ],
      "metadata": {
        "id": "fdS6hkD84fL0"
      }
    },
    {
      "cell_type": "markdown",
      "source": [
        "Também podemos usar o if de uma forma simplificada na lista para verificarmos se algum valor existe dentro da lista:\n",
        "\n",
        "```\n",
        "if valor in lista:\n",
        "  lista.remove(valor)\n",
        "```\n",
        "Como o exemplo acima mostra ela é muito comum de ser usada para verificar se algum valor está dentro da lista antes de deletá-lo."
      ],
      "metadata": {
        "id": "ZvR6-1z040q_"
      }
    },
    {
      "cell_type": "markdown",
      "source": [
        "#### Exemplo"
      ],
      "metadata": {
        "id": "mlCZlyMV47Mr"
      }
    },
    {
      "cell_type": "markdown",
      "metadata": {
        "id": "62y6abfz9vzf"
      },
      "source": [
        "Dada a lista abaixo:\n",
        "```\n",
        "l2 = [3, 2, 5, 0, 0, 8, 3, 8, 8, 4, 0, 9, 7, 8, 9, 3, 6, 0, 1]\n",
        "```\n",
        "1. Conte a quantidade de termos que a lista possui e imprima\n",
        "2. Delete todos os **0** da lista e imprima-a\n",
        "3. Conte a quantidade de termos da nova lista"
      ]
    },
    {
      "cell_type": "code",
      "metadata": {
        "colab": {
          "base_uri": "https://localhost:8080/"
        },
        "id": "An1LqmQf-SuL",
        "outputId": "e6b7cfe9-eaaa-4f40-eac5-0ed49147c09a"
      },
      "source": [
        "# Declarando a lista\n",
        "l2 = [3, 2, 5, 0, 0, 8, 3, 8, 8, 4, 0, 9, 7, 8, 9, 3, 6, 0, 1]\n",
        "print(l2)\n",
        "\n",
        "# Contando a lista\n",
        "qtdInicial = len(l2)\n",
        "print(qtdInicial)\n",
        "\n",
        "# Deletando os valores\n",
        "for i in l2:\n",
        "  if 0 in l2:\n",
        "    l2.remove(0)\n",
        "print(l2)\n",
        "\n",
        "# Contando a lista final\n",
        "qtdFinal = len(l2)\n",
        "print(qtdFinal)"
      ],
      "execution_count": 5,
      "outputs": [
        {
          "output_type": "stream",
          "name": "stdout",
          "text": [
            "[3, 2, 5, 0, 0, 8, 3, 8, 8, 4, 0, 9, 7, 8, 9, 3, 6, 0, 1]\n",
            "19\n",
            "[3, 2, 5, 8, 3, 8, 8, 4, 9, 7, 8, 9, 3, 6, 1]\n",
            "15\n"
          ]
        }
      ]
    },
    {
      "cell_type": "markdown",
      "metadata": {
        "id": "4A9XTtoV_D1C"
      },
      "source": [
        "## Ordenando a Lista"
      ]
    },
    {
      "cell_type": "markdown",
      "source": [
        "Existe 2 maneiras de ordenar. Uma delas é uma função e a outra é um método.\n",
        "\n",
        "```\n",
        "sorted(lista)\n",
        "lista.sort()\n",
        "lista.sort(reverse = True)\n",
        "```"
      ],
      "metadata": {
        "id": "wTBo6nx45OK8"
      }
    },
    {
      "cell_type": "markdown",
      "source": [
        "#### Exemplo"
      ],
      "metadata": {
        "id": "a9z_67785TyA"
      }
    },
    {
      "cell_type": "markdown",
      "metadata": {
        "id": "3vUjfYld_mJc"
      },
      "source": [
        "Dada a lista abaixo:\n",
        "\n",
        "`l1 = [0, 3, 1, 7, 5, 7, 4]`\n",
        "\n",
        "* Ordene a lista com o `sorted`e salve na variável sort1\n",
        "* Ordene a lista com o `.sort()` e salve na variável sort2\n",
        "* Compare os resultados\n",
        "* Faça a ordenação inversa da lista\n"
      ]
    },
    {
      "cell_type": "code",
      "metadata": {
        "colab": {
          "base_uri": "https://localhost:8080/"
        },
        "id": "gfl4Ys7CAJsq",
        "outputId": "515de24b-c676-4b82-ba14-2c9dd3b990bc"
      },
      "source": [
        "# Declarando a lista\n",
        "l1 = [0, 3, 1, 7, 5, 7, 4]\n",
        "print(l1)\n",
        "print()\n",
        "\n",
        "# Fazendo o sort1\n",
        "sort1 = sorted(l1)\n",
        "print(sort1)\n",
        "print(l1)\n",
        "print()\n",
        "\n",
        "# Fazendo o sort2\n",
        "sort2 = l1.sort()\n",
        "print(sort2)\n",
        "print(l1)\n",
        "print()\n",
        "\n",
        "# Ordenação inversa\n",
        "l1.sort(reverse=True)\n",
        "print(l1)"
      ],
      "execution_count": 6,
      "outputs": [
        {
          "output_type": "stream",
          "name": "stdout",
          "text": [
            "[0, 3, 1, 7, 5, 7, 4]\n",
            "\n",
            "[0, 1, 3, 4, 5, 7, 7]\n",
            "[0, 3, 1, 7, 5, 7, 4]\n",
            "\n",
            "None\n",
            "[0, 1, 3, 4, 5, 7, 7]\n",
            "\n",
            "[7, 7, 5, 4, 3, 1, 0]\n"
          ]
        }
      ]
    },
    {
      "cell_type": "markdown",
      "source": [
        "## Diferença entre Função e Método"
      ],
      "metadata": {
        "id": "5XpkMTbG5Y49"
      }
    },
    {
      "cell_type": "markdown",
      "metadata": {
        "id": "8X3mzIaUBC9o"
      },
      "source": [
        "* Funções são executadas em variáveis e possuem como output uma nova variável. Com isso as funções **NÃO** modificam a variável original. Toda função tem a cara: `saida = funcao(variavel)`\n",
        "* Já os métodos modificam as variáveis e salvam o resultado na própria variável. Todo método tem a cara: `variavel.metodo(configuracao)`\n",
        "\n",
        "Por esse comportamente básico os métodos não funcionam em tuplas."
      ]
    },
    {
      "cell_type": "markdown",
      "source": [
        "## Declarando Listas"
      ],
      "metadata": {
        "id": "L-2LM0fV5jnW"
      }
    },
    {
      "cell_type": "markdown",
      "metadata": {
        "id": "1qo6OmevC_R0"
      },
      "source": [
        "É muito comum declararmos listas em branco para que o usuário possa inserir os valores e/ou possamos puxar os valores de algum banco de dados."
      ]
    },
    {
      "cell_type": "markdown",
      "source": [
        "### Declarando Listas em Branco"
      ],
      "metadata": {
        "id": "5DPUTCHi5niG"
      }
    },
    {
      "cell_type": "markdown",
      "source": [
        "```\n",
        "lista = []\n",
        "lista = list()\n",
        "```\n",
        "\n",
        "Após a declaração é possível ir adicionando os valores com o `.append()` que já vimos anteriormente."
      ],
      "metadata": {
        "id": "tMV-mnNt5sHc"
      }
    },
    {
      "cell_type": "markdown",
      "source": [
        "#### Exemplo"
      ],
      "metadata": {
        "id": "ZAxvxgdx5wn1"
      }
    },
    {
      "cell_type": "markdown",
      "metadata": {
        "id": "V03Wjr_eDLQS"
      },
      "source": [
        "Crie uma lista vazia e peça para o usuário inserir 5 números dentro dela."
      ]
    },
    {
      "cell_type": "code",
      "metadata": {
        "colab": {
          "base_uri": "https://localhost:8080/"
        },
        "id": "i-zi__-CDlqB",
        "outputId": "e0b45822-0d96-4d86-bbc5-a09110ad6945"
      },
      "source": [
        "# Declarando a lista:\n",
        "lista = []\n",
        "\n",
        "for i in range(0,5):\n",
        "  lista.append(float(input(f'Digite o {i+1}º número: ')))\n",
        "\n",
        "print(lista)"
      ],
      "execution_count": 7,
      "outputs": [
        {
          "output_type": "stream",
          "name": "stdout",
          "text": [
            "Digite o 1º número: 2\n",
            "Digite o 2º número: 3\n",
            "Digite o 3º número: 6\n",
            "Digite o 4º número: 5\n",
            "Digite o 5º número: 4\n",
            "[2.0, 3.0, 6.0, 5.0, 4.0]\n"
          ]
        }
      ]
    },
    {
      "cell_type": "markdown",
      "source": [
        "### Declarando Listas com `range()`"
      ],
      "metadata": {
        "id": "cNx9j9ve537s"
      }
    },
    {
      "cell_type": "markdown",
      "source": [
        "```\n",
        "lista = list(range(inicio,fim,passo))\n",
        "```\n",
        "\n",
        "Para cálculos e análises matemáticas é muito comum precisarmos criar uma lista de números com um passo conhecido para análises e até gráficos. Gerar esses números com o comando acima se torna bem simples."
      ],
      "metadata": {
        "id": "hrHWY4vT59AT"
      }
    },
    {
      "cell_type": "markdown",
      "source": [
        "#### Exemplo"
      ],
      "metadata": {
        "id": "P5B6wVIW6DuP"
      }
    },
    {
      "cell_type": "markdown",
      "metadata": {
        "id": "fixT4bVfEEFT"
      },
      "source": [
        "Crie uma lista de 0 a 10 com passo de 0.1"
      ]
    },
    {
      "cell_type": "code",
      "metadata": {
        "colab": {
          "base_uri": "https://localhost:8080/"
        },
        "id": "jGHANRyWEDvy",
        "outputId": "f08799a2-c45e-415e-9f08-5fcaaf27d80c"
      },
      "source": [
        "# Criando lista\n",
        "lista2 = list(range(0, 100+1, 1))\n",
        "\n",
        "for i in lista2:\n",
        "  lista2[i] = lista2[i]/10\n",
        "print(lista2)\n"
      ],
      "execution_count": 8,
      "outputs": [
        {
          "output_type": "stream",
          "name": "stdout",
          "text": [
            "[0.0, 0.1, 0.2, 0.3, 0.4, 0.5, 0.6, 0.7, 0.8, 0.9, 1.0, 1.1, 1.2, 1.3, 1.4, 1.5, 1.6, 1.7, 1.8, 1.9, 2.0, 2.1, 2.2, 2.3, 2.4, 2.5, 2.6, 2.7, 2.8, 2.9, 3.0, 3.1, 3.2, 3.3, 3.4, 3.5, 3.6, 3.7, 3.8, 3.9, 4.0, 4.1, 4.2, 4.3, 4.4, 4.5, 4.6, 4.7, 4.8, 4.9, 5.0, 5.1, 5.2, 5.3, 5.4, 5.5, 5.6, 5.7, 5.8, 5.9, 6.0, 6.1, 6.2, 6.3, 6.4, 6.5, 6.6, 6.7, 6.8, 6.9, 7.0, 7.1, 7.2, 7.3, 7.4, 7.5, 7.6, 7.7, 7.8, 7.9, 8.0, 8.1, 8.2, 8.3, 8.4, 8.5, 8.6, 8.7, 8.8, 8.9, 9.0, 9.1, 9.2, 9.3, 9.4, 9.5, 9.6, 9.7, 9.8, 9.9, 10.0]\n"
          ]
        }
      ]
    },
    {
      "cell_type": "markdown",
      "metadata": {
        "id": "iIm9KhkUFb-X"
      },
      "source": [
        "Observe que a função `range( )` somente aceita números inteiros."
      ]
    },
    {
      "cell_type": "markdown",
      "source": [
        "## Copiando e Clonando Listas"
      ],
      "metadata": {
        "id": "bl0WowDh6M1r"
      }
    },
    {
      "cell_type": "markdown",
      "metadata": {
        "id": "VlwXoOWGFoM2"
      },
      "source": [
        "Quando declaramos uma nova variável e igualamos a uma lista ela na verdade vira um “clone” da lista original. Qualquer modificação em uma das duas irá impactar as duas."
      ]
    },
    {
      "cell_type": "markdown",
      "source": [
        "#### Exemplo: Clonando uma Lista"
      ],
      "metadata": {
        "id": "OeqiGkrY6S0m"
      }
    },
    {
      "cell_type": "markdown",
      "metadata": {
        "id": "4uPK4v1IFvD2"
      },
      "source": [
        "Crie uma lista:\n",
        "```\n",
        "l1 = [0, 2, 6, 4, 8, 1, 3]\n",
        "```\n",
        "Em seguida faça:\n",
        "```\n",
        "l2 = l1\n",
        "```\n",
        "Delete o último termo da lista `l2` e imprima as duas listas."
      ]
    },
    {
      "cell_type": "code",
      "metadata": {
        "colab": {
          "base_uri": "https://localhost:8080/"
        },
        "id": "fSc1HAhfGI0W",
        "outputId": "eabad887-646c-467c-cf41-4dba596fab79"
      },
      "source": [
        "# Declarando lista:\n",
        "l1 = [0, 2, 6, 4, 8, 1, 3]\n",
        "l2 = l1\n",
        "print(f'l1 = {l1}')\n",
        "\n",
        "# Deletando último valor e plotando resultados\n",
        "l2.pop()\n",
        "print(f'l1 = {l1}')\n",
        "print(f'l2 = {l2}')"
      ],
      "execution_count": 9,
      "outputs": [
        {
          "output_type": "stream",
          "name": "stdout",
          "text": [
            "l1 = [0, 2, 6, 4, 8, 1, 3]\n",
            "l1 = [0, 2, 6, 4, 8, 1]\n",
            "l2 = [0, 2, 6, 4, 8, 1]\n"
          ]
        }
      ]
    },
    {
      "cell_type": "markdown",
      "metadata": {
        "id": "haCJFErVGcwj"
      },
      "source": [
        "Observe que fazer:\n",
        "```\n",
        "l2 = l1\n",
        "```\n",
        "A gente acaba clonando as listas. Elas estão ocupando o mesmo espaço de memória do computador, portanto, qualquer modificação feita em uma também será feita na outra então muito cuidado na hora de clonar as listas.\n",
        "\n",
        "Se quisermos criar uma cópia da lista para que essa segunda possa ser modificada à vontade devemos utilizar a seguinte sintaxe:\n",
        "\n",
        "```\n",
        "l2 = l1[:]\n",
        "```"
      ]
    },
    {
      "cell_type": "markdown",
      "source": [
        "#### Exemplo: Copiando uma Lista"
      ],
      "metadata": {
        "id": "fAnhXfV06ZNY"
      }
    },
    {
      "cell_type": "markdown",
      "source": [
        "Execute o mesmo exemplo anterior só que agora copiando a lista ao invés de clonar."
      ],
      "metadata": {
        "id": "82OziE_q6ckt"
      }
    },
    {
      "cell_type": "code",
      "metadata": {
        "colab": {
          "base_uri": "https://localhost:8080/"
        },
        "id": "HoSPv3kAHFod",
        "outputId": "fee7ca02-0f23-4488-be73-5613dc713eab"
      },
      "source": [
        "# Declarando lista:\n",
        "l1 = [0, 2, 6, 4, 8, 1, 3]\n",
        "l2 = l1[:]\n",
        "print(f'l1 = {l1}')\n",
        "\n",
        "# Deletando último valor e plotando resultados\n",
        "l2.pop()\n",
        "print(f'l1 = {l1}')\n",
        "print(f'l2 = {l2}')"
      ],
      "execution_count": 10,
      "outputs": [
        {
          "output_type": "stream",
          "name": "stdout",
          "text": [
            "l1 = [0, 2, 6, 4, 8, 1, 3]\n",
            "l1 = [0, 2, 6, 4, 8, 1, 3]\n",
            "l2 = [0, 2, 6, 4, 8, 1]\n"
          ]
        }
      ]
    },
    {
      "cell_type": "markdown",
      "metadata": {
        "id": "_MPnD8yuHPeY"
      },
      "source": [
        "## Listas com Loop `for`"
      ]
    },
    {
      "cell_type": "markdown",
      "source": [
        "A utilização das listas dentro de loopings é bem similar às tuplas. A diferença é que agora podemos modificar as listas e utilizar os loopings para adicionar novos valores à lista."
      ],
      "metadata": {
        "id": "NbJFiKso7QIc"
      }
    },
    {
      "cell_type": "markdown",
      "source": [
        "#### Exemplo: Listas de Mesmo Comprimento"
      ],
      "metadata": {
        "id": "7U4ZgVPA7Z8U"
      }
    },
    {
      "cell_type": "markdown",
      "metadata": {
        "id": "G31pZEWzHfHY"
      },
      "source": [
        "Dada as listas abaixo:\n",
        "```\n",
        "l1 = [0, 2, 6, 4, 8, 1, 3]\n",
        "l2 = [3, 2, 1, 7, 8, 2, 5]\n",
        "```\n",
        "Crie uma nova lista que será a soma de termo a termo da l1 com a l2."
      ]
    },
    {
      "cell_type": "code",
      "metadata": {
        "colab": {
          "base_uri": "https://localhost:8080/"
        },
        "id": "I6Wp70DOHeZ9",
        "outputId": "4c77b99d-6148-4913-a3b6-f4acf1c7dbce"
      },
      "source": [
        "# Declarando as listas:\n",
        "l1 = [0, 2, 6, 4, 8, 1, 3]\n",
        "l2 = [3, 2, 1, 7, 8, 2, 5]\n",
        "l3 = []\n",
        "\n",
        "for i, lista in enumerate(l1):\n",
        "  l3.append(l1[i] + l2[i])\n",
        "  print(f'{l1[i]} + {l2[i]} = {l3[i]}')\n",
        "print(l3)"
      ],
      "execution_count": 11,
      "outputs": [
        {
          "output_type": "stream",
          "name": "stdout",
          "text": [
            "0 + 3 = 3\n",
            "2 + 2 = 4\n",
            "6 + 1 = 7\n",
            "4 + 7 = 11\n",
            "8 + 8 = 16\n",
            "1 + 2 = 3\n",
            "3 + 5 = 8\n",
            "[3, 4, 7, 11, 16, 3, 8]\n"
          ]
        }
      ]
    },
    {
      "cell_type": "markdown",
      "source": [
        "#### Exemplo: Listas de Comprimentos Diferentes"
      ],
      "metadata": {
        "id": "9mTyT-KH7pIn"
      }
    },
    {
      "cell_type": "markdown",
      "metadata": {
        "id": "Wn2QJJY0IXw0"
      },
      "source": [
        "Dadas as listas abaixo:\n",
        "```\n",
        "l1 = [0, 2, 6, 4, 8, 1, 3]\n",
        "l2 = [3, 2, 1, 7, 8]\n",
        "```\n",
        "Execute o mesmo código do exemplo anterior."
      ]
    },
    {
      "cell_type": "code",
      "metadata": {
        "colab": {
          "base_uri": "https://localhost:8080/",
          "height": 322
        },
        "id": "y12oeHFpIfaY",
        "outputId": "2980533f-f6f3-4290-89be-ef595aa7f5a6"
      },
      "source": [
        "# Declarando as listas:\n",
        "l1 = [0, 2, 6, 4, 8, 1, 3]\n",
        "l2 = [3, 2, 1, 7, 8]\n",
        "l3 = []\n",
        "\n",
        "for i, lista in enumerate(l1):\n",
        "  l3.append(l1[i] + l2[i])\n",
        "  print(f'{l1[i]} + {l2[i]} = {l3[i]}')\n",
        "print(l3)"
      ],
      "execution_count": 12,
      "outputs": [
        {
          "output_type": "stream",
          "name": "stdout",
          "text": [
            "0 + 3 = 3\n",
            "2 + 2 = 4\n",
            "6 + 1 = 7\n",
            "4 + 7 = 11\n",
            "8 + 8 = 16\n"
          ]
        },
        {
          "output_type": "error",
          "ename": "IndexError",
          "evalue": "ignored",
          "traceback": [
            "\u001b[0;31m---------------------------------------------------------------------------\u001b[0m",
            "\u001b[0;31mIndexError\u001b[0m                                Traceback (most recent call last)",
            "\u001b[0;32m<ipython-input-12-8e080d006670>\u001b[0m in \u001b[0;36m<module>\u001b[0;34m()\u001b[0m\n\u001b[1;32m      5\u001b[0m \u001b[0;34m\u001b[0m\u001b[0m\n\u001b[1;32m      6\u001b[0m \u001b[0;32mfor\u001b[0m \u001b[0mi\u001b[0m\u001b[0;34m,\u001b[0m \u001b[0mlista\u001b[0m \u001b[0;32min\u001b[0m \u001b[0menumerate\u001b[0m\u001b[0;34m(\u001b[0m\u001b[0ml1\u001b[0m\u001b[0;34m)\u001b[0m\u001b[0;34m:\u001b[0m\u001b[0;34m\u001b[0m\u001b[0;34m\u001b[0m\u001b[0m\n\u001b[0;32m----> 7\u001b[0;31m   \u001b[0ml3\u001b[0m\u001b[0;34m.\u001b[0m\u001b[0mappend\u001b[0m\u001b[0;34m(\u001b[0m\u001b[0ml1\u001b[0m\u001b[0;34m[\u001b[0m\u001b[0mi\u001b[0m\u001b[0;34m]\u001b[0m \u001b[0;34m+\u001b[0m \u001b[0ml2\u001b[0m\u001b[0;34m[\u001b[0m\u001b[0mi\u001b[0m\u001b[0;34m]\u001b[0m\u001b[0;34m)\u001b[0m\u001b[0;34m\u001b[0m\u001b[0;34m\u001b[0m\u001b[0m\n\u001b[0m\u001b[1;32m      8\u001b[0m   \u001b[0mprint\u001b[0m\u001b[0;34m(\u001b[0m\u001b[0;34mf'{l1[i]} + {l2[i]} = {l3[i]}'\u001b[0m\u001b[0;34m)\u001b[0m\u001b[0;34m\u001b[0m\u001b[0;34m\u001b[0m\u001b[0m\n\u001b[1;32m      9\u001b[0m \u001b[0mprint\u001b[0m\u001b[0;34m(\u001b[0m\u001b[0ml3\u001b[0m\u001b[0;34m)\u001b[0m\u001b[0;34m\u001b[0m\u001b[0;34m\u001b[0m\u001b[0m\n",
            "\u001b[0;31mIndexError\u001b[0m: list index out of range"
          ]
        }
      ]
    },
    {
      "cell_type": "markdown",
      "metadata": {
        "id": "QQXPyvoKInMA"
      },
      "source": [
        "Observe que o erro dado acima é porque tentamos acessar o `l2[5]` que na verdade não existe.\n",
        "\n",
        "Para contornarmos esse erro podemos primeiro descobrir qual é a menor lista para depois colocarmos esta dentro do `enumerate()`\n",
        "\n",
        "Mas tem um método bem mais fácil que é usar a função `zip`\n",
        "\n",
        "```\n",
        "for val1, val2 in zip(l1, l2):\n",
        "```\n",
        "Essa função fará com que o passo do for ande sempre junto para as 2 listas (ou tuplas). Assim, as variáveis `val1` e `val2` vão ter sempre os valores das respectivas posições do passo do for."
      ]
    },
    {
      "cell_type": "markdown",
      "source": [
        "#### Exemplo: Utilizando a Função `zip`"
      ],
      "metadata": {
        "id": "nUn1JSTt7ujg"
      }
    },
    {
      "cell_type": "markdown",
      "source": [
        "Adapte o código anterior usando o `zip`."
      ],
      "metadata": {
        "id": "as4fBJc67w1o"
      }
    },
    {
      "cell_type": "code",
      "metadata": {
        "colab": {
          "base_uri": "https://localhost:8080/"
        },
        "id": "feJ4YwSYJnKu",
        "outputId": "81b19da4-93fd-457f-b504-d0a87a47c9b8"
      },
      "source": [
        "# Declarando as listas:\n",
        "l1 = [0, 2, 6, 4, 8, 1, 3]\n",
        "l2 = [3, 2, 1, 7, 8]\n",
        "l3 = []\n",
        "\n",
        "for v1, v2 in zip(l1, l2):\n",
        "  l3.append(v1 + v2)\n",
        "  print(f'{v1} + {v2} = {l3[-1]}')\n",
        "print(l3)"
      ],
      "execution_count": 13,
      "outputs": [
        {
          "output_type": "stream",
          "name": "stdout",
          "text": [
            "0 + 3 = 3\n",
            "2 + 2 = 4\n",
            "6 + 1 = 7\n",
            "4 + 7 = 11\n",
            "8 + 8 = 16\n",
            "[3, 4, 7, 11, 16]\n"
          ]
        }
      ]
    },
    {
      "cell_type": "markdown",
      "metadata": {
        "id": "av_vl-l4J4oC"
      },
      "source": [
        "Observe neste caso que já que as listas não possuem o mesmo tamanho o for irá rodar uma quantidade de passos equivalente a quantidade de posições da menor lista."
      ]
    }
  ]
}